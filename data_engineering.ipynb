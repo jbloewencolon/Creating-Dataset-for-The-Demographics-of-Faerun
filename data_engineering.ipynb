{
  "nbformat": 4,
  "nbformat_minor": 0,
  "metadata": {
    "colab": {
      "provenance": [],
      "toc_visible": true,
      "mount_file_id": "1mS8-Ddi19cWTQBFOyaXRRHx6zJT5LmZd",
      "authorship_tag": "ABX9TyOSycwPWYbgLUYQQx7uJkfV",
      "include_colab_link": true
    },
    "kernelspec": {
      "name": "python3",
      "display_name": "Python 3"
    },
    "language_info": {
      "name": "python"
    }
  },
  "cells": [
    {
      "cell_type": "markdown",
      "metadata": {
        "id": "view-in-github",
        "colab_type": "text"
      },
      "source": [
        "<a href=\"https://colab.research.google.com/github/jbloewencolon/Creating-Dataset-for-The-Demographics-of-Faerun/blob/main/data_engineering.ipynb\" target=\"_parent\"><img src=\"https://colab.research.google.com/assets/colab-badge.svg\" alt=\"Open In Colab\"/></a>"
      ]
    },
    {
      "cell_type": "markdown",
      "source": [
        "# Imports"
      ],
      "metadata": {
        "id": "-J9kmiEOdKeZ"
      }
    },
    {
      "cell_type": "code",
      "source": [
        "import pandas as pd\n",
        "import numpy as np\n",
        "import random\n",
        "import ast"
      ],
      "metadata": {
        "id": "GRaC-zagdQGq"
      },
      "execution_count": null,
      "outputs": []
    },
    {
      "cell_type": "code",
      "source": [
        "# File path\n",
        "df_file_path = '/content/drive/MyDrive/Colab Notebooks/DnD/fictional_data.xlsx'\n",
        "idf_file_path = '/content/drive/MyDrive/Colab Notebooks/DnD/idf_dataset.csv'\n",
        "\n",
        "# Read the Excel file into a DataFrame\n",
        "df = pd.read_excel(df_file_path)\n",
        "\n",
        "# Read the Excel file into a DataFrame\n",
        "idf = pd.read_csv(idf_file_path)"
      ],
      "metadata": {
        "colab": {
          "base_uri": "https://localhost:8080/"
        },
        "id": "f9oTk0_21QW2",
        "outputId": "b4efbedf-2ca9-4855-efae-013162a3e66a"
      },
      "execution_count": null,
      "outputs": [
        {
          "output_type": "stream",
          "name": "stdout",
          "text": [
            "DataFrame exported to: /content/drive/MyDrive/Colab Notebooks/DnD/fictional_data.xlsx\n"
          ]
        }
      ]
    },
    {
      "cell_type": "code",
      "source": [
        "df.info()"
      ],
      "metadata": {
        "colab": {
          "base_uri": "https://localhost:8080/"
        },
        "id": "7cpMqvCW3ggV",
        "outputId": "b374d7c6-2b92-4e94-a9fe-f7eea13d59f8"
      },
      "execution_count": null,
      "outputs": [
        {
          "output_type": "stream",
          "name": "stdout",
          "text": [
            "<class 'pandas.core.frame.DataFrame'>\n",
            "RangeIndex: 648 entries, 0 to 647\n",
            "Data columns (total 27 columns):\n",
            " #   Column                      Non-Null Count  Dtype  \n",
            "---  ------                      --------------  -----  \n",
            " 0   settlement                  648 non-null    object \n",
            " 1   region_kingdom              648 non-null    object \n",
            " 2   capital                     648 non-null    object \n",
            " 3   settlement_population       648 non-null    int64  \n",
            " 4   settlement_economy          648 non-null    int64  \n",
            " 5   rumored_treasure_value      648 non-null    int64  \n",
            " 6   demographic_breakdown       648 non-null    object \n",
            " 7   average_age                 648 non-null    int64  \n",
            " 8   most_likely_cause_of_death  648 non-null    object \n",
            " 9   government_type             648 non-null    object \n",
            " 10  class_density               648 non-null    object \n",
            " 11  tax_rate                    648 non-null    int64  \n",
            " 12  exports                     647 non-null    object \n",
            " 13  imports                     623 non-null    object \n",
            " 14  ruler                       536 non-null    object \n",
            " 15  military                    648 non-null    object \n",
            " 16  magic_academy               648 non-null    object \n",
            " 17  languages                   646 non-null    object \n",
            " 18  religions                   645 non-null    object \n",
            " 19  region_population           648 non-null    int64  \n",
            " 20  region_economy              648 non-null    int64  \n",
            " 21  area                        365 non-null    float64\n",
            " 22  average_temperature         648 non-null    float64\n",
            " 23  annual_rainfall             648 non-null    float64\n",
            " 24  magical_climate             648 non-null    int64  \n",
            " 25  dragon_sightings            648 non-null    int64  \n",
            " 26  sources                     538 non-null    object \n",
            "dtypes: float64(3), int64(9), object(15)\n",
            "memory usage: 136.8+ KB\n"
          ]
        }
      ]
    },
    {
      "cell_type": "markdown",
      "source": [
        "# Data Understanding"
      ],
      "metadata": {
        "id": "H7M_GS3BdTfN"
      }
    },
    {
      "cell_type": "code",
      "source": [
        "df.head()"
      ],
      "metadata": {
        "colab": {
          "base_uri": "https://localhost:8080/",
          "height": 776
        },
        "id": "lQLufd0ODKIs",
        "outputId": "21f61acc-488d-4e65-f16a-35898e15f143"
      },
      "execution_count": null,
      "outputs": [
        {
          "output_type": "execute_result",
          "data": {
            "text/plain": [
              "         settlement region_kingdom   capital  settlement_population  \\\n",
              "0          Athkatla            Amn  Athkatla                 116163   \n",
              "1          Amnwater            Amn  Athkatla                   7035   \n",
              "2     Citadel Amnur            Amn  Athkatla                    636   \n",
              "3  Citadel Rashturl            Amn  Athkatla                    710   \n",
              "4         Coryllvol            Amn  Athkatla                  23000   \n",
              "\n",
              "   settlement_economy  rumored_treasure_value  \\\n",
              "0            34272222                  526941   \n",
              "1             1092226                    1122   \n",
              "2               81796                      81   \n",
              "3              102127                     102   \n",
              "4             4192755                    9199   \n",
              "\n",
              "                               demographic_breakdown  average_age  \\\n",
              "0  {'humans': 116046, 'halflings': 116, 'half-orc...           39   \n",
              "1  {'humans': 2335, 'halflings': 4699, 'half-orcs...           55   \n",
              "2  {'humans': 580, 'halflings': 55, 'half-orcs': ...           43   \n",
              "3  {'humans': 487, 'halflings': 222, 'half-orcs':...           49   \n",
              "4  {'humans': 5842, 'halflings': 17158, 'half-orc...           58   \n",
              "\n",
              "  most_likely_cause_of_death  government_type  ...                 languages  \\\n",
              "0     Work-related accidents  ['Confederacy']  ...  ['Chondathan', 'Common']   \n",
              "1             Bandit attacks   ['Matriarchy']  ...  ['Chondathan', 'Common']   \n",
              "2              Assassination   ['Patriarchy']  ...  ['Chondathan', 'Common']   \n",
              "3                     Poison     ['Monarchy']  ...  ['Chondathan', 'Common']   \n",
              "4                 Starvation  ['Kleptocracy']  ...  ['Chondathan', 'Common']   \n",
              "\n",
              "                                           religions region_population  \\\n",
              "0  ['Bane', 'Chauntea', 'Cyric', 'Selûne', 'Sune'...           2920094   \n",
              "1  ['Bane', 'Chauntea', 'Cyric', 'Selûne', 'Sune'...           2920094   \n",
              "2  ['Bane', 'Chauntea', 'Cyric', 'Selûne', 'Sune'...           2920094   \n",
              "3  ['Bane', 'Chauntea', 'Cyric', 'Selûne', 'Sune'...           2920094   \n",
              "4  ['Bane', 'Chauntea', 'Cyric', 'Selûne', 'Sune'...           2920094   \n",
              "\n",
              "  region_economy area average_temperature annual_rainfall magical_climate  \\\n",
              "0         403450  NaN                58.0            36.6              68   \n",
              "1         403450  NaN                67.6            38.2              82   \n",
              "2         403450  NaN                69.1            44.6              56   \n",
              "3         403450  NaN                52.5            49.4              76   \n",
              "4         403450  NaN                57.1            43.3              56   \n",
              "\n",
              "  dragon_sightings                                            sources  \n",
              "0                1  Empires of the Sands - Scott Haring, 1988, Lan...  \n",
              "1                0  Empires of the Sands - Scott Haring, 1988, Lan...  \n",
              "2                0  Empires of the Sands - Scott Haring, 1988, Lan...  \n",
              "3                0  Empires of the Sands - Scott Haring, 1988, Lan...  \n",
              "4                1  Empires of the Sands - Scott Haring, 1988, Lan...  \n",
              "\n",
              "[5 rows x 27 columns]"
            ],
            "text/html": [
              "\n",
              "  <div id=\"df-02f97102-bf58-482a-97f3-9fb39cde58d9\" class=\"colab-df-container\">\n",
              "    <div>\n",
              "<style scoped>\n",
              "    .dataframe tbody tr th:only-of-type {\n",
              "        vertical-align: middle;\n",
              "    }\n",
              "\n",
              "    .dataframe tbody tr th {\n",
              "        vertical-align: top;\n",
              "    }\n",
              "\n",
              "    .dataframe thead th {\n",
              "        text-align: right;\n",
              "    }\n",
              "</style>\n",
              "<table border=\"1\" class=\"dataframe\">\n",
              "  <thead>\n",
              "    <tr style=\"text-align: right;\">\n",
              "      <th></th>\n",
              "      <th>settlement</th>\n",
              "      <th>region_kingdom</th>\n",
              "      <th>capital</th>\n",
              "      <th>settlement_population</th>\n",
              "      <th>settlement_economy</th>\n",
              "      <th>rumored_treasure_value</th>\n",
              "      <th>demographic_breakdown</th>\n",
              "      <th>average_age</th>\n",
              "      <th>most_likely_cause_of_death</th>\n",
              "      <th>government_type</th>\n",
              "      <th>...</th>\n",
              "      <th>languages</th>\n",
              "      <th>religions</th>\n",
              "      <th>region_population</th>\n",
              "      <th>region_economy</th>\n",
              "      <th>area</th>\n",
              "      <th>average_temperature</th>\n",
              "      <th>annual_rainfall</th>\n",
              "      <th>magical_climate</th>\n",
              "      <th>dragon_sightings</th>\n",
              "      <th>sources</th>\n",
              "    </tr>\n",
              "  </thead>\n",
              "  <tbody>\n",
              "    <tr>\n",
              "      <th>0</th>\n",
              "      <td>Athkatla</td>\n",
              "      <td>Amn</td>\n",
              "      <td>Athkatla</td>\n",
              "      <td>116163</td>\n",
              "      <td>34272222</td>\n",
              "      <td>526941</td>\n",
              "      <td>{'humans': 116046, 'halflings': 116, 'half-orc...</td>\n",
              "      <td>39</td>\n",
              "      <td>Work-related accidents</td>\n",
              "      <td>['Confederacy']</td>\n",
              "      <td>...</td>\n",
              "      <td>['Chondathan', 'Common']</td>\n",
              "      <td>['Bane', 'Chauntea', 'Cyric', 'Selûne', 'Sune'...</td>\n",
              "      <td>2920094</td>\n",
              "      <td>403450</td>\n",
              "      <td>NaN</td>\n",
              "      <td>58.0</td>\n",
              "      <td>36.6</td>\n",
              "      <td>68</td>\n",
              "      <td>1</td>\n",
              "      <td>Empires of the Sands - Scott Haring, 1988, Lan...</td>\n",
              "    </tr>\n",
              "    <tr>\n",
              "      <th>1</th>\n",
              "      <td>Amnwater</td>\n",
              "      <td>Amn</td>\n",
              "      <td>Athkatla</td>\n",
              "      <td>7035</td>\n",
              "      <td>1092226</td>\n",
              "      <td>1122</td>\n",
              "      <td>{'humans': 2335, 'halflings': 4699, 'half-orcs...</td>\n",
              "      <td>55</td>\n",
              "      <td>Bandit attacks</td>\n",
              "      <td>['Matriarchy']</td>\n",
              "      <td>...</td>\n",
              "      <td>['Chondathan', 'Common']</td>\n",
              "      <td>['Bane', 'Chauntea', 'Cyric', 'Selûne', 'Sune'...</td>\n",
              "      <td>2920094</td>\n",
              "      <td>403450</td>\n",
              "      <td>NaN</td>\n",
              "      <td>67.6</td>\n",
              "      <td>38.2</td>\n",
              "      <td>82</td>\n",
              "      <td>0</td>\n",
              "      <td>Empires of the Sands - Scott Haring, 1988, Lan...</td>\n",
              "    </tr>\n",
              "    <tr>\n",
              "      <th>2</th>\n",
              "      <td>Citadel Amnur</td>\n",
              "      <td>Amn</td>\n",
              "      <td>Athkatla</td>\n",
              "      <td>636</td>\n",
              "      <td>81796</td>\n",
              "      <td>81</td>\n",
              "      <td>{'humans': 580, 'halflings': 55, 'half-orcs': ...</td>\n",
              "      <td>43</td>\n",
              "      <td>Assassination</td>\n",
              "      <td>['Patriarchy']</td>\n",
              "      <td>...</td>\n",
              "      <td>['Chondathan', 'Common']</td>\n",
              "      <td>['Bane', 'Chauntea', 'Cyric', 'Selûne', 'Sune'...</td>\n",
              "      <td>2920094</td>\n",
              "      <td>403450</td>\n",
              "      <td>NaN</td>\n",
              "      <td>69.1</td>\n",
              "      <td>44.6</td>\n",
              "      <td>56</td>\n",
              "      <td>0</td>\n",
              "      <td>Empires of the Sands - Scott Haring, 1988, Lan...</td>\n",
              "    </tr>\n",
              "    <tr>\n",
              "      <th>3</th>\n",
              "      <td>Citadel Rashturl</td>\n",
              "      <td>Amn</td>\n",
              "      <td>Athkatla</td>\n",
              "      <td>710</td>\n",
              "      <td>102127</td>\n",
              "      <td>102</td>\n",
              "      <td>{'humans': 487, 'halflings': 222, 'half-orcs':...</td>\n",
              "      <td>49</td>\n",
              "      <td>Poison</td>\n",
              "      <td>['Monarchy']</td>\n",
              "      <td>...</td>\n",
              "      <td>['Chondathan', 'Common']</td>\n",
              "      <td>['Bane', 'Chauntea', 'Cyric', 'Selûne', 'Sune'...</td>\n",
              "      <td>2920094</td>\n",
              "      <td>403450</td>\n",
              "      <td>NaN</td>\n",
              "      <td>52.5</td>\n",
              "      <td>49.4</td>\n",
              "      <td>76</td>\n",
              "      <td>0</td>\n",
              "      <td>Empires of the Sands - Scott Haring, 1988, Lan...</td>\n",
              "    </tr>\n",
              "    <tr>\n",
              "      <th>4</th>\n",
              "      <td>Coryllvol</td>\n",
              "      <td>Amn</td>\n",
              "      <td>Athkatla</td>\n",
              "      <td>23000</td>\n",
              "      <td>4192755</td>\n",
              "      <td>9199</td>\n",
              "      <td>{'humans': 5842, 'halflings': 17158, 'half-orc...</td>\n",
              "      <td>58</td>\n",
              "      <td>Starvation</td>\n",
              "      <td>['Kleptocracy']</td>\n",
              "      <td>...</td>\n",
              "      <td>['Chondathan', 'Common']</td>\n",
              "      <td>['Bane', 'Chauntea', 'Cyric', 'Selûne', 'Sune'...</td>\n",
              "      <td>2920094</td>\n",
              "      <td>403450</td>\n",
              "      <td>NaN</td>\n",
              "      <td>57.1</td>\n",
              "      <td>43.3</td>\n",
              "      <td>56</td>\n",
              "      <td>1</td>\n",
              "      <td>Empires of the Sands - Scott Haring, 1988, Lan...</td>\n",
              "    </tr>\n",
              "  </tbody>\n",
              "</table>\n",
              "<p>5 rows × 27 columns</p>\n",
              "</div>\n",
              "    <div class=\"colab-df-buttons\">\n",
              "\n",
              "  <div class=\"colab-df-container\">\n",
              "    <button class=\"colab-df-convert\" onclick=\"convertToInteractive('df-02f97102-bf58-482a-97f3-9fb39cde58d9')\"\n",
              "            title=\"Convert this dataframe to an interactive table.\"\n",
              "            style=\"display:none;\">\n",
              "\n",
              "  <svg xmlns=\"http://www.w3.org/2000/svg\" height=\"24px\" viewBox=\"0 -960 960 960\">\n",
              "    <path d=\"M120-120v-720h720v720H120Zm60-500h600v-160H180v160Zm220 220h160v-160H400v160Zm0 220h160v-160H400v160ZM180-400h160v-160H180v160Zm440 0h160v-160H620v160ZM180-180h160v-160H180v160Zm440 0h160v-160H620v160Z\"/>\n",
              "  </svg>\n",
              "    </button>\n",
              "\n",
              "  <style>\n",
              "    .colab-df-container {\n",
              "      display:flex;\n",
              "      gap: 12px;\n",
              "    }\n",
              "\n",
              "    .colab-df-convert {\n",
              "      background-color: #E8F0FE;\n",
              "      border: none;\n",
              "      border-radius: 50%;\n",
              "      cursor: pointer;\n",
              "      display: none;\n",
              "      fill: #1967D2;\n",
              "      height: 32px;\n",
              "      padding: 0 0 0 0;\n",
              "      width: 32px;\n",
              "    }\n",
              "\n",
              "    .colab-df-convert:hover {\n",
              "      background-color: #E2EBFA;\n",
              "      box-shadow: 0px 1px 2px rgba(60, 64, 67, 0.3), 0px 1px 3px 1px rgba(60, 64, 67, 0.15);\n",
              "      fill: #174EA6;\n",
              "    }\n",
              "\n",
              "    .colab-df-buttons div {\n",
              "      margin-bottom: 4px;\n",
              "    }\n",
              "\n",
              "    [theme=dark] .colab-df-convert {\n",
              "      background-color: #3B4455;\n",
              "      fill: #D2E3FC;\n",
              "    }\n",
              "\n",
              "    [theme=dark] .colab-df-convert:hover {\n",
              "      background-color: #434B5C;\n",
              "      box-shadow: 0px 1px 3px 1px rgba(0, 0, 0, 0.15);\n",
              "      filter: drop-shadow(0px 1px 2px rgba(0, 0, 0, 0.3));\n",
              "      fill: #FFFFFF;\n",
              "    }\n",
              "  </style>\n",
              "\n",
              "    <script>\n",
              "      const buttonEl =\n",
              "        document.querySelector('#df-02f97102-bf58-482a-97f3-9fb39cde58d9 button.colab-df-convert');\n",
              "      buttonEl.style.display =\n",
              "        google.colab.kernel.accessAllowed ? 'block' : 'none';\n",
              "\n",
              "      async function convertToInteractive(key) {\n",
              "        const element = document.querySelector('#df-02f97102-bf58-482a-97f3-9fb39cde58d9');\n",
              "        const dataTable =\n",
              "          await google.colab.kernel.invokeFunction('convertToInteractive',\n",
              "                                                    [key], {});\n",
              "        if (!dataTable) return;\n",
              "\n",
              "        const docLinkHtml = 'Like what you see? Visit the ' +\n",
              "          '<a target=\"_blank\" href=https://colab.research.google.com/notebooks/data_table.ipynb>data table notebook</a>'\n",
              "          + ' to learn more about interactive tables.';\n",
              "        element.innerHTML = '';\n",
              "        dataTable['output_type'] = 'display_data';\n",
              "        await google.colab.output.renderOutput(dataTable, element);\n",
              "        const docLink = document.createElement('div');\n",
              "        docLink.innerHTML = docLinkHtml;\n",
              "        element.appendChild(docLink);\n",
              "      }\n",
              "    </script>\n",
              "  </div>\n",
              "\n",
              "\n",
              "<div id=\"df-6430466c-9fe3-4369-8cf5-07f1e5c7e5e3\">\n",
              "  <button class=\"colab-df-quickchart\" onclick=\"quickchart('df-6430466c-9fe3-4369-8cf5-07f1e5c7e5e3')\"\n",
              "            title=\"Suggest charts.\"\n",
              "            style=\"display:none;\">\n",
              "\n",
              "<svg xmlns=\"http://www.w3.org/2000/svg\" height=\"24px\"viewBox=\"0 0 24 24\"\n",
              "     width=\"24px\">\n",
              "    <g>\n",
              "        <path d=\"M19 3H5c-1.1 0-2 .9-2 2v14c0 1.1.9 2 2 2h14c1.1 0 2-.9 2-2V5c0-1.1-.9-2-2-2zM9 17H7v-7h2v7zm4 0h-2V7h2v10zm4 0h-2v-4h2v4z\"/>\n",
              "    </g>\n",
              "</svg>\n",
              "  </button>\n",
              "\n",
              "<style>\n",
              "  .colab-df-quickchart {\n",
              "      --bg-color: #E8F0FE;\n",
              "      --fill-color: #1967D2;\n",
              "      --hover-bg-color: #E2EBFA;\n",
              "      --hover-fill-color: #174EA6;\n",
              "      --disabled-fill-color: #AAA;\n",
              "      --disabled-bg-color: #DDD;\n",
              "  }\n",
              "\n",
              "  [theme=dark] .colab-df-quickchart {\n",
              "      --bg-color: #3B4455;\n",
              "      --fill-color: #D2E3FC;\n",
              "      --hover-bg-color: #434B5C;\n",
              "      --hover-fill-color: #FFFFFF;\n",
              "      --disabled-bg-color: #3B4455;\n",
              "      --disabled-fill-color: #666;\n",
              "  }\n",
              "\n",
              "  .colab-df-quickchart {\n",
              "    background-color: var(--bg-color);\n",
              "    border: none;\n",
              "    border-radius: 50%;\n",
              "    cursor: pointer;\n",
              "    display: none;\n",
              "    fill: var(--fill-color);\n",
              "    height: 32px;\n",
              "    padding: 0;\n",
              "    width: 32px;\n",
              "  }\n",
              "\n",
              "  .colab-df-quickchart:hover {\n",
              "    background-color: var(--hover-bg-color);\n",
              "    box-shadow: 0 1px 2px rgba(60, 64, 67, 0.3), 0 1px 3px 1px rgba(60, 64, 67, 0.15);\n",
              "    fill: var(--button-hover-fill-color);\n",
              "  }\n",
              "\n",
              "  .colab-df-quickchart-complete:disabled,\n",
              "  .colab-df-quickchart-complete:disabled:hover {\n",
              "    background-color: var(--disabled-bg-color);\n",
              "    fill: var(--disabled-fill-color);\n",
              "    box-shadow: none;\n",
              "  }\n",
              "\n",
              "  .colab-df-spinner {\n",
              "    border: 2px solid var(--fill-color);\n",
              "    border-color: transparent;\n",
              "    border-bottom-color: var(--fill-color);\n",
              "    animation:\n",
              "      spin 1s steps(1) infinite;\n",
              "  }\n",
              "\n",
              "  @keyframes spin {\n",
              "    0% {\n",
              "      border-color: transparent;\n",
              "      border-bottom-color: var(--fill-color);\n",
              "      border-left-color: var(--fill-color);\n",
              "    }\n",
              "    20% {\n",
              "      border-color: transparent;\n",
              "      border-left-color: var(--fill-color);\n",
              "      border-top-color: var(--fill-color);\n",
              "    }\n",
              "    30% {\n",
              "      border-color: transparent;\n",
              "      border-left-color: var(--fill-color);\n",
              "      border-top-color: var(--fill-color);\n",
              "      border-right-color: var(--fill-color);\n",
              "    }\n",
              "    40% {\n",
              "      border-color: transparent;\n",
              "      border-right-color: var(--fill-color);\n",
              "      border-top-color: var(--fill-color);\n",
              "    }\n",
              "    60% {\n",
              "      border-color: transparent;\n",
              "      border-right-color: var(--fill-color);\n",
              "    }\n",
              "    80% {\n",
              "      border-color: transparent;\n",
              "      border-right-color: var(--fill-color);\n",
              "      border-bottom-color: var(--fill-color);\n",
              "    }\n",
              "    90% {\n",
              "      border-color: transparent;\n",
              "      border-bottom-color: var(--fill-color);\n",
              "    }\n",
              "  }\n",
              "</style>\n",
              "\n",
              "  <script>\n",
              "    async function quickchart(key) {\n",
              "      const quickchartButtonEl =\n",
              "        document.querySelector('#' + key + ' button');\n",
              "      quickchartButtonEl.disabled = true;  // To prevent multiple clicks.\n",
              "      quickchartButtonEl.classList.add('colab-df-spinner');\n",
              "      try {\n",
              "        const charts = await google.colab.kernel.invokeFunction(\n",
              "            'suggestCharts', [key], {});\n",
              "      } catch (error) {\n",
              "        console.error('Error during call to suggestCharts:', error);\n",
              "      }\n",
              "      quickchartButtonEl.classList.remove('colab-df-spinner');\n",
              "      quickchartButtonEl.classList.add('colab-df-quickchart-complete');\n",
              "    }\n",
              "    (() => {\n",
              "      let quickchartButtonEl =\n",
              "        document.querySelector('#df-6430466c-9fe3-4369-8cf5-07f1e5c7e5e3 button');\n",
              "      quickchartButtonEl.style.display =\n",
              "        google.colab.kernel.accessAllowed ? 'block' : 'none';\n",
              "    })();\n",
              "  </script>\n",
              "</div>\n",
              "    </div>\n",
              "  </div>\n"
            ]
          },
          "metadata": {},
          "execution_count": 28
        }
      ]
    },
    {
      "cell_type": "code",
      "source": [
        "# Assuming you have a DataFrame 'df' with columns containing float values\n",
        "columns_to_convert = ['settlement_population', 'region_population', 'settlement_economy', 'rumored_treasure_value', 'region_economy']\n",
        "\n",
        "# Fill NaN values with 0 and convert infinity values to a large integer\n",
        "for column in columns_to_convert:\n",
        "    df[column] = df[column].fillna(0).replace([np.inf, -np.inf], np.nan).astype(int)\n",
        "\n",
        "# Use astype(int) to convert specified columns to integers\n",
        "df[columns_to_convert] = df[columns_to_convert].astype(int)"
      ],
      "metadata": {
        "id": "yhElEWm3ktdD"
      },
      "execution_count": null,
      "outputs": []
    },
    {
      "cell_type": "markdown",
      "source": [
        "# Determing Class Density and Generating Economy"
      ],
      "metadata": {
        "id": "b4HUaHkLNayy"
      }
    },
    {
      "cell_type": "code",
      "source": [
        "lifestyle_costs = {\n",
        "    'Wretched': 0,          # No cost\n",
        "    'Squalid': .1,           # 1 silver piece (sp) per day\n",
        "    'Poor': .2,              # 2 silver pieces (sp) per day\n",
        "    'Modest': 1,            # 1 gold piece (gp) per day\n",
        "    'Comfortable': 2,       # 2 gold pieces (gp) per day\n",
        "    'Wealthy': 4,           # 4 gold pieces (gp) per day\n",
        "    'Aristocratic': 10      # 10 gold pieces (gp) minimum per day\n",
        "}\n",
        "\n",
        "lifestyle_ranges = {\n",
        "    'tiny_settlement': {'Aristocratic': (0, 0.0001), 'Wealthy': (0, .05), 'Comfortable': (1, 10), 'Modest': (1, 20), 'Poor': (30, 35), 'Squalid': (10, 30), 'Wretched': (0, 0.001)},\n",
        "    'small_settlement': {'Aristocratic': (0, .005), 'Wealthy': (.05, 1), 'Comfortable': (4, 7), 'Modest': (7, 20),'Poor': (30, 35), 'Squalid': (15, 30), 'Wretched': (1, 2)},\n",
        "    'medium_settlement': {'Aristocratic': (0, .05), 'Wealthy': (1, 2), 'Comfortable': (6, 8), 'Modest': (10, 25),'Poor': (30, 35), 'Squalid': (18, 30), 'Wretched': (3, 8)},\n",
        "    'large_settlement': {'Aristocratic': (0, .5), 'Wealthy': (1, 3), 'Comfortable': (7, 13), 'Modest': (10, 20),'Poor': (30, 35), 'Squalid': (20, 40), 'Wretched': (5, 10)},\n",
        "    'mega_settlement': {'Aristocratic': (0, .8), 'Wealthy': (2, 3), 'Comfortable': (10, 15), 'Modest': (15, 30),'Poor': (30, 35), 'Squalid': (35, 50), 'Wretched': (8, 10)}\n",
        "}"
      ],
      "metadata": {
        "id": "vssyN2JLn6QV"
      },
      "execution_count": null,
      "outputs": []
    },
    {
      "cell_type": "code",
      "source": [
        "def assign_lifestyle_demographics(population):\n",
        "    total_economy = 0\n",
        "\n",
        "    # Step 1: Determine city_size\n",
        "    if population < 100:\n",
        "        city_size = 'tiny_settlement'\n",
        "    elif 100 <= population < 1000:\n",
        "        city_size = 'small_settlement'\n",
        "    elif 1000 <= population < 10000:\n",
        "        city_size = 'medium_settlement'\n",
        "    elif 10000 <= population < 100000:\n",
        "        city_size = 'large_settlement'\n",
        "    else:\n",
        "        city_size = 'mega_settlement'\n",
        "\n",
        "    # Step 2: Calculate class_density and total_economy\n",
        "    class_density = {}\n",
        "    for lifestyle, (start, end) in lifestyle_ranges[city_size].items():\n",
        "        percentage = random.uniform(start, end)\n",
        "        count = int(population * (percentage / 100))\n",
        "        class_density[lifestyle] = count\n",
        "        total_economy += count * lifestyle_costs[lifestyle] * 365\n",
        "\n",
        "    return class_density, total_economy\n",
        "\n",
        "# Then apply the function to your DataFrame\n",
        "df['class_density'], df['settlement_economy'] = zip(*df['settlement_population'].apply(assign_lifestyle_demographics))"
      ],
      "metadata": {
        "id": "99VCBCBn-Qyz",
        "colab": {
          "base_uri": "https://localhost:8080/",
          "height": 355
        },
        "outputId": "3a23cbb9-05a0-4995-9252-a14f380c74e0"
      },
      "execution_count": null,
      "outputs": [
        {
          "output_type": "error",
          "ename": "NameError",
          "evalue": "ignored",
          "traceback": [
            "\u001b[0;31m---------------------------------------------------------------------------\u001b[0m",
            "\u001b[0;31mNameError\u001b[0m                                 Traceback (most recent call last)",
            "\u001b[0;32m<ipython-input-6-4e9438538072>\u001b[0m in \u001b[0;36m<cell line: 27>\u001b[0;34m()\u001b[0m\n\u001b[1;32m     25\u001b[0m \u001b[0;34m\u001b[0m\u001b[0m\n\u001b[1;32m     26\u001b[0m \u001b[0;31m# Then apply the function to your DataFrame\u001b[0m\u001b[0;34m\u001b[0m\u001b[0;34m\u001b[0m\u001b[0m\n\u001b[0;32m---> 27\u001b[0;31m \u001b[0mdf\u001b[0m\u001b[0;34m[\u001b[0m\u001b[0;34m'class_density'\u001b[0m\u001b[0;34m]\u001b[0m\u001b[0;34m,\u001b[0m \u001b[0mdf\u001b[0m\u001b[0;34m[\u001b[0m\u001b[0;34m'settlement_economy'\u001b[0m\u001b[0;34m]\u001b[0m \u001b[0;34m=\u001b[0m \u001b[0mzip\u001b[0m\u001b[0;34m(\u001b[0m\u001b[0;34m*\u001b[0m\u001b[0mdf\u001b[0m\u001b[0;34m[\u001b[0m\u001b[0;34m'settlement_population'\u001b[0m\u001b[0;34m]\u001b[0m\u001b[0;34m.\u001b[0m\u001b[0mapply\u001b[0m\u001b[0;34m(\u001b[0m\u001b[0massign_lifestyle_demographics\u001b[0m\u001b[0;34m)\u001b[0m\u001b[0;34m)\u001b[0m\u001b[0;34m\u001b[0m\u001b[0;34m\u001b[0m\u001b[0m\n\u001b[0m",
            "\u001b[0;32m/usr/local/lib/python3.10/dist-packages/pandas/core/series.py\u001b[0m in \u001b[0;36mapply\u001b[0;34m(self, func, convert_dtype, args, **kwargs)\u001b[0m\n\u001b[1;32m   4769\u001b[0m         \u001b[0mdtype\u001b[0m\u001b[0;34m:\u001b[0m \u001b[0mfloat64\u001b[0m\u001b[0;34m\u001b[0m\u001b[0;34m\u001b[0m\u001b[0m\n\u001b[1;32m   4770\u001b[0m         \"\"\"\n\u001b[0;32m-> 4771\u001b[0;31m         \u001b[0;32mreturn\u001b[0m \u001b[0mSeriesApply\u001b[0m\u001b[0;34m(\u001b[0m\u001b[0mself\u001b[0m\u001b[0;34m,\u001b[0m \u001b[0mfunc\u001b[0m\u001b[0;34m,\u001b[0m \u001b[0mconvert_dtype\u001b[0m\u001b[0;34m,\u001b[0m \u001b[0margs\u001b[0m\u001b[0;34m,\u001b[0m \u001b[0mkwargs\u001b[0m\u001b[0;34m)\u001b[0m\u001b[0;34m.\u001b[0m\u001b[0mapply\u001b[0m\u001b[0;34m(\u001b[0m\u001b[0;34m)\u001b[0m\u001b[0;34m\u001b[0m\u001b[0;34m\u001b[0m\u001b[0m\n\u001b[0m\u001b[1;32m   4772\u001b[0m \u001b[0;34m\u001b[0m\u001b[0m\n\u001b[1;32m   4773\u001b[0m     def _reduce(\n",
            "\u001b[0;32m/usr/local/lib/python3.10/dist-packages/pandas/core/apply.py\u001b[0m in \u001b[0;36mapply\u001b[0;34m(self)\u001b[0m\n\u001b[1;32m   1121\u001b[0m \u001b[0;34m\u001b[0m\u001b[0m\n\u001b[1;32m   1122\u001b[0m         \u001b[0;31m# self.f is Callable\u001b[0m\u001b[0;34m\u001b[0m\u001b[0;34m\u001b[0m\u001b[0m\n\u001b[0;32m-> 1123\u001b[0;31m         \u001b[0;32mreturn\u001b[0m \u001b[0mself\u001b[0m\u001b[0;34m.\u001b[0m\u001b[0mapply_standard\u001b[0m\u001b[0;34m(\u001b[0m\u001b[0;34m)\u001b[0m\u001b[0;34m\u001b[0m\u001b[0;34m\u001b[0m\u001b[0m\n\u001b[0m\u001b[1;32m   1124\u001b[0m \u001b[0;34m\u001b[0m\u001b[0m\n\u001b[1;32m   1125\u001b[0m     \u001b[0;32mdef\u001b[0m \u001b[0magg\u001b[0m\u001b[0;34m(\u001b[0m\u001b[0mself\u001b[0m\u001b[0;34m)\u001b[0m\u001b[0;34m:\u001b[0m\u001b[0;34m\u001b[0m\u001b[0;34m\u001b[0m\u001b[0m\n",
            "\u001b[0;32m/usr/local/lib/python3.10/dist-packages/pandas/core/apply.py\u001b[0m in \u001b[0;36mapply_standard\u001b[0;34m(self)\u001b[0m\n\u001b[1;32m   1172\u001b[0m             \u001b[0;32melse\u001b[0m\u001b[0;34m:\u001b[0m\u001b[0;34m\u001b[0m\u001b[0;34m\u001b[0m\u001b[0m\n\u001b[1;32m   1173\u001b[0m                 \u001b[0mvalues\u001b[0m \u001b[0;34m=\u001b[0m \u001b[0mobj\u001b[0m\u001b[0;34m.\u001b[0m\u001b[0mastype\u001b[0m\u001b[0;34m(\u001b[0m\u001b[0mobject\u001b[0m\u001b[0;34m)\u001b[0m\u001b[0;34m.\u001b[0m\u001b[0m_values\u001b[0m\u001b[0;34m\u001b[0m\u001b[0;34m\u001b[0m\u001b[0m\n\u001b[0;32m-> 1174\u001b[0;31m                 mapped = lib.map_infer(\n\u001b[0m\u001b[1;32m   1175\u001b[0m                     \u001b[0mvalues\u001b[0m\u001b[0;34m,\u001b[0m\u001b[0;34m\u001b[0m\u001b[0;34m\u001b[0m\u001b[0m\n\u001b[1;32m   1176\u001b[0m                     \u001b[0mf\u001b[0m\u001b[0;34m,\u001b[0m\u001b[0;34m\u001b[0m\u001b[0;34m\u001b[0m\u001b[0m\n",
            "\u001b[0;32m/usr/local/lib/python3.10/dist-packages/pandas/_libs/lib.pyx\u001b[0m in \u001b[0;36mpandas._libs.lib.map_infer\u001b[0;34m()\u001b[0m\n",
            "\u001b[0;32m<ipython-input-6-4e9438538072>\u001b[0m in \u001b[0;36massign_lifestyle_demographics\u001b[0;34m(population)\u001b[0m\n\u001b[1;32m     16\u001b[0m     \u001b[0;31m# Step 2: Calculate class_density and total_economy\u001b[0m\u001b[0;34m\u001b[0m\u001b[0;34m\u001b[0m\u001b[0m\n\u001b[1;32m     17\u001b[0m     \u001b[0mclass_density\u001b[0m \u001b[0;34m=\u001b[0m \u001b[0;34m{\u001b[0m\u001b[0;34m}\u001b[0m\u001b[0;34m\u001b[0m\u001b[0;34m\u001b[0m\u001b[0m\n\u001b[0;32m---> 18\u001b[0;31m     \u001b[0;32mfor\u001b[0m \u001b[0mlifestyle\u001b[0m\u001b[0;34m,\u001b[0m \u001b[0;34m(\u001b[0m\u001b[0mstart\u001b[0m\u001b[0;34m,\u001b[0m \u001b[0mend\u001b[0m\u001b[0;34m)\u001b[0m \u001b[0;32min\u001b[0m \u001b[0mlifestyle_ranges\u001b[0m\u001b[0;34m[\u001b[0m\u001b[0mcity_size\u001b[0m\u001b[0;34m]\u001b[0m\u001b[0;34m.\u001b[0m\u001b[0mitems\u001b[0m\u001b[0;34m(\u001b[0m\u001b[0;34m)\u001b[0m\u001b[0;34m:\u001b[0m\u001b[0;34m\u001b[0m\u001b[0;34m\u001b[0m\u001b[0m\n\u001b[0m\u001b[1;32m     19\u001b[0m         \u001b[0mpercentage\u001b[0m \u001b[0;34m=\u001b[0m \u001b[0mrandom\u001b[0m\u001b[0;34m.\u001b[0m\u001b[0muniform\u001b[0m\u001b[0;34m(\u001b[0m\u001b[0mstart\u001b[0m\u001b[0;34m,\u001b[0m \u001b[0mend\u001b[0m\u001b[0;34m)\u001b[0m\u001b[0;34m\u001b[0m\u001b[0;34m\u001b[0m\u001b[0m\n\u001b[1;32m     20\u001b[0m         \u001b[0mcount\u001b[0m \u001b[0;34m=\u001b[0m \u001b[0mint\u001b[0m\u001b[0;34m(\u001b[0m\u001b[0mpopulation\u001b[0m \u001b[0;34m*\u001b[0m \u001b[0;34m(\u001b[0m\u001b[0mpercentage\u001b[0m \u001b[0;34m/\u001b[0m \u001b[0;36m100\u001b[0m\u001b[0;34m)\u001b[0m\u001b[0;34m)\u001b[0m\u001b[0;34m\u001b[0m\u001b[0;34m\u001b[0m\u001b[0m\n",
            "\u001b[0;31mNameError\u001b[0m: name 'lifestyle_ranges' is not defined"
          ]
        }
      ]
    },
    {
      "cell_type": "code",
      "source": [
        "# Create an empty dictionary to store the total sum of each lifestyle category\n",
        "total_class_density = {}\n",
        "\n",
        "# Assuming you have a DataFrame 'df' with columns containing float values\n",
        "for _, row in df.iterrows():\n",
        "    class_density, _ = assign_lifestyle_demographics(row['settlement_population'])\n",
        "\n",
        "    # Add the counts to the total_class_density dictionary\n",
        "    for lifestyle, count in class_density.items():\n",
        "        total_class_density[lifestyle] = total_class_density.get(lifestyle, 0) + count\n",
        "\n",
        "# Print the total sum of each lifestyle category across all settlements\n",
        "for lifestyle, total_count in total_class_density.items():\n",
        "    print(f\"Total {lifestyle} count: {total_count}\")"
      ],
      "metadata": {
        "colab": {
          "base_uri": "https://localhost:8080/",
          "height": 245
        },
        "id": "7DNdK2qUlf0D",
        "outputId": "5d952ecb-3053-4f1b-d2ae-7a3eeb00f5c7"
      },
      "execution_count": null,
      "outputs": [
        {
          "output_type": "error",
          "ename": "NameError",
          "evalue": "ignored",
          "traceback": [
            "\u001b[0;31m---------------------------------------------------------------------------\u001b[0m",
            "\u001b[0;31mNameError\u001b[0m                                 Traceback (most recent call last)",
            "\u001b[0;32m<ipython-input-5-6c87ef3bdddb>\u001b[0m in \u001b[0;36m<cell line: 5>\u001b[0;34m()\u001b[0m\n\u001b[1;32m      4\u001b[0m \u001b[0;31m# Assuming you have a DataFrame 'df' with columns containing float values\u001b[0m\u001b[0;34m\u001b[0m\u001b[0;34m\u001b[0m\u001b[0m\n\u001b[1;32m      5\u001b[0m \u001b[0;32mfor\u001b[0m \u001b[0m_\u001b[0m\u001b[0;34m,\u001b[0m \u001b[0mrow\u001b[0m \u001b[0;32min\u001b[0m \u001b[0mdf\u001b[0m\u001b[0;34m.\u001b[0m\u001b[0miterrows\u001b[0m\u001b[0;34m(\u001b[0m\u001b[0;34m)\u001b[0m\u001b[0;34m:\u001b[0m\u001b[0;34m\u001b[0m\u001b[0;34m\u001b[0m\u001b[0m\n\u001b[0;32m----> 6\u001b[0;31m     \u001b[0mclass_density\u001b[0m\u001b[0;34m,\u001b[0m \u001b[0m_\u001b[0m \u001b[0;34m=\u001b[0m \u001b[0massign_lifestyle_demographics\u001b[0m\u001b[0;34m(\u001b[0m\u001b[0mrow\u001b[0m\u001b[0;34m[\u001b[0m\u001b[0;34m'settlement_population'\u001b[0m\u001b[0;34m]\u001b[0m\u001b[0;34m)\u001b[0m\u001b[0;34m\u001b[0m\u001b[0;34m\u001b[0m\u001b[0m\n\u001b[0m\u001b[1;32m      7\u001b[0m \u001b[0;34m\u001b[0m\u001b[0m\n\u001b[1;32m      8\u001b[0m     \u001b[0;31m# Add the counts to the total_class_density dictionary\u001b[0m\u001b[0;34m\u001b[0m\u001b[0;34m\u001b[0m\u001b[0m\n",
            "\u001b[0;31mNameError\u001b[0m: name 'assign_lifestyle_demographics' is not defined"
          ]
        }
      ]
    },
    {
      "cell_type": "code",
      "source": [
        "df['class_density'].head()"
      ],
      "metadata": {
        "colab": {
          "base_uri": "https://localhost:8080/"
        },
        "id": "U9GJHYbWBRKu",
        "outputId": "bbe9faee-21aa-4c49-a691-f03e23d79e72"
      },
      "execution_count": null,
      "outputs": [
        {
          "output_type": "execute_result",
          "data": {
            "text/plain": [
              "0    {'Aristocratic': 332, 'Wealthy': 2809, 'Comfor...\n",
              "1    {'Aristocratic': 2, 'Wealthy': 113, 'Comfortab...\n",
              "2    {'Aristocratic': 0, 'Wealthy': 1, 'Comfortable...\n",
              "3    {'Aristocratic': 0, 'Wealthy': 3, 'Comfortable...\n",
              "4    {'Aristocratic': 71, 'Wealthy': 631, 'Comforta...\n",
              "Name: class_density, dtype: object"
            ]
          },
          "metadata": {},
          "execution_count": 141
        }
      ]
    },
    {
      "cell_type": "code",
      "source": [
        "# Calculate the total economy across all settlements\n",
        "total_economy = df['settlement_economy'].sum()\n",
        "print(f\"Total Economy: {total_economy}\")\n",
        "\n",
        "# Find the top 10 settlements with the highest settlement economy\n",
        "top_10_settlements = df.nlargest(10, 'settlement_economy')\n",
        "\n",
        "# Print the top 10 settlements\n",
        "print(\"Top 10 Settlements by Economy:\")\n",
        "print(top_10_settlements[['settlement', 'settlement_economy', 'settlement_population']])\n"
      ],
      "metadata": {
        "colab": {
          "base_uri": "https://localhost:8080/"
        },
        "id": "QGU6RGFMBxiw",
        "outputId": "c4143409-6923-4830-d574-15eb3b07cf13"
      },
      "execution_count": null,
      "outputs": [
        {
          "output_type": "stream",
          "name": "stdout",
          "text": [
            "Total Economy: 1411247388.0\n",
            "Top 10 Settlements by Economy:\n",
            "        settlement  settlement_economy  settlement_population\n",
            "450      Waterdeep         350050841.0                1347840\n",
            "625     Gheldaneth          47012036.5                 170413\n",
            "441      Unthalass          46052488.0                 158047\n",
            "622          Skuld          45662777.5                 193245\n",
            "0         Athkatla          34272222.5                 116163\n",
            "456  Baldur's Gate          31422813.5                 125000\n",
            "59          Suzail          30664124.5                 129311\n",
            "362      Zazesspur          29910326.5                 114508\n",
            "31       Calimport          16168405.0                  86268\n",
            "55        Soorenar          15090888.5                  75665\n"
          ]
        }
      ]
    },
    {
      "cell_type": "code",
      "source": [
        "# Group by 'Region' and sum up the 'settlement_economy'\n",
        "region_economy_sum = df.groupby('region_kingdom')['settlement_economy'].sum().reset_index()\n",
        "\n",
        "# Rename the columns for easier merging\n",
        "region_economy_sum.columns = ['region_kingdom', 'new_region_economy']\n",
        "\n",
        "# Merge the DataFrame to include the new region economy sums\n",
        "df = pd.merge(df, region_economy_sum, on='region_kingdom', how='left')\n",
        "\n",
        "# Update the 'region_economy' column with the newly computed sums\n",
        "df['region_economy'] = df['new_region_economy']\n",
        "\n",
        "# Drop the temporary column used for merging\n",
        "df.drop(columns=['new_region_economy'], inplace=True)\n"
      ],
      "metadata": {
        "id": "R8K18tGyDHvb"
      },
      "execution_count": null,
      "outputs": []
    },
    {
      "cell_type": "code",
      "source": [
        "def adjust_settlement_economy(row):\n",
        "    if row['settlement_size'] == 'tiny':\n",
        "        return row['settlement_economy'] / 10000\n",
        "    elif row['settlement_size'] == 'small':\n",
        "        return row['settlement_economy'] / 1000\n",
        "    elif row['settlement_size'] == 'medium':\n",
        "        return row['settlement_economy'] / 100\n",
        "    elif row['settlement_size'] == 'large':\n",
        "        return row['settlement_economy'] / 10\n",
        "    else:\n",
        "        return row['settlement_economy']\n",
        "\n",
        "# Create 'settlement_size' column by applying 'determine_settlement_size'\n",
        "idf['settlement_size'] = idf['settlement_population'].apply(determine_settlement_size)\n",
        "\n",
        "# Save this column as a separate Series for future use\n",
        "settlement_size_series = idf['settlement_size'].copy()\n",
        "\n",
        "# Adjust the 'settlement_economy' column\n",
        "idf['settlement_economy'] = idf.apply(adjust_settlement_economy, axis=1)\n"
      ],
      "metadata": {
        "id": "Cz2eo2NFxTuZ",
        "colab": {
          "base_uri": "https://localhost:8080/",
          "height": 245
        },
        "outputId": "d3f24bb4-2fed-41f1-d505-717b68f4dddb"
      },
      "execution_count": null,
      "outputs": [
        {
          "output_type": "error",
          "ename": "NameError",
          "evalue": "ignored",
          "traceback": [
            "\u001b[0;31m---------------------------------------------------------------------------\u001b[0m",
            "\u001b[0;31mNameError\u001b[0m                                 Traceback (most recent call last)",
            "\u001b[0;32m<ipython-input-9-faf98f28f0b8>\u001b[0m in \u001b[0;36m<cell line: 14>\u001b[0;34m()\u001b[0m\n\u001b[1;32m     12\u001b[0m \u001b[0;34m\u001b[0m\u001b[0m\n\u001b[1;32m     13\u001b[0m \u001b[0;31m# Create 'settlement_size' column by applying 'determine_settlement_size'\u001b[0m\u001b[0;34m\u001b[0m\u001b[0;34m\u001b[0m\u001b[0m\n\u001b[0;32m---> 14\u001b[0;31m \u001b[0midf\u001b[0m\u001b[0;34m[\u001b[0m\u001b[0;34m'settlement_size'\u001b[0m\u001b[0;34m]\u001b[0m \u001b[0;34m=\u001b[0m \u001b[0midf\u001b[0m\u001b[0;34m[\u001b[0m\u001b[0;34m'settlement_population'\u001b[0m\u001b[0;34m]\u001b[0m\u001b[0;34m.\u001b[0m\u001b[0mapply\u001b[0m\u001b[0;34m(\u001b[0m\u001b[0mdetermine_settlement_size\u001b[0m\u001b[0;34m)\u001b[0m\u001b[0;34m\u001b[0m\u001b[0;34m\u001b[0m\u001b[0m\n\u001b[0m\u001b[1;32m     15\u001b[0m \u001b[0;34m\u001b[0m\u001b[0m\n\u001b[1;32m     16\u001b[0m \u001b[0;31m# Save this column as a separate Series for future use\u001b[0m\u001b[0;34m\u001b[0m\u001b[0;34m\u001b[0m\u001b[0m\n",
            "\u001b[0;31mNameError\u001b[0m: name 'determine_settlement_size' is not defined"
          ]
        }
      ]
    },
    {
      "cell_type": "code",
      "source": [
        "idf.info()"
      ],
      "metadata": {
        "colab": {
          "base_uri": "https://localhost:8080/"
        },
        "id": "ha5ZtP-fP0Cv",
        "outputId": "8700fad9-da72-4277-ebd5-64b44f92e123"
      },
      "execution_count": null,
      "outputs": [
        {
          "output_type": "stream",
          "name": "stdout",
          "text": [
            "<class 'pandas.core.frame.DataFrame'>\n",
            "RangeIndex: 648 entries, 0 to 647\n",
            "Data columns (total 27 columns):\n",
            " #   Column                     Non-Null Count  Dtype  \n",
            "---  ------                     --------------  -----  \n",
            " 0   settlement                 648 non-null    object \n",
            " 1   region_kingdom             648 non-null    object \n",
            " 2   capital                    648 non-null    object \n",
            " 3   settlement_population      648 non-null    int64  \n",
            " 4   military                   622 non-null    object \n",
            " 5   exports                    647 non-null    object \n",
            " 6   imports                    623 non-null    object \n",
            " 7   population_breakdown       648 non-null    object \n",
            " 8   region_population          648 non-null    int64  \n",
            " 9   settlement_economy         648 non-null    int64  \n",
            " 10  class_density              648 non-null    object \n",
            " 11  demographic_breakdown      648 non-null    object \n",
            " 12  average_age                648 non-null    int64  \n",
            " 13  rumored_treasure_value     648 non-null    int64  \n",
            " 14  region_economy             648 non-null    int64  \n",
            " 15  government_type            648 non-null    object \n",
            " 16  tax_rate                   648 non-null    int64  \n",
            " 17  settlement_size            648 non-null    object \n",
            " 18  normalized_wealth          648 non-null    float64\n",
            " 19  trade_balance              648 non-null    int64  \n",
            " 20  normalized_trade_balance   648 non-null    float64\n",
            " 21  hidden_economy             648 non-null    int64  \n",
            " 22  normalized_hidden_economy  648 non-null    float64\n",
            " 23  normalized_age             648 non-null    float64\n",
            " 24  inequality_score           648 non-null    float64\n",
            " 25  hidden_economy_per_capita  648 non-null    float64\n",
            " 26  adjusted_average_age       648 non-null    float64\n",
            "dtypes: float64(7), int64(9), object(11)\n",
            "memory usage: 136.8+ KB\n"
          ]
        }
      ]
    },
    {
      "cell_type": "markdown",
      "source": [
        "# Calculating Hidden Economy"
      ],
      "metadata": {
        "id": "8xW7oM3YNlru"
      }
    },
    {
      "cell_type": "code",
      "source": [
        "def calculate_hidden_economy(row):\n",
        "    try:\n",
        "        if isinstance(row['class_density'], str):\n",
        "            class_density = ast.literal_eval(row['class_density'])\n",
        "        else:\n",
        "            class_density = row['class_density']\n",
        "\n",
        "        # Adjusted multipliers to generate smaller hidden_economy values\n",
        "        squalid_multiplier = class_density.get('Squalid', 0) * 0.0000005  # Adjusted weight\n",
        "        wretched_multiplier = class_density.get('Wretched', 0) * 0.0000003  # Adjusted weight\n",
        "        poor_multiplier = class_density.get('Poor', 0) * 0.0000001  # Adjusted weight\n",
        "        wealthy_multiplier = class_density.get('Wealthy', 0) * 0.000004  # Adjusted weight\n",
        "        aristocratic_multiplier = class_density.get('Aristocratic', 0) * 0.00001  # Adjusted weight\n",
        "\n",
        "        # Calculating hidden_multiplier using adjusted weights\n",
        "        hidden_multiplier = wealthy_multiplier + aristocratic_multiplier + squalid_multiplier - wretched_multiplier - poor_multiplier\n",
        "\n",
        "        # Final hidden economy calculation using the adjusted hidden_multiplier\n",
        "        hidden_economy = row['settlement_economy'] * hidden_multiplier if hidden_multiplier != 0 else row['settlement_economy']\n",
        "\n",
        "        return hidden_economy\n",
        "    except Exception as e:\n",
        "        print(f\"An error occurred: {e}\")\n",
        "        return None\n",
        "\n",
        "# Recalculate 'hidden_economy' using the updated function\n",
        "idf['hidden_economy'] = df.apply(calculate_hidden_economy, axis=1)\n",
        "\n",
        "# Convert the 'hidden_economy' column to integers, handling None values\n",
        "idf['hidden_economy'] = idf['hidden_economy'].fillna(0).astype(int)\n"
      ],
      "metadata": {
        "id": "nTJneENwpgVc"
      },
      "execution_count": null,
      "outputs": []
    },
    {
      "cell_type": "code",
      "source": [
        "# Handle potential division by zero\n",
        "idf['settlement_population'] = idf['settlement_population'].replace(0, np.nan)\n",
        "\n",
        "# Calculate hidden economy per capita\n",
        "idf['hidden_economy_per_capita'] = idf['hidden_economy'] / idf['settlement_population']\n",
        "\n",
        "# Replace NaN values with 0 (if there were any divisions by zero)\n",
        "idf['hidden_economy_per_capita'] = idf['hidden_economy_per_capita'].fillna(0)\n",
        "\n",
        "# Get the top 10 settlements with the highest hidden economy per capita\n",
        "top_10_hidden_economies = idf.nlargest(10, 'hidden_economy_per_capita')[['settlement', 'hidden_economy_per_capita']]\n",
        "\n",
        "# Print the top 10 hidden economies per capita\n",
        "print(\"Top 10 Settlements with Highest Hidden Economy Per Capita:\")\n",
        "print(top_10_hidden_economies)"
      ],
      "metadata": {
        "colab": {
          "base_uri": "https://localhost:8080/"
        },
        "id": "jlkbaOJqeLEc",
        "outputId": "d52a4f11-8801-47fc-ac6c-a0eb7e400b91"
      },
      "execution_count": null,
      "outputs": [
        {
          "output_type": "stream",
          "name": "stdout",
          "text": [
            "Top 10 Settlements with Highest Hidden Economy Per Capita:\n",
            "     settlement  hidden_economy_per_capita\n",
            "450   Waterdeep                  27.467449\n",
            "441   Unthalass                  20.663258\n",
            "625  Gheldaneth                  18.703168\n",
            "362   Zazesspur                  14.140078\n",
            "59       Suzail                  13.173365\n",
            "294        Surd                  12.235608\n",
            "295     Tulbegh                  10.960058\n",
            "291       Saerb                   8.495393\n",
            "0      Athkatla                   8.482374\n",
            "622       Skuld                   8.141851\n"
          ]
        }
      ]
    },
    {
      "cell_type": "code",
      "source": [
        "idf['hidden_economy'].head()"
      ],
      "metadata": {
        "colab": {
          "base_uri": "https://localhost:8080/"
        },
        "id": "tkvrcFgCrWUP",
        "outputId": "a5cf67a1-1fb9-49b4-e640-987a25600731"
      },
      "execution_count": null,
      "outputs": [
        {
          "output_type": "execute_result",
          "data": {
            "text/plain": [
              "0    985338\n",
              "1       298\n",
              "2         0\n",
              "3         0\n",
              "4     25034\n",
              "Name: hidden_economy, dtype: int64"
            ]
          },
          "metadata": {},
          "execution_count": 12
        }
      ]
    },
    {
      "cell_type": "code",
      "source": [
        "idf['settlement_economy'] = idf['settlement_economy'].astype(int)\n",
        "\n",
        "# Calculate the total economy of all settlements\n",
        "total_economy = idf['settlement_economy'].sum() + idf['hidden_economy'].sum()\n",
        "\n",
        "print(f\"The total economy of all settlements is {total_economy}\")\n"
      ],
      "metadata": {
        "colab": {
          "base_uri": "https://localhost:8080/"
        },
        "id": "Exkx3cD4mrbR",
        "outputId": "b2c367ab-d738-44a7-92f5-897747fc983d"
      },
      "execution_count": null,
      "outputs": [
        {
          "output_type": "stream",
          "name": "stdout",
          "text": [
            "The total economy of all settlements is 1465417469\n"
          ]
        }
      ]
    },
    {
      "cell_type": "code",
      "source": [
        "# Function to adjust hidden economy based on the number of unique imports and exports\n",
        "def adjust_hidden_economy(row):\n",
        "    # Get the number of unique exports and imports\n",
        "    unique_exports = len(set(row['exports'])) if isinstance(row['exports'], list) else 0\n",
        "    unique_imports = len(set(row['imports'])) if isinstance(row['imports'], list) else 0\n",
        "\n",
        "    # Calculate adjustment value\n",
        "    adjustment_value = (unique_exports + unique_imports) / 100 * row['settlement_economy']\n",
        "\n",
        "    # Update hidden_economy value\n",
        "    return row['hidden_economy'] + adjustment_value\n",
        "\n",
        "# Assuming 'hidden_economy' is already initialized. If not, initialize it first.\n",
        "if 'hidden_economy' not in idf.columns:\n",
        "    idf['hidden_economy'] = 0.0  # Initialize to 0\n",
        "\n",
        "# Now adjust the 'hidden_economy' column\n",
        "idf['hidden_economy'] = idf.apply(adjust_hidden_economy, axis=1)\n",
        "idf['hidden_economy'] = idf['hidden_economy'].astype(int)"
      ],
      "metadata": {
        "id": "oQg29ZZG09PP"
      },
      "execution_count": null,
      "outputs": []
    },
    {
      "cell_type": "markdown",
      "source": [
        "# Demographics"
      ],
      "metadata": {
        "id": "Acrq0zr5Nxjd"
      }
    },
    {
      "cell_type": "code",
      "source": [
        "import ast  # For parsing the string representation of a dictionary\n",
        "\n",
        "# Custom function to calculate demographic_breakdown\n",
        "def calculate_demographics(row):\n",
        "    try:\n",
        "        # Parse the population_breakdown if it's a string representation of a dictionary\n",
        "        if isinstance(row['population_breakdown'], str):\n",
        "            population_breakdown = ast.literal_eval(row['population_breakdown'])\n",
        "        else:\n",
        "            population_breakdown = row['population_breakdown']\n",
        "\n",
        "        # Initialize the demographic_breakdown dictionary\n",
        "        demographic_breakdown = {}\n",
        "\n",
        "        # Calculate absolute populations based on percentages\n",
        "        for species, percentage in population_breakdown.items():\n",
        "            demographic_breakdown[species] = int(row['settlement_population'] * (percentage / 100))\n",
        "\n",
        "        return demographic_breakdown\n",
        "    except Exception as e:\n",
        "        print(f\"Error calculating demographics for row: {e}\")\n",
        "        return None\n",
        "\n",
        "# Apply the function across the DataFrame rows\n",
        "df['demographic_breakdown'] = df.apply(calculate_demographics, axis=1)\n"
      ],
      "metadata": {
        "id": "3_Xtv9TJ3DFq"
      },
      "execution_count": null,
      "outputs": []
    },
    {
      "cell_type": "code",
      "source": [
        "# Calculate the total economy of all settlements\n",
        "total_population = df['settlement_population'].sum()\n",
        "print(f\"The total population of all settlements is {total_population}\")\n"
      ],
      "metadata": {
        "colab": {
          "base_uri": "https://localhost:8080/"
        },
        "id": "lMehJn_U6cxC",
        "outputId": "38ebf6d3-109f-4f95-8115-48ef32ffd324"
      },
      "execution_count": null,
      "outputs": [
        {
          "output_type": "stream",
          "name": "stdout",
          "text": [
            "The total population of all settlements is 6527146\n"
          ]
        }
      ]
    },
    {
      "cell_type": "markdown",
      "source": [
        "# Average Age"
      ],
      "metadata": {
        "id": "lxztWlrlN2kF"
      }
    },
    {
      "cell_type": "code",
      "source": [
        "# Custom function to calculate average_age with lifestyle modifiers\n",
        "def calculate_average_age(row):\n",
        "    try:\n",
        "        # Initialize variables\n",
        "        weighted_ages = 0\n",
        "        total_population = row['settlement_population']\n",
        "        lifestyle_adjustment = 0\n",
        "\n",
        "        # Convert strings to dictionaries if necessary\n",
        "        demographic_breakdown = ast.literal_eval(row['demographic_breakdown']) if isinstance(row['demographic_breakdown'], str) else row['demographic_breakdown']\n",
        "        class_density = ast.literal_eval(row['class_density']) if isinstance(row['class_density'], str) else row['class_density']\n",
        "\n",
        "        # Loop over each species in the demographic breakdown\n",
        "        for species, count in demographic_breakdown.items():\n",
        "            # Get the age range for this species\n",
        "            age_range = species_age_ranges.get(species, [1, 100])  # default to human age range if species is not found\n",
        "\n",
        "            # Calculate the average age for this species\n",
        "            avg_age_species = sum(age_range) / 2\n",
        "\n",
        "            # Calculate the weighted age for this species\n",
        "            weighted_age_species = avg_age_species * (count / total_population)\n",
        "\n",
        "            # Add to the total weighted ages\n",
        "            weighted_ages += weighted_age_species\n",
        "\n",
        "        # Calculate lifestyle adjustment\n",
        "        for lifestyle, count in class_density.items():\n",
        "            modifier = lifestyle_modifier.get(lifestyle, 0)\n",
        "            lifestyle_adjustment += (count / total_population) * modifier\n",
        "\n",
        "        # Apply lifestyle adjustment to weighted ages\n",
        "        average_age = weighted_ages + lifestyle_adjustment\n",
        "\n",
        "        return average_age\n",
        "    except Exception as e:\n",
        "        print(f\"Error calculating average age for row: {e}\")\n",
        "        return None\n",
        "\n",
        "# Import the required library for literal evaluation\n",
        "import ast\n",
        "\n",
        "# Make sure to apply the function again\n",
        "df['average_age'] = df.apply(calculate_average_age, axis=1)\n",
        "\n",
        "# Handle the None values before casting to int\n",
        "df['average_age'] = df['average_age'].fillna(0).astype(int)\n",
        "\n",
        "#Define Constants\n",
        "species = [\"humans\", \"halflings\", \"half-orcs\", \"half-drow\", \"half-elves\", \"elves\", \"dwarves\", \"gnomes\", \"goblins\", \"lizardfolk\", \"yuan-ti\", \"orcs\", \"ogres\", \"asabi\", \"gnolls\",\n",
        "           \"pterafolk\", \"drow\", \"centaurs\", \"wemics\", \"humanoids\"]\n",
        "\n",
        "species_age_ranges = {\n",
        "    \"humans\": [1, 100],\n",
        "    \"halflings\": [1, 150],\n",
        "    \"half-elves\": [1, 180],\n",
        "    \"half-orcs\": [1, 75],\n",
        "    \"orcs\": [1, 50],\n",
        "    \"elves\": [1, 750],\n",
        "    \"dwarves\": [1, 350],\n",
        "    \"gnomes\": [1, 400],\n",
        "    \"goblins\": [1, 60],  # Goblins generally have short lifespans.\n",
        "    \"lizardfolk\": [1, 80],  # Lizardfolk have lifespans comparable to or slightly longer than humans.\n",
        "    \"yuan-ti\": [1, 120],  # Yuan-ti have longer lifespans due to their snake-like nature.\n",
        "    \"ogres\": [1, 100],  # Ogres have lifespans similar to humans but can occasionally live longer.\n",
        "    \"asabi\": [1, 60],  # Also known as 'ashworms', Asabis have shorter lifespans.\n",
        "    \"gnolls\": [1, 30],  # Gnolls have relatively short lifespans due to their chaotic and violent lives.\n",
        "    \"pterafolk\": [1, 60],  # Pterafolk have lifespans similar to other humanoid species.\n",
        "    \"drow\": [1, 750],  # Drow, or dark elves, have lifespans similar to other elves.\n",
        "    \"centaurs\": [1, 120],  # Centaurs tend to live longer than humans but not as long as elves.\n",
        "    \"wemics\": [1, 60],  # Wemics have lifespans similar to or slightly longer than humans.\n",
        "    \"half-drow\": [1, 180],  # Half-drow might have lifespans in between humans and drow.\n",
        "    \"humanoids\": [1, 80],  # Generic humanoid lifespan, individual species may vary.\n",
        "    \"misc.\": [1, 80],  # Generic humanoid lifespan, individual species may vary.\n",
        "}\n",
        "\n",
        "\n",
        "# Lifestyle modifiers\n",
        "lifestyle_modifier= {\n",
        "    'Wretched': -40,\n",
        "    'Squalid': -15,\n",
        "    'Poor': -1,\n",
        "    'Modest': 2,\n",
        "    'Comfortable': 3,\n",
        "    'Wealthy': 6,\n",
        "    'Aristocratic': 10\n",
        "}\n",
        "\n",
        "# Apply the function across the DataFrame rows\n",
        "df['average_age'] = df.apply(calculate_average_age, axis=1)\n",
        "df['average_age'] = df['average_age'].astype(int)"
      ],
      "metadata": {
        "id": "N7AqeWGGu6KJ"
      },
      "execution_count": null,
      "outputs": []
    },
    {
      "cell_type": "code",
      "source": [
        "df['average_age'].head(25)"
      ],
      "metadata": {
        "id": "IVVu-gA_WZKv"
      },
      "execution_count": null,
      "outputs": []
    },
    {
      "cell_type": "markdown",
      "source": [
        "# Rumored Treasure Value"
      ],
      "metadata": {
        "id": "2RnTT-HOOB5Z"
      }
    },
    {
      "cell_type": "code",
      "source": [
        "def calculate_rumored_treasure_value(row):\n",
        "    try:\n",
        "        # Calculate the base value by dividing settlement_economy by 1000\n",
        "        base_value = row['settlement_economy'] / 1000\n",
        "\n",
        "        # Apply size modifier to the hidden_economy\n",
        "        size_modifier = {\n",
        "            'tiny_settlement': 0.09,\n",
        "            'small_settlement': 0.09,\n",
        "            'medium_settlement': 0.1,\n",
        "            'large_settlement': .2,\n",
        "            'mega_settlement': .5\n",
        "        }\n",
        "        # Ensure that row['settlement_size'] exists and is not None before trying to access it in size_modifier\n",
        "        if row['settlement_size'] is not None:\n",
        "            modified_hidden_economy = row['hidden_economy'] * size_modifier.get(row['settlement_size'], 1)\n",
        "        else:\n",
        "            modified_hidden_economy = row['hidden_economy']\n",
        "\n",
        "        # Add the modified hidden_economy to the base_value\n",
        "        treasure_value = base_value + modified_hidden_economy\n",
        "\n",
        "        return treasure_value\n",
        "    except Exception as e:\n",
        "        print(f\"Error calculating rumored treasure value for row: {e}\")\n",
        "        return None\n",
        "\n",
        "# Apply the function across the DataFrame rows\n",
        "idf['rumored_treasure_value'] = idf.apply(calculate_rumored_treasure_value, axis=1)\n",
        "\n",
        "# Handle None values before casting to int\n",
        "idf['rumored_treasure_value'] = idf['rumored_treasure_value'].fillna(0).astype(int)"
      ],
      "metadata": {
        "id": "syVJqtOXEsv8"
      },
      "execution_count": null,
      "outputs": []
    },
    {
      "cell_type": "code",
      "source": [
        "comparison_df = idf[['rumored_treasure_value', 'settlement_economy', 'hidden_economy']].head()\n",
        "print(comparison_df)"
      ],
      "metadata": {
        "colab": {
          "base_uri": "https://localhost:8080/"
        },
        "id": "1gjaluBl7szm",
        "outputId": "0e750968-b7b8-45ee-dd98-b85dccfed55a"
      },
      "execution_count": null,
      "outputs": [
        {
          "output_type": "stream",
          "name": "stdout",
          "text": [
            "   rumored_treasure_value  settlement_economy  hidden_economy\n",
            "0                  526941            34272222          985338\n",
            "1                    1122             1092226             298\n",
            "2                      81               81796               0\n",
            "3                     102              102127               0\n",
            "4                    9199             4192755           25034\n"
          ]
        }
      ]
    },
    {
      "cell_type": "markdown",
      "source": [
        "# Goverment Types"
      ],
      "metadata": {
        "id": "oKSsUgyeOOi5"
      }
    },
    {
      "cell_type": "code",
      "source": [
        "# List of government types\n",
        "government_types = [\"Autocracy\", \"Bureaucracy\", \"Confederacy\", \"Democracy\", \"Dictatorship\", \"Feudalism\", \"Gerontocracy\", \"Hierarchy\",\n",
        "                    \"Monarchy\", \"Magocracy\", \"Militocracy\", \"Matriarchy\", \"Oligarchy\", \"Patriarchy\", \"Meritocracy\", \"Plutocracy\",\n",
        "                    \"Republic\", \"Kleptocracy\", \"Satrapy\", \"Theocracy\"]\n",
        "\n",
        "# Add a new column \"government_type\" with random values\n",
        "df['government_type'] = [random.choice(government_types) for _ in range(len(df))]\n",
        "\n",
        "# Print the DataFrame to verify the new column\n",
        "print(df[['region_kingdom', 'government_type']])\n"
      ],
      "metadata": {
        "colab": {
          "base_uri": "https://localhost:8080/"
        },
        "id": "A5l-kjSMfq-7",
        "outputId": "4f4fee73-fbbb-44cb-e530-0a44301ba619"
      },
      "execution_count": null,
      "outputs": [
        {
          "output_type": "stream",
          "name": "stdout",
          "text": [
            "      region_kingdom government_type\n",
            "0                Amn        Monarchy\n",
            "1                Amn       Autocracy\n",
            "2                Amn     Militocracy\n",
            "3                Amn    Gerontocracy\n",
            "4                Amn       Hierarchy\n",
            "..               ...             ...\n",
            "643          Narfell    Dictatorship\n",
            "644          Narfell       Democracy\n",
            "645          Narfell       Magocracy\n",
            "646          Narfell     Bureaucracy\n",
            "647  The Sword Coast       Magocracy\n",
            "\n",
            "[648 rows x 2 columns]\n"
          ]
        }
      ]
    },
    {
      "cell_type": "markdown",
      "source": [
        "# Cause of Death"
      ],
      "metadata": {
        "id": "-e2dHCKJOSFf"
      }
    },
    {
      "cell_type": "code",
      "source": [
        "# Define causes of death for each settlement size\n",
        "causes_of_death = {\n",
        "    'tiny_settlement': ['Old age', 'Wildlife attacks', 'Starvation', 'Disease', 'Exposure to the elements', 'Accidental falls', 'Lack of medical care', 'Poisonous plants', 'Isolation', 'Magic mishaps'],\n",
        "    'small_settlement': ['Disease', 'Assassination', 'Poison', 'Old age', 'Starvation', 'Bandit attacks', 'Exposure to the elements', 'Magic mishaps', 'Work-related accidents', 'Wildlife attacks'],\n",
        "    'medium_settlement': ['Disease', 'Old age', 'Assassination', 'Poison', 'Work-related accidents', 'Starvation', 'Exposure to the elements', 'Bandit attacks', 'Magic mishaps', 'Dueling accidents'],\n",
        "    'large_settlement': ['Disease', 'Assassination', 'Poison', 'Old age', 'Magic mishaps', 'Work-related accidents', 'Starvation', 'Dueling accidents', 'Wagon Accident', 'Exposure to the elements'],\n",
        "    'mega_settlement': ['Assassination', 'Disease', 'Poison', 'Magic mishaps', 'Dueling accidents', 'Crime', 'Work-related accidents', 'Starvation', 'Wagon Accident', 'Exposure to the elements']\n",
        "}\n",
        "\n",
        "# Function to assign cause of death based on settlement size\n",
        "def assign_cause_of_death(row):\n",
        "    size = row['settlement_size']\n",
        "    return random.choice(causes_of_death[size])\n",
        "\n",
        "# Add a new column \"settlement_size\" based on population\n",
        "df['settlement_size'] = df['settlement_population'].apply(determine_settlement_size)\n",
        "\n",
        "# Add a new column \"cause_of_death\" with assigned causes\n",
        "df['most_likely_cause_of_death'] = df.apply(assign_cause_of_death, axis=1)\n",
        "\n",
        "# Print the DataFrame to verify the new columns\n",
        "print(df[['settlement', 'settlement_population', 'settlement_size', 'most_likely_cause_of_death']])\n"
      ],
      "metadata": {
        "colab": {
          "base_uri": "https://localhost:8080/"
        },
        "id": "tBfWVRYPhWxR",
        "outputId": "7c386607-9378-4649-b12a-c4ebaf396c83"
      },
      "execution_count": null,
      "outputs": [
        {
          "output_type": "stream",
          "name": "stdout",
          "text": [
            "           settlement  settlement_population    settlement_size  \\\n",
            "0            Athkatla                 116163    mega_settlement   \n",
            "1            Amnwater                   7035  medium_settlement   \n",
            "2       Citadel Amnur                    636   small_settlement   \n",
            "3    Citadel Rashturl                    710   small_settlement   \n",
            "4           Coryllvol                  23000   large_settlement   \n",
            "..                ...                    ...                ...   \n",
            "643            N’Jast                     71    tiny_settlement   \n",
            "644          Peltarch                    313   small_settlement   \n",
            "645           Selmast                    392   small_settlement   \n",
            "646           Snowcap                    495   small_settlement   \n",
            "647            Luskan                  16000   large_settlement   \n",
            "\n",
            "    most_likely_cause_of_death  \n",
            "0       Work-related accidents  \n",
            "1               Bandit attacks  \n",
            "2                Assassination  \n",
            "3                       Poison  \n",
            "4                   Starvation  \n",
            "..                         ...  \n",
            "643                    Old age  \n",
            "644                    Old age  \n",
            "645              Assassination  \n",
            "646              Magic mishaps  \n",
            "647   Exposure to the elements  \n",
            "\n",
            "[648 rows x 4 columns]\n"
          ]
        }
      ]
    },
    {
      "cell_type": "markdown",
      "source": [
        "# Inequality Score"
      ],
      "metadata": {
        "id": "i5IlbXUEOYMs"
      }
    },
    {
      "cell_type": "code",
      "source": [
        "# Define weights for factors (you can adjust these)\n",
        "weights = {\n",
        "    'wealth_distribution': 0.4,\n",
        "    'trade_balance': 0.1,\n",
        "    'hidden_economy': 0.4,\n",
        "    'average_age': 0.1\n",
        "}\n",
        "\n",
        "# Define a function to parse the 'class_density' column into dictionaries\n",
        "def parse_class_density(x):\n",
        "    try:\n",
        "        return ast.literal_eval(x)\n",
        "    except (SyntaxError, ValueError):\n",
        "        return {}\n",
        "\n",
        "# Parse the 'class_density' column into dictionaries\n",
        "idf['class_density'] = idf['class_density'].apply(parse_class_density)\n",
        "\n",
        "# Now you can access dictionary values in the 'class_density' column\n",
        "idf['normalized_wealth'] = (idf['class_density'].apply(lambda x: x.get('Aristocratic', 0)) + idf['class_density'].apply(lambda x: x.get('Wealthy', 0))) / (idf['class_density'].apply(lambda x: x.get('Squalid', 0)) + idf['class_density'].apply(lambda x: x.get('Wretched', 0)) + 1)\n",
        "\n",
        "# Assuming normalized_age is already scaled between 0 and 1\n",
        "idf['inverted_normalized_age'] = 1 - idf['normalized_age']\n",
        "\n",
        "# Then, when calculating the inequality_score:\n",
        "idf['inequality_score'] = (\n",
        "    weights['wealth_distribution'] * idf['normalized_wealth'] +\n",
        "    weights['trade_balance'] * idf['normalized_trade_balance'] +\n",
        "    weights['hidden_economy'] * idf['normalized_hidden_economy'] +\n",
        "    weights['average_age'] * idf['inverted_normalized_age']  # Use the inverted value here\n",
        ")\n",
        "\n",
        "# Generate a Pandas Series of random factors, one for each row in idf\n",
        "num_rows = idf.shape[0]  # Get number of rows in idf\n",
        "random_factors = pd.Series([random.uniform(0.95, 1.05) for _ in range(num_rows)])\n",
        "\n",
        "# Multiply inequality_score by corresponding random factor for each row\n",
        "idf['inequality_score'] = idf['inequality_score'] * random_factors.values\n"
      ],
      "metadata": {
        "id": "ubauBdW5MPB6"
      },
      "execution_count": null,
      "outputs": []
    },
    {
      "cell_type": "code",
      "source": [
        "idf['inequality_score'].describe()"
      ],
      "metadata": {
        "colab": {
          "base_uri": "https://localhost:8080/"
        },
        "id": "8WENYKEyMppW",
        "outputId": "5a6ff5e6-fe7f-40c6-8cdd-49c7329c187c"
      },
      "execution_count": null,
      "outputs": [
        {
          "output_type": "execute_result",
          "data": {
            "text/plain": [
              "count      648.000000\n",
              "mean        69.587349\n",
              "std        615.832001\n",
              "min          0.028436\n",
              "25%          0.112051\n",
              "50%          0.183052\n",
              "75%          0.318514\n",
              "max      11224.047147\n",
              "Name: inequality_score, dtype: float64"
            ]
          },
          "metadata": {},
          "execution_count": 58
        }
      ]
    },
    {
      "cell_type": "markdown",
      "source": [
        "# Tax Rate"
      ],
      "metadata": {
        "id": "P-zVxTEPOe7T"
      }
    },
    {
      "cell_type": "code",
      "source": [
        "df['class_density'] = df['class_density'].apply(ast.literal_eval)\n",
        "\n",
        "# Define the calculate_tax_rate function\n",
        "def calculate_tax_rate(row):\n",
        "    # Check if 'imports' and 'exports' are not NaN and are of type list\n",
        "    if pd.notna(row['imports']) and isinstance(row['imports'], list):\n",
        "        region_imports = len(row['imports'])\n",
        "    else:\n",
        "        region_imports = 0\n",
        "\n",
        "    if pd.notna(row['exports']) and isinstance(row['exports'], list):\n",
        "        region_exports = len(row['exports'])\n",
        "    else:\n",
        "        region_exports = 0\n",
        "\n",
        "    # Check if there are aristocrats in the settlement\n",
        "    if row['class_density'].get('Aristocratic', 0) > 0:\n",
        "        region_aristocrats = df[df['region_kingdom'] == row['region_kingdom']]['class_density'].apply(lambda x: x.get('Aristocratic', 0)).sum()\n",
        "\n",
        "        # Check if the region has 100 or more aristocrats\n",
        "        if region_aristocrats >= 100:\n",
        "            # Check if there is a military in the region's capital\n",
        "            if row['capital'] == row['settlement']:\n",
        "                if pd.notna(row['military']):\n",
        "                    tax_rate = np.random.randint(10, 21)  # Tax rate between 10% and 20% with military\n",
        "                else:\n",
        "                    tax_rate = np.random.randint(1, 11)  # Tax rate between 1% and 10% without military\n",
        "            else:\n",
        "                tax_rate = np.random.randint(1, 21)  # Tax rate between 1% and 20% in regions with aristocrats and >=100 total aristocrats\n",
        "        else:\n",
        "            tax_rate = 0  # Tax rate is 0 if region has aristocrats but <100 total aristocrats\n",
        "    else:\n",
        "        tax_rate = 0  # Tax rate is 0 if no aristocrats in the settlement\n",
        "\n",
        "    # Calculate the multiplier based on imports and exports\n",
        "    multiplier = 1 + (region_imports + region_exports) / 1000\n",
        "\n",
        "    # Apply the multiplier to the tax rate\n",
        "    adjusted_tax_rate = tax_rate * multiplier\n",
        "\n",
        "    return adjusted_tax_rate\n",
        "\n",
        "# Apply the calculate_tax_rate function to create the tax_rate column\n",
        "df['tax_rate'] = df.apply(calculate_tax_rate, axis=1)\n"
      ],
      "metadata": {
        "id": "Lxjpkuz5NqP5"
      },
      "execution_count": null,
      "outputs": []
    },
    {
      "cell_type": "code",
      "source": [
        "# Group by 'region_kingdom' and sum the 'inequality_score' for each region\n",
        "region_inequality_sum = idf.groupby('region_kingdom')['inequality_score'].sum()\n",
        "\n",
        "# Sort the regions by the summed inequality score in descending order and take the top 10\n",
        "top_10_inequal_regions = region_inequality_sum.sort_values(ascending=False).head(10)\n",
        "\n",
        "# Print the top 10 most unequal regions\n",
        "print(\"Top 10 Most Unequal Regions:\")\n",
        "print(top_10_inequal_regions)\n"
      ],
      "metadata": {
        "colab": {
          "base_uri": "https://localhost:8080/"
        },
        "id": "UqqXdKHorafi",
        "outputId": "4bf506d9-d942-49f6-c368-97a893ae4289"
      },
      "execution_count": null,
      "outputs": [
        {
          "output_type": "stream",
          "name": "stdout",
          "text": [
            "Top 10 Most Unequal Regions:\n",
            "region_kingdom\n",
            "Moonshae    123.313278\n",
            "Tethyr       61.221127\n",
            "Cormyr       50.428565\n",
            "Halruaa      50.144494\n",
            "Damara       38.056324\n",
            "Turmish      37.485639\n",
            "Amn          32.962329\n",
            "Thay         31.804846\n",
            "Lantan       30.502219\n",
            "Impiltur     29.119687\n",
            "Name: inequality_score, dtype: float64\n"
          ]
        }
      ]
    },
    {
      "cell_type": "code",
      "source": [
        "# Group by 'region_kingdom' and sum the 'inequality_score' for each region\n",
        "region_inequality_sum = idf.groupby('settlement')['inequality_score'].sum()\n",
        "\n",
        "# Sort the regions by the summed inequality score in descending order and take the top 10\n",
        "top_10_inequal_regions = region_inequality_sum.sort_values(ascending=False).head(10)\n",
        "\n",
        "# Print the top 10 most unequal regions\n",
        "print(\"Top 10 Most Unequal Settlements:\")\n",
        "print(top_10_inequal_regions)\n"
      ],
      "metadata": {
        "colab": {
          "base_uri": "https://localhost:8080/"
        },
        "id": "qH3FhmFH-UgV",
        "outputId": "f346b39e-8f1d-4aa7-f0db-ee71844f1c3d"
      },
      "execution_count": null,
      "outputs": [
        {
          "output_type": "stream",
          "name": "stdout",
          "text": [
            "Top 10 Most Unequal Settlements:\n",
            "settlement\n",
            "Tsan           21.000000\n",
            "Harloch         2.231275\n",
            "Dorset          2.220974\n",
            "Hickorydale     2.218901\n",
            "Llewellyn       2.216759\n",
            "Highhome        2.215710\n",
            "Wyngate         2.215024\n",
            "Dynnatt         2.207920\n",
            "Elyssyrr        2.205746\n",
            "Borth           2.182493\n",
            "Name: inequality_score, dtype: float64\n"
          ]
        }
      ]
    },
    {
      "cell_type": "markdown",
      "source": [
        "# Adjusting Average Age"
      ],
      "metadata": {
        "id": "XQvZB8rcOlKg"
      }
    },
    {
      "cell_type": "code",
      "source": [
        "# Define a function to adjust average_age based on inequality_score\n",
        "def adjust_average_age(row):\n",
        "    # Define a scaling factor to control the adjustment\n",
        "    scaling_factor = 50  # You can adjust this value as needed\n",
        "\n",
        "    # Calculate the adjusted average age\n",
        "    adjusted_age = row['average_age'] - scaling_factor * row['inequality_score']\n",
        "\n",
        "    # Ensure the adjusted age is within a reasonable range\n",
        "    return max(adjusted_age, 1)  # Minimum age set to 1\n",
        "\n",
        "# Apply the adjustment function to the DataFrame\n",
        "idf['adjusted_average_age'] = idf.apply(adjust_average_age, axis=1)"
      ],
      "metadata": {
        "id": "7hWlEqrX3guH"
      },
      "execution_count": null,
      "outputs": []
    },
    {
      "cell_type": "code",
      "source": [
        "idf['adjusted_average_age'].head()"
      ],
      "metadata": {
        "colab": {
          "base_uri": "https://localhost:8080/"
        },
        "id": "7NeBtJnYEbRe",
        "outputId": "ed0b8adf-e0b2-4a6f-8af6-3f6a3f4b341f"
      },
      "execution_count": null,
      "outputs": [
        {
          "output_type": "execute_result",
          "data": {
            "text/plain": [
              "0    30.828081\n",
              "1    44.986469\n",
              "2    35.820596\n",
              "3    41.580476\n",
              "4    36.711909\n",
              "Name: adjusted_average_age, dtype: float64"
            ]
          },
          "metadata": {},
          "execution_count": 188
        }
      ]
    },
    {
      "cell_type": "markdown",
      "source": [
        "# Temperature and Climate"
      ],
      "metadata": {
        "id": "Lu91TlfdOqkE"
      }
    },
    {
      "cell_type": "code",
      "source": [
        "region_climate = {\n",
        "    'Amn': 'Temperate',  # Coastal and fertile\n",
        "    'Calimshan': 'Arid',  # Desert and semi-arid regions\n",
        "    'Chessenta': 'Temperate',  # Mediterranean climate\n",
        "    'Cormyr': 'Temperate',  # Forested and fertile\n",
        "    'Damara': 'Cold',  # Northern, colder climate\n",
        "    'Halruaa': 'Temperate',  # Known for magical barriers, likely moderate climate\n",
        "    'Impiltur': 'Temperate',  # Coastal with some mountainous terrain\n",
        "    'Moonshae': 'Jungle/Marsh',  # Isles with varying climates, generally temperate\n",
        "    'Nimbral': 'Temperate',  # Island with moderate climate\n",
        "    'Sembia': 'Temperate',  # Trading nation with fertile lands\n",
        "    'Sossal': 'Cold',  # Far to the northeast, likely very cold\n",
        "    'Tethyr': 'Temperate',  # Coastal and forested\n",
        "    'Thay': 'Arid',  # Plateau with harsh climate\n",
        "    'Thesk': 'Temperate',  # Known for trade, likely moderate climate\n",
        "    'Turmish': 'Temperate',  # Coastal and forested\n",
        "    'Unther': 'Arid',  # Desert-like with ancient ruins\n",
        "    'The Sword Coast': 'Temperate',  # Varying climates, mostly temperate\n",
        "    'Aglarond': 'Temperate',  # Forested peninsula\n",
        "    'Evereska': 'Temperate',  # Elven city-state in a valley\n",
        "    'Evermeet': 'Temperate',  # Elven island, magically preserved\n",
        "    'Gundarlun': 'Cold',  # Northern islands\n",
        "    'Ruathym': 'Cold',  # Island with a harsh, cold climate\n",
        "    'Trisk (Kingdom of the Purple Rocks)': 'Temperate',  # Island, uncertain climate\n",
        "    'Tuern': 'Cold',  # Volcanic island to the north\n",
        "    'Hartsvale': 'Cold',  # Located in a valley within mountains\n",
        "    'Lantan': 'Temperate',  # Island nation known for technology\n",
        "    'Lapaliiya': 'Jungle/Marsh',  # Coastal with some jungles\n",
        "    'Luiren': 'Temperate',  # Homeland of the halflings, likely moderate climate\n",
        "    'The Silver Marches': 'Cold',  # Northern frontier with colder climate\n",
        "    'Dwarfholds of the North': 'Cold',  # Mountainous and northern\n",
        "    'Orlumbor': 'Temperate',  # Wooded island\n",
        "    'Mulhorand': 'Arid',  # Desert with some fertile river valleys\n",
        "    'Narfell': 'Cold',  # Plains with harsh winters\n",
        "}\n",
        "climate_temperature_range = {\n",
        "    'Arid': [65, 100],  # Temperature range in Fahrenheit\n",
        "    'Cold': [0, 40],\n",
        "    'Temperate': [45, 70],\n",
        "    'Jungle/Marsh': [65, 90]\n",
        "}\n",
        "\n",
        "average_rainfall = {\n",
        "    'Arid': [0, 10],  # Rainfall range in inches per year\n",
        "    'Cold': [20, 40],\n",
        "    'Temperate': [30, 50],\n",
        "    'Jungle/Marsh': [45, 65]\n",
        "}\n",
        "import random\n",
        "\n",
        "def assign_climate_attributes(row):\n",
        "    try:\n",
        "        # Extract climate from region\n",
        "        climate = region_climate.get(row['region_kingdom'], 'Temperate')  # Default to 'Temperate' if region is not found\n",
        "\n",
        "        # Get temperature and rainfall ranges for the climate\n",
        "        temp_range = climate_temperature_range[climate]\n",
        "        rainfall_range = average_rainfall[climate]\n",
        "\n",
        "        # Randomly assign values within the ranges\n",
        "        average_temp = random.uniform(temp_range[0], temp_range[1])\n",
        "        annual_rainfall = random.uniform(rainfall_range[0], rainfall_range[1])\n",
        "\n",
        "        return average_temp, annual_rainfall\n",
        "\n",
        "    except Exception as e:\n",
        "        print(f\"Error assigning climate attributes for row: {e}\")\n",
        "        return None\n",
        "\n",
        "# Apply the function to the DataFrame\n",
        "df['average_temperature'], df['annual_rainfall'] = zip(*df.apply(assign_climate_attributes, axis=1))\n"
      ],
      "metadata": {
        "id": "JOfZZ0c76Bqa"
      },
      "execution_count": null,
      "outputs": []
    },
    {
      "cell_type": "markdown",
      "source": [
        "# Magic Academies"
      ],
      "metadata": {
        "id": "-FzPPKHOOv97"
      }
    },
    {
      "cell_type": "code",
      "source": [
        "wizard_schools = {\n",
        "    'Arrabar': 'Academia Vilhonus',\n",
        "    'Chondath': 'Academia Vilhonus',\n",
        "    'Thay': 'Academy of Shapers and Binders',\n",
        "    ' Waterdeep': 'Academy of Stargazers',\n",
        "    'Mintar': 'Academy of the Drawn Sword',\n",
        "    ' Lake of Steam': 'Academy of the Drawn Sword',\n",
        "    'Seventon': \"Alimon's Mental Academy\",\n",
        "    'Netheril': \"Alimon's Mental Academy\",\n",
        "    'Sundabar': 'Anstruth',\n",
        "    'Gheldaneth': 'Arcanum of Magic',\n",
        "    'Mulhorand': 'Arcanum of Magic',\n",
        "    'Silverymoon': \"Arkhen's Invocatorium\",\n",
        "    'Huzuz': \"Al-Bidir Sallah (Home of the Seekers of Knowledge)\",\n",
        "    'Zakhara': \"Al-Bidir Sallah (Home of the Seekers of Knowledge)\",\n",
        "    'Waterdeep': 'Blackstaff Academy',\n",
        "    'Luskan': 'Blackstaff Academy',\n",
        "    'Baldurs Gate': \"Briel's School of the Arcane\",\n",
        "    'The Sword Coast': \"Briels School of the Arcane\",\n",
        "    'Zazesspur': 'Canaith',\n",
        "    'Tethyr': 'Canaith',\n",
        "    'Evereska': 'College of Magic and Arms',\n",
        "    'The Sword Coast Faerûn': 'College of Magic and Arms',\n",
        "    'Heralds Holdfast': 'College of the Herald',\n",
        "    'Berdusk': 'College of Doss',\n",
        "    'Myth Nantar': \"Dukars' Academy\",\n",
        "    'Waterdeep': 'Dweomercore',\n",
        "    'Waterdeep': 'Eltorchul Academy',\n",
        "    'Loudwater': \"Enalin's Shop of Adventurers' Supplies\",\n",
        "    'Delimbiyr Vale': \"Enalin's Shop of Adventurers' Supplies\",\n",
        "    'Heliogabalus': 'Ends Rest',\n",
        "    'Heldapan': 'Gathering of Magicians',\n",
        "    'Durpar': 'Gathering of Magicians',\n",
        "    'Akkaido': 'Golden Fox Martial Arts School',\n",
        "    'Huzuz': 'Grand University of Huzuz',\n",
        "    'Medina al-Afyal': 'Great Mosque of Selan',\n",
        "    'Island of Afyal': 'Great Mosque of Selan',\n",
        "    'Almorel': 'Great School of Deneir',\n",
        "    'Waterdeep': 'Halasters Heirs',\n",
        "    'Evereska': 'Hall of the Kaliesherai',\n",
        "    'Waterdeep': 'House of Healing'\n",
        "}\n",
        "\n",
        "def assign_magic_academy(row):\n",
        "    settlement = row['settlement']\n",
        "    if settlement in wizard_schools:\n",
        "        return wizard_schools[settlement]\n",
        "    else:\n",
        "        return 'None'  # Fill with 'None' if there's no school\n",
        "\n",
        "# Assuming you have a DataFrame named df\n",
        "df['magic_academy'] = df.apply(assign_magic_academy, axis=1)\n",
        "\n",
        "# To keep track of schools that do not get placed\n",
        "unplaced_schools = [school for school in wizard_schools.values() if school not in df['magic_academy'].unique()]\n",
        "\n",
        "# Print unplaced schools\n",
        "print(\"Unplaced Schools:\", unplaced_schools)\n"
      ],
      "metadata": {
        "id": "ZUQM9qK5unBb"
      },
      "execution_count": null,
      "outputs": []
    },
    {
      "cell_type": "code",
      "source": [
        "def add_magic_academy(df):\n",
        "    def check_population(row):\n",
        "        if row['settlement_population'] > 15000 and row['magic_academy'] == 'None':\n",
        "            # If population is over 10000 and academy is 'None', replace it with 'guilds'\n",
        "            return 'guilds'\n",
        "        return row['magic_academy']\n",
        "\n",
        "    df['magic_academy'] = df.apply(lambda row: check_population(row), axis=1)\n",
        "    return df\n",
        "df = add_magic_academy(df)"
      ],
      "metadata": {
        "id": "g9JMpsJEyncC"
      },
      "execution_count": null,
      "outputs": []
    },
    {
      "cell_type": "code",
      "source": [
        "# Check the count of each unique value in the 'magic_academy' column\n",
        "academy_counts = df['magic_academy'].value_counts()\n",
        "\n",
        "# Check if 'guilds' is in the index of unique values\n",
        "if 'guilds' in academy_counts.index:\n",
        "    # 'guilds' was added, and you can access its count using academy_counts['guilds']\n",
        "    guilds_count = academy_counts['guilds']\n",
        "    print(f\"'guilds' was added {guilds_count} times.\")\n",
        "else:\n",
        "    # 'guilds' was not added\n",
        "    print(\"'guilds' was not added.\")\n"
      ],
      "metadata": {
        "colab": {
          "base_uri": "https://localhost:8080/"
        },
        "id": "9bRhxTeJPjCv",
        "outputId": "fedf38c1-6720-403f-e10b-a1696968debd"
      },
      "execution_count": null,
      "outputs": [
        {
          "output_type": "stream",
          "name": "stdout",
          "text": [
            "'guilds' was added 78 times.\n"
          ]
        }
      ]
    },
    {
      "cell_type": "markdown",
      "source": [
        "# Magical Climate"
      ],
      "metadata": {
        "id": "uhZ76sHwO2Ap"
      }
    },
    {
      "cell_type": "code",
      "source": [
        "idf['demographic_breakdown'] = df['demographic_breakdown']\n",
        "moderate_temp = 70\n",
        "def parse_demographic_breakdown(x):\n",
        "    try:\n",
        "        return ast.literal_eval(x)\n",
        "    except (SyntaxError, ValueError):\n",
        "        return {}\n",
        "\n",
        "# Parse the 'demographic_breakdown' column into dictionaries\n",
        "idf['demographic_breakdown'] = idf['demographic_breakdown'].apply(parse_demographic_breakdown)\n",
        "\n",
        "# Calculate the count of non-humans in each settlement\n",
        "idf['non_human_count'] = idf['demographic_breakdown'].apply(lambda x: sum(v for k, v in x.items() if k.lower() != 'human') if isinstance(x, dict) else 0)\n",
        "\n",
        "# Calculate the total population based on demographic breakdown\n",
        "idf['total_population_from_demo'] = idf['demographic_breakdown'].apply(lambda x: sum(v for k, v in x.items()) if isinstance(x, dict) else 0)\n",
        "\n",
        "# Calculate non-human proportion; handle division by zero by checking if total_population_from_demo is not zero\n",
        "idf['non_human_proportion'] = idf.apply(lambda row: row['non_human_count'] / row['total_population_from_demo'] if row['total_population_from_demo'] != 0 else 0, axis=1)\n",
        "\n",
        "# Score for magic academy presence\n",
        "idf['academy_score'] = idf['magic_academy'].apply(lambda x: 30 if x is not None else 0)\n",
        "\n",
        "# Define mean_inequality\n",
        "mean_inequality = idf['inequality_score'].mean()\n",
        "\n",
        "# Step 1: Randomly multiply each factor\n",
        "idf['random_age_multiplier'] = np.random.uniform(1, 5, len(idf))\n",
        "idf['random_inequality_multiplier'] = np.random.uniform(1, 5, len(idf))\n",
        "idf['random_temperature_multiplier'] = np.random.uniform(1, 5, len(idf))\n",
        "idf['random_non_human_multiplier'] = np.random.uniform(1, 5, len(idf))\n",
        "\n",
        "idf['age_score'] = idf['random_age_multiplier'] * (idf['average_age'] - idf['average_age'].min()) / (idf['average_age'].max() - idf['average_age'].min())\n",
        "idf['inequality_score'] = idf['random_inequality_multiplier'] * (np.abs(idf['inequality_score'] - mean_inequality) / idf['inequality_score'].std())\n",
        "idf['temperature_score'] = idf['random_temperature_multiplier'] * (np.abs(idf.get('average_temperature', 0) - moderate_temp))\n",
        "idf['non_human_score'] = idf['random_non_human_multiplier'] * (idf['non_human_proportion'] - idf['non_human_proportion'].min()) / (idf['non_human_proportion'].max() - idf['non_human_proportion'].min())\n",
        "\n",
        "# Step 2: Normalize each factor to be between 1 and 25\n",
        "idf['age_score'] = 1 + 5 * (idf['age_score'] - idf['age_score'].min()) / (idf['age_score'].max() - idf['age_score'].min())\n",
        "idf['inequality_score'] = 1 + 20 * (idf['inequality_score'] - idf['inequality_score'].min()) / (idf['inequality_score'].max() - idf['inequality_score'].min())\n",
        "idf['temperature_score'] = 1 + 35 * (idf['temperature_score'] - idf['temperature_score'].min()) / (idf['temperature_score'].max() - idf['temperature_score'].min())\n",
        "idf['non_human_score'] = 1 + 30 * (idf['non_human_score'] - idf['non_human_score'].min()) / (idf['non_human_score'].max() - idf['non_human_score'].min())\n",
        "\n",
        "# Step 3: Sum up the normalized scores to get the magical_climate\n",
        "idf['magical_climate'] = idf['academy_score'] + idf['age_score'] + idf['inequality_score'] + idf['temperature_score'] + idf['non_human_score']\n",
        "\n",
        "# Optional: Clip the total score if necessary\n",
        "idf['magical_climate'] = idf['magical_climate'].round().clip(lower=4, upper=100)\n"
      ],
      "metadata": {
        "id": "h0r0dk0BC3iu"
      },
      "execution_count": null,
      "outputs": []
    },
    {
      "cell_type": "markdown",
      "source": [
        "# Dragon Sightings"
      ],
      "metadata": {
        "id": "B_X8piFrPehC"
      }
    },
    {
      "cell_type": "code",
      "source": [
        "# Step 1: Calculate Region Totals\n",
        "region_totals = idf.groupby('region_kingdom').agg({\n",
        "    'hidden_economy': 'sum',\n",
        "    'magical_climate': 'sum'  # Replace with the correct column name\n",
        "}).reset_index()\n",
        "\n",
        "# Step 2: Allocate Dragon Sightings to Regions\n",
        "total_dragon_sightings = 1000\n",
        "region_totals['total_score'] = region_totals['hidden_economy'] + region_totals['magical_climate']\n",
        "region_totals['allocated_dragon_sightings'] = (region_totals['total_score'] / region_totals['total_score'].sum()) * total_dragon_sightings\n",
        "region_totals = region_totals[['region_kingdom', 'allocated_dragon_sightings']]\n",
        "\n",
        "# Ensure 'allocated_dragon_sightings' does not already exist in 'idf' before merging\n",
        "if 'allocated_dragon_sightings' in idf.columns:\n",
        "    idf = idf.drop(columns=['allocated_dragon_sightings'])\n",
        "\n",
        "# Step 3: Merge the allocated_dragon_sightings to the original DataFrame\n",
        "idf = pd.merge(idf, region_totals, on='region_kingdom', how='left', suffixes=('', '_to_drop'))\n",
        "\n",
        "# Drop the extra columns if they are created\n",
        "idf = idf.drop(columns=[col for col in idf if 'to_drop' in col])\n",
        "\n",
        "# Step 4: Allocate Dragon Sightings to Settlements\n",
        "idf['settlement_dragon_sightings'] = (idf['magical_climate'] / idf.groupby('region_kingdom')['magical_climate'].transform('sum')) * idf['allocated_dragon_sightings']\n",
        "\n",
        "# Optional: Round the dragon sightings as they are countable\n",
        "idf['settlement_dragon_sightings'] = idf['settlement_dragon_sightings'].round().astype(int)\n",
        "\n",
        "# Step 1: Create a Random Factor\n",
        "random_factor = np.random.uniform(0.1, 2, size=len(idf))\n",
        "\n",
        "# Step 2: Apply Random Factor to Magical Climate\n",
        "idf['adjusted_magical_climate'] = idf['magical_climate'] * random_factor\n",
        "\n",
        "# Step 3: Allocate Dragon Sightings (Similar to Step 4 above, but using adjusted_magical_climate)\n",
        "idf['settlement_dragon_sightings'] = (idf['adjusted_magical_climate'] / idf.groupby('region_kingdom')['adjusted_magical_climate'].transform('sum')) * idf['allocated_dragon_sightings']\n",
        "\n",
        "# Optional: Round the dragon sightings\n",
        "idf['settlement_dragon_sightings'] = idf['settlement_dragon_sightings'].round().astype(int)"
      ],
      "metadata": {
        "id": "-vBZbUNkktEL"
      },
      "execution_count": null,
      "outputs": []
    },
    {
      "cell_type": "code",
      "source": [
        "# Group by 'region_kingdom' and sum 'settlement_dragon_sightings'\n",
        "total_dragon_sightings_by_region = idf.groupby('region_kingdom')['settlement_dragon_sightings'].sum().reset_index()\n",
        "\n",
        "# Optional: Sort values for better visualization\n",
        "total_dragon_sightings_by_region = total_dragon_sightings_by_region.sort_values(by='settlement_dragon_sightings', ascending=False).reset_index(drop=True)\n",
        "\n",
        "# Display the result\n",
        "print(total_dragon_sightings_by_region)"
      ],
      "metadata": {
        "id": "v7Z06YEeSDb8",
        "outputId": "33433cf3-db2a-4d16-e443-b8ebc48b715d",
        "colab": {
          "base_uri": "https://localhost:8080/"
        }
      },
      "execution_count": null,
      "outputs": [
        {
          "output_type": "stream",
          "name": "stdout",
          "text": [
            "                         region_kingdom  settlement_dragon_sightings\n",
            "0                       The Sword Coast                          690\n",
            "1                             Mulhorand                           91\n",
            "2                                Unther                           59\n",
            "3                                Tethyr                           39\n",
            "4                                Cormyr                           29\n",
            "5                                   Amn                           22\n",
            "6                             Calimshan                            9\n",
            "7                                Sembia                            7\n",
            "8                             Lapaliiya                            6\n",
            "9                              Aglarond                            4\n",
            "10                                 Thay                            2\n",
            "11                            Chessenta                            1\n",
            "12                              Halruaa                            0\n",
            "13              Dwarfholds of the North                            0\n",
            "14                              Turmish                            0\n",
            "15                                Tuern                            0\n",
            "16  Trisk (Kingdom of the Purple Rocks)                            0\n",
            "17                                Thesk                            0\n",
            "18                   The Silver Marches                            0\n",
            "19                               Damara                            0\n",
            "20                               Sossal                            0\n",
            "21                              Ruathym                            0\n",
            "22                            Hartsvale                            0\n",
            "23                             Orlumbor                            0\n",
            "24                              Nimbral                            0\n",
            "25                              Narfell                            0\n",
            "26                             Evereska                            0\n",
            "27                             Evermeet                            0\n",
            "28                               Luiren                            0\n",
            "29                            Gundarlun                            0\n",
            "30                               Lantan                            0\n",
            "31                             Impiltur                            0\n",
            "32                             Moonshae                            0\n"
          ]
        }
      ]
    },
    {
      "cell_type": "code",
      "source": [
        "# Step 1\n",
        "settlement_size_mapping = {\n",
        "    'tiny_settlement': np.random.uniform(5, 15),\n",
        "    'small_settlement': np.random.uniform(5, 11),\n",
        "    'medium_settlement': np.random.uniform(4, 10),\n",
        "    'large_settlement': np.random.uniform(2, 7),\n",
        "    'mega_settlement': np.random.uniform(1, 8)\n",
        "}\n",
        "\n",
        "# Map settlement_size and fill NaN with a default value, then convert to int\n",
        "idf['average_household_size'] = idf['settlement_size'].map(settlement_size_mapping)\n",
        "idf['average_household_size'] = idf['average_household_size'].fillna(idf['average_household_size'].mean())  # replace NaN with the mean value\n",
        "idf['total_households'] = (idf['settlement_population'] / idf['average_household_size']).astype(int)  # now safe to convert to int\n",
        "\n",
        "\n",
        "# Step 2\n",
        "# Check if each value in class_density is a dictionary\n",
        "idf['is_dict'] = idf['class_density'].apply(lambda x: isinstance(x, dict))\n",
        "\n",
        "# Filter the DataFrame to keep only rows where class_density is a dictionary\n",
        "idf = idf[idf['is_dict'] == True]\n",
        "\n",
        "# You may drop the is_dict column as it's no longer needed\n",
        "idf = idf.drop(columns=['is_dict'])\n",
        "\n",
        "# Now you can use dictionary methods to extract values\n",
        "def parse_class_density(density):\n",
        "    return density.get('Wealthy', 0), density.get('Poor', 0), density.get('Squalid', 0)\n",
        "\n",
        "idf[['Wealthy', 'Poor', 'Squalid']] = idf['class_density'].apply(parse_class_density).apply(pd.Series)\n",
        "\n",
        "# Step 3\n",
        "debt_base = idf['Poor'] * 7 + idf['Squalid'] * 15 - idf['Wealthy'] * 5\n",
        "idf['average_debt_by_household'] = (1 + debt_base * idf['tax_rate'])\n",
        "idf['average_debt_by_household'] = idf['average_debt_by_household'].clip(lower=0)  # Ensure no negative debt\n",
        "idf['average_debt_by_household'] = (idf['average_debt_by_household'] / idf['total_households']).fillna(0)\n",
        "\n",
        "# Ensure the total debt doesn't exceed hidden_economy\n",
        "idf['average_debt_by_household'] = idf['average_debt_by_household'].where(\n",
        "    idf['average_debt_by_household'] * idf['total_households'] <= idf['hidden_economy'],\n",
        "    idf['hidden_economy'] / idf['total_households']\n",
        ")\n",
        "\n",
        "# Drop temporary columns if necessary\n",
        "idf = idf.drop(columns=['Wealthy', 'Poor', 'Squalid', 'total_households'])\n"
      ],
      "metadata": {
        "id": "Mu5eRvdhbQe-"
      },
      "execution_count": null,
      "outputs": []
    },
    {
      "cell_type": "code",
      "source": [
        "idf['average_debt_by_household'].describe()"
      ],
      "metadata": {
        "colab": {
          "base_uri": "https://localhost:8080/"
        },
        "id": "OUqTmfL7hpUc",
        "outputId": "f72fb29a-b90a-4c1a-c0a6-368d2b6e7aba"
      },
      "execution_count": null,
      "outputs": [
        {
          "output_type": "execute_result",
          "data": {
            "text/plain": [
              "count    648.000000\n",
              "mean       1.346091\n",
              "std        4.783225\n",
              "min        0.000000\n",
              "25%        0.000000\n",
              "50%        0.004707\n",
              "75%        0.286589\n",
              "max       55.049743\n",
              "Name: average_debt_by_household, dtype: float64"
            ]
          },
          "metadata": {},
          "execution_count": 102
        }
      ]
    },
    {
      "cell_type": "code",
      "source": [
        "idf['average_debt_by_household'].head()"
      ],
      "metadata": {
        "colab": {
          "base_uri": "https://localhost:8080/"
        },
        "id": "I2vicXa3kGZU",
        "outputId": "f6d92df2-be1b-460f-b5ed-d44576fc61b9"
      },
      "execution_count": null,
      "outputs": [
        {
          "output_type": "execute_result",
          "data": {
            "text/plain": [
              "0    16.575067\n",
              "1     0.001408\n",
              "2     0.000000\n",
              "3     0.000000\n",
              "4     4.895190\n",
              "Name: average_debt_by_household, dtype: float64"
            ]
          },
          "metadata": {},
          "execution_count": 106
        }
      ]
    },
    {
      "cell_type": "code",
      "source": [
        "# Function to determine development_index based on conditions\n",
        "def assign_development_index(row):\n",
        "    options = ['region improvement', 'administration']\n",
        "    if row['military'] != 'None':\n",
        "        options.append('military support')\n",
        "\n",
        "    return random.choice(options)\n",
        "\n",
        "# Applying the function to each row in the DataFrame\n",
        "idf['development_index'] = idf.apply(assign_development_index, axis=1)\n",
        "\n",
        "# If you want each region to have the same development_index, you can group by region and then transform:\n",
        "idf['development_index'] = idf.groupby('region_kingdom')['development_index'].transform('first')"
      ],
      "metadata": {
        "id": "T2lF-orzncir"
      },
      "execution_count": null,
      "outputs": []
    },
    {
      "cell_type": "code",
      "source": [
        "df.info()"
      ],
      "metadata": {
        "colab": {
          "base_uri": "https://localhost:8080/"
        },
        "id": "OBY0gFeOnjcO",
        "outputId": "d5eef366-df77-4c8e-e417-61fadaba0002"
      },
      "execution_count": null,
      "outputs": [
        {
          "output_type": "stream",
          "name": "stdout",
          "text": [
            "<class 'pandas.core.frame.DataFrame'>\n",
            "RangeIndex: 648 entries, 0 to 647\n",
            "Data columns (total 27 columns):\n",
            " #   Column                      Non-Null Count  Dtype  \n",
            "---  ------                      --------------  -----  \n",
            " 0   settlement                  648 non-null    object \n",
            " 1   region_kingdom              648 non-null    object \n",
            " 2   capital                     648 non-null    object \n",
            " 3   settlement_population       648 non-null    int64  \n",
            " 4   settlement_economy          648 non-null    int64  \n",
            " 5   rumored_treasure_value      648 non-null    int64  \n",
            " 6   demographic_breakdown       648 non-null    object \n",
            " 7   average_age                 648 non-null    int64  \n",
            " 8   most_likely_cause_of_death  648 non-null    object \n",
            " 9   government_type             648 non-null    object \n",
            " 10  class_density               648 non-null    object \n",
            " 11  tax_rate                    648 non-null    int64  \n",
            " 12  exports                     647 non-null    object \n",
            " 13  imports                     623 non-null    object \n",
            " 14  ruler                       536 non-null    object \n",
            " 15  military                    622 non-null    object \n",
            " 16  magic_academy               648 non-null    object \n",
            " 17  languages                   646 non-null    object \n",
            " 18  religions                   645 non-null    object \n",
            " 19  region_population           648 non-null    int64  \n",
            " 20  region_economy              648 non-null    int64  \n",
            " 21  area                        365 non-null    float64\n",
            " 22  average_temperature         648 non-null    float64\n",
            " 23  annual_rainfall             648 non-null    float64\n",
            " 24  sources                     538 non-null    object \n",
            " 25  magical_climate             648 non-null    int64  \n",
            " 26  dragon_sightings            648 non-null    int64  \n",
            "dtypes: float64(3), int64(9), object(15)\n",
            "memory usage: 136.8+ KB\n"
          ]
        }
      ]
    },
    {
      "cell_type": "code",
      "source": [
        "import ast\n",
        "import numpy as np\n",
        "\n",
        "# Function to safely evaluate literals or return an empty dictionary on error\n",
        "def safe_literal_eval(text):\n",
        "    try:\n",
        "        return ast.literal_eval(text)\n",
        "    except (ValueError, SyntaxError):\n",
        "        return {}\n",
        "\n",
        "# Convert 'demographic_breakdown' column to dictionaries, replacing problematic entries with empty dictionaries\n",
        "df['demographic_breakdown'] = df['demographic_breakdown'].apply(lambda x: safe_literal_eval(x) if pd.notna(x) else {})\n",
        "\n",
        "# Convert 'class_density' column to dictionaries\n",
        "df['class_density'] = df['class_density'].apply(safe_literal_eval)\n",
        "\n",
        "# Convert 'government_type' to a list and replace the original column\n",
        "df['government_type'] = df['government_type'].apply(lambda x: [x])\n",
        "\n",
        "# Split 'religions' by commas and replace the original column\n",
        "df['religions'] = df['religions'].str.split(', ')\n",
        "\n",
        "# Split 'languages' by commas and replace the original column\n",
        "df['languages'] = df['languages'].str.split(', ')\n"
      ],
      "metadata": {
        "colab": {
          "base_uri": "https://localhost:8080/"
        },
        "id": "TEZeOApipk_O",
        "outputId": "96568bb6-5170-4d26-90d7-2d57e6f810c5"
      },
      "execution_count": null,
      "outputs": [
        {
          "output_type": "execute_result",
          "data": {
            "text/plain": [
              "0    36.6\n",
              "1    38.2\n",
              "2    44.6\n",
              "3    49.4\n",
              "4    43.3\n",
              "Name: annual_rainfall, dtype: float64"
            ]
          },
          "metadata": {},
          "execution_count": 134
        }
      ]
    },
    {
      "cell_type": "code",
      "source": [
        "# Mapping dictionary to standardize demographic categories\n",
        "demographic_mapping = {\n",
        "    'half-orcs': 'half-orcs',\n",
        "    'half-orc': 'half-orcs',\n",
        "    'dwarf': 'dwarves',\n",
        "    'half-elf': 'half-elves',\n",
        "    'elf': 'elves',\n",
        "    'gnoll': 'gnolls',\n",
        "    'giant': 'giants',\n",
        "    'tiefling': 'tieflings',\n",
        "    'goblin': 'goblins',\n",
        "    'human': 'humans',\n",
        "    'orc': 'orcs',\n",
        "}\n",
        "\n",
        "\n",
        "# Define a function to safely convert strings to dictionaries\n",
        "def safe_dict_conversion(value):\n",
        "    try:\n",
        "        return ast.literal_eval(value)\n",
        "    except (ValueError, SyntaxError):\n",
        "        return {}\n",
        "\n",
        "# Apply the safe_dict_conversion function to the 'demographic_breakdown' column\n",
        "df['demographic_breakdown'] = df['demographic_breakdown'].apply(safe_dict_conversion)\n",
        "\n",
        "# Filter out empty dictionaries\n",
        "df['demographic_breakdown'] = df['demographic_breakdown'].apply(lambda d: {} if not d else d)\n",
        "\n",
        "# Standardize demographic categories using the mapping dictionary\n",
        "def standardize_demographics(d):\n",
        "    return {\n",
        "        demographic_mapping.get(key, key): value for key, value in d.items()\n",
        "    }\n",
        "\n",
        "df['demographic_breakdown'] = df['demographic_breakdown'].apply(standardize_demographics)\n",
        "\n",
        "# Create a counter for demographic categories\n",
        "from collections import Counter\n",
        "\n",
        "all_demographics = []\n",
        "for d in df['demographic_breakdown']:\n",
        "    all_demographics.extend(d.keys())\n",
        "\n",
        "demographics_counter = Counter(all_demographics)\n",
        "\n",
        "# Print the unique keys and their counts\n",
        "for key, count in demographics_counter.items():\n",
        "    print(f'{key}: {count}')"
      ],
      "metadata": {
        "id": "l7GNlBvs-CCy"
      },
      "execution_count": null,
      "outputs": []
    },
    {
      "cell_type": "code",
      "source": [
        "# Export DataFrame to Excel\n",
        "df.to_excel(df_file_path, index=False)\n",
        "\n",
        "# Export the idf dataset to a CSV file\n",
        "idf.to_csv('/content/drive/MyDrive/Colab Notebooks/DnD/idf_dataset.csv', index=False)\n",
        "\n",
        "print(f'DataFrame exported to: {df_file_path}')"
      ],
      "metadata": {
        "id": "bJoLExXu-Iu4"
      },
      "execution_count": null,
      "outputs": []
    },
    {
      "cell_type": "code",
      "source": [
        "    data = {\n",
        "            \"Number of Landowners\": np.random.randint(1, 200),\n",
        "            \"Number of Homeowners\": np.random.randint(10, 10000),\n",
        "            \"Average Rent\": np.random.randint(1, 5000),\n",
        "            \"Likelihood of Getting Cursed\": np.random.randint(0, 10),\n",
        "            \"Danger Level\": np.random.randint(0, 10),\n",
        "            \"Openness to Strangers\": np.random.randint(0, 100),\n",
        "            \"Political Climate\": np.random.randint(0, 100),\n",
        "            \"Fate Ranking\": np.random.randint(0, 10),\n",
        "        }\n"
      ],
      "metadata": {
        "id": "uXEXqTrhm8oW"
      },
      "execution_count": null,
      "outputs": []
    },
    {
      "cell_type": "code",
      "source": [
        "# Adjusting Danger Level\n",
        "df['Danger Level'] = (\n",
        "    df['Dragon Sightings']\n",
        "    + df['Political Climate']\n",
        "    + df['Magical Climate']\n",
        "    + df['Likelihood of Getting Cursed']\n",
        "    + df['Tax Rate']\n",
        "    + df['Average Debt by Household']\n",
        "    + df['Rumored Treasure Value']\n",
        "    + df['Openness to Strangers'].apply(lambda x: 10 if x <= 2.5 or x >= 7.5 else 0)\n",
        ").astype(int)\n",
        "\n",
        "# Increase \"Danger Level\" if Orcs are present\n",
        "df.loc[df['Percentage of population Orcs'] > 0, 'Danger Level'] += 1\n",
        "\n",
        "# Decrease \"Danger Level\" if Elves are present\n",
        "df.loc[df['Percentage of population Elves'] > 0, 'Danger Level'] -= 1\n",
        "\n",
        "# Adjusting Danger Level based on the presence of Orcs and Elves\n",
        "df['Danger Level'] = df.apply(lambda row: np.random.randint(1, 11)\n",
        "                                          + (3 if row['Percentage of population Orcs'] > 0 else 0)\n",
        "                                          - (2 if row['Percentage of population Elves'] > 0 else 0), axis=1)\n",
        "\n",
        "# Adjusting Openness to Strangers\n",
        "df['Openness to Strangers'] = df.apply(lambda row: np.random.randint(0, 11)\n",
        "                                                   - (3 if row['Percentage of population Elves'] > 0\n",
        "                                                       or row['Percentage of population Orcs'] > 0 else 0), axis=1)\n",
        "\n",
        "# Adjusting Magical Climate\n",
        "df['Magical Climate'] = df.apply(lambda row: row['Magical Climate']\n",
        "                                             + (row['Percentage of population Elves'] / 100 * 2)\n",
        "                                             + (row['Dragon Sightings'] / 10)\n",
        "                                             + row['Number of Active Wizards'], axis=1)\n",
        "\n",
        "# Pre-calculation of sum values\n",
        "grouped = df.groupby('Region')\n",
        "region_gold_mapping = grouped[['Active Economy (Gold)', 'Hidden Economy (Gold)']].sum(numeric_only=True).sum(axis=1)\n",
        "df['Total Gold in Region'] = df['Region'].map(region_gold_mapping)\n",
        "\n",
        "# Main DataFrame Manipulations\n",
        "df['Dragon Sightings'] = df.apply(calculate_dragon_sightings, axis=1)\n",
        "df['Dragon Sightings'] = ((df['Dragon Sightings'] - df['Dragon Sightings'].min()) /\n",
        "                          (df['Dragon Sightings'].max() - df['Dragon Sightings'].min()) * 50).astype(int)\n",
        "\n",
        "df['Average Age of Population'] = df.apply(lambda row: calculate_average_age(row, species_age_ranges), axis=1)\n",
        "df['Average Age of Population'] -= df['Danger Level'] * 0.5\n",
        "df['Average Age of Population'] = df['Average Age of Population'].clip(lower=1)\n",
        "\n",
        "df['Hidden Economy (Gold)'] = df['Number of Nobility'] * 1e4\n",
        "df['Openness to Strangers'] = df.apply(calculate_openness_to_strangers, axis=1)\n",
        "\n",
        "# Adjusting population distribution for specific species across cities\n",
        "def adjust_population_distribution(df, species, percentage, city_count):\n",
        "    total_population = df['Population of City'].sum()\n",
        "    target_population = int(total_population * (percentage / 100))\n",
        "    selected_cities = df.sample(city_count)\n",
        "    each_city_population = target_population // city_count\n",
        "    for i, city in selected_cities.iterrows():\n",
        "        df.at[i, f'Percentage of population {species}'] = (each_city_population / city['Population of City']) * 100\n",
        "\n",
        "# Adjusting Economy Distribution\n",
        "total_active_economy = np.sum(df['Active Economy (Gold)'])\n",
        "top_10_cities_active_economy = total_active_economy * 0.50\n",
        "next_100_cities_active_economy = total_active_economy * 0.25\n",
        "remaining_cities_active_economy = total_active_economy * 0.25\n",
        "\n",
        "# Known Treasure and Rumored Treasure Calculations\n",
        "df['Known Treasure'] = df['Active Economy (Gold)'] * 0.50\n",
        "df['Rumored Treasure'] = (df['Active Economy (Gold)'] * 0.50) + df['Hidden Economy (Gold)']\n",
        "\n",
        "# Adjusting Political Climate and Fate Ranking\n",
        "df['Wizarding School'] = np.random.choice(['yes', 'no'], num_cities)\n",
        "df['Number of Homeowners'] = (df['Population of City'] * np.random.uniform(0.5, 0.7)).astype(int)\n",
        "df['Average Rent'] = np.random.uniform(500, 2000, num_cities)\n",
        "df['Average Age of Population'] = np.random.uniform(25, 70, num_cities)\n",
        "df['Known Treasure Value'] = np.random.uniform(0, 1e6, num_cities)\n",
        "\n",
        "# Adjust the tax rate based on the number of nobility\n",
        "df['Tax Rate'] = df.apply(lambda row: 0 if row['Number of Nobility'] == 0 else row['Tax Rate'], axis=1)\n",
        "\n",
        "# (You need to define 'Average Debt by Household' and 'Rumored Treasure Value' before using them in the next formula)\n",
        "df['Political Climate'] = (df['Tax Rate'] + df['Number of Homeowners']/df['Population of City'] +\n",
        "                              df['Average Rent']/2000 + df['Average Debt by Household']/1e4 +\n",
        "                              df['Average Age of Population']/70 + df['Hidden Economy (Gold)']/1e6 +\n",
        "                              df['Known Treasure Value']/1e6 + df['Rumored Treasure Value']/1e6) / 8\n",
        "\n",
        "df['Fate ranking'] = (df['Rumored Treasure Value'] / 1e6) + np.where(df['Wizarding School'] == 'yes', 1, 0) + df['Political Climate']"
      ],
      "metadata": {
        "id": "fDLKtPU2fbHB"
      },
      "execution_count": null,
      "outputs": []
    }
  ]
}