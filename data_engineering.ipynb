{
  "nbformat": 4,
  "nbformat_minor": 0,
  "metadata": {
    "colab": {
      "provenance": [],
      "mount_file_id": "1mS8-Ddi19cWTQBFOyaXRRHx6zJT5LmZd",
      "authorship_tag": "ABX9TyMK8+DaveQ6AeC56SrXCedu",
      "include_colab_link": true
    },
    "kernelspec": {
      "name": "python3",
      "display_name": "Python 3"
    },
    "language_info": {
      "name": "python"
    }
  },
  "cells": [
    {
      "cell_type": "markdown",
      "metadata": {
        "id": "view-in-github",
        "colab_type": "text"
      },
      "source": [
        "<a href=\"https://colab.research.google.com/github/jbloewencolon/Creating-Dataset-for-The-Demographics-of-Faerun/blob/main/data_engineering.ipynb\" target=\"_parent\"><img src=\"https://colab.research.google.com/assets/colab-badge.svg\" alt=\"Open In Colab\"/></a>"
      ]
    },
    {
      "cell_type": "markdown",
      "source": [
        "# Imports"
      ],
      "metadata": {
        "id": "-J9kmiEOdKeZ"
      }
    },
    {
      "cell_type": "code",
      "source": [
        "import pandas as pd\n",
        "import numpy as np\n",
        "import random\n",
        "import ast"
      ],
      "metadata": {
        "id": "GRaC-zagdQGq"
      },
      "execution_count": 1,
      "outputs": []
    },
    {
      "cell_type": "code",
      "source": [
        "# File path\n",
        "df_file_path = '/content/drive/MyDrive/Colab Notebooks/DnD/updated_dataset.csv'\n",
        "idf_file_path = '/content/drive/MyDrive/Colab Notebooks/DnD/idf_dataset.csv'\n",
        "\n",
        "# Read the Excel file into a DataFrame\n",
        "df = pd.read_csv(df_file_path)\n",
        "\n",
        "# Read the Excel file into a DataFrame\n",
        "idf = pd.read_csv(idf_file_path)"
      ],
      "metadata": {
        "id": "f9oTk0_21QW2"
      },
      "execution_count": 96,
      "outputs": []
    },
    {
      "cell_type": "code",
      "source": [
        "df.info()"
      ],
      "metadata": {
        "colab": {
          "base_uri": "https://localhost:8080/"
        },
        "id": "7cpMqvCW3ggV",
        "outputId": "b4da12e7-c721-4479-c96a-31b77fb2f6a8"
      },
      "execution_count": 97,
      "outputs": [
        {
          "output_type": "stream",
          "name": "stdout",
          "text": [
            "<class 'pandas.core.frame.DataFrame'>\n",
            "RangeIndex: 849 entries, 0 to 848\n",
            "Data columns (total 26 columns):\n",
            " #   Column                      Non-Null Count  Dtype  \n",
            "---  ------                      --------------  -----  \n",
            " 0   settlement                  849 non-null    object \n",
            " 1   region                      849 non-null    object \n",
            " 2   settlement_population       849 non-null    int64  \n",
            " 3   settlement_economy          367 non-null    float64\n",
            " 4   rumored_treasure_value      367 non-null    float64\n",
            " 5   demographic_breakdown       368 non-null    object \n",
            " 6   average_age                 367 non-null    float64\n",
            " 7   most_likely_cause_of_death  367 non-null    object \n",
            " 8   government_type             371 non-null    object \n",
            " 9   class_density               367 non-null    object \n",
            " 10  tax_rate                    367 non-null    float64\n",
            " 11  exports                     453 non-null    object \n",
            " 12  imports                     435 non-null    object \n",
            " 13  military                    441 non-null    object \n",
            " 14  magic_academy               365 non-null    object \n",
            " 15  capital                     530 non-null    object \n",
            " 16  languages                   440 non-null    object \n",
            " 17  religions                   431 non-null    object \n",
            " 18  region_area                 833 non-null    float64\n",
            " 19  region_population           845 non-null    float64\n",
            " 20  region_economy              368 non-null    float64\n",
            " 21  average_temperature         367 non-null    float64\n",
            " 22  annual_rainfall             367 non-null    float64\n",
            " 23  magical_climate             367 non-null    float64\n",
            " 24  dragon_sightings            367 non-null    float64\n",
            " 25  size                        848 non-null    object \n",
            "dtypes: float64(11), int64(1), object(14)\n",
            "memory usage: 172.6+ KB\n"
          ]
        }
      ]
    },
    {
      "cell_type": "markdown",
      "source": [
        "# Data Understanding"
      ],
      "metadata": {
        "id": "H7M_GS3BdTfN"
      }
    },
    {
      "cell_type": "code",
      "source": [
        "df['class_density'].tail()"
      ],
      "metadata": {
        "colab": {
          "base_uri": "https://localhost:8080/"
        },
        "id": "lQLufd0ODKIs",
        "outputId": "fbca90c4-4426-4ccf-8207-b92a129d8851"
      },
      "execution_count": 98,
      "outputs": [
        {
          "output_type": "execute_result",
          "data": {
            "text/plain": [
              "844    NaN\n",
              "845    NaN\n",
              "846    NaN\n",
              "847    NaN\n",
              "848    NaN\n",
              "Name: class_density, dtype: object"
            ]
          },
          "metadata": {},
          "execution_count": 98
        }
      ]
    },
    {
      "cell_type": "code",
      "source": [
        "# Assuming you have a DataFrame 'df' with columns containing float values\n",
        "columns_to_convert = ['settlement_population', 'region_population', 'settlement_economy', 'rumored_treasure_value', 'region_economy']\n",
        "\n",
        "# Fill NaN values with 0 and convert infinity values to a large integer\n",
        "for column in columns_to_convert:\n",
        "    df[column] = df[column].fillna(0).replace([np.inf, -np.inf], np.nan).astype(int)\n",
        "\n",
        "# Use astype(int) to convert specified columns to integers\n",
        "df[columns_to_convert] = df[columns_to_convert].astype(int)"
      ],
      "metadata": {
        "id": "yhElEWm3ktdD"
      },
      "execution_count": 99,
      "outputs": []
    },
    {
      "cell_type": "code",
      "source": [
        "# Generate random percentages between 3% and 7%\n",
        "random_percentages = np.random.uniform(0.03, 0.07, size=len(df))\n",
        "\n",
        "# Randomly choose to add or subtract the percentage\n",
        "change_factors = 1 + np.random.choice([-1, 1], size=len(df)) * random_percentages\n",
        "\n",
        "# Apply the change factors to the 'settlement_population' column\n",
        "df['settlement_population'] = np.rint(np.nan_to_num(df['settlement_population']) * change_factors).astype(int)"
      ],
      "metadata": {
        "id": "mbXQT5Fi7MLu"
      },
      "execution_count": 100,
      "outputs": []
    },
    {
      "cell_type": "markdown",
      "source": [
        "# Determing Class Density and Generating Economy"
      ],
      "metadata": {
        "id": "b4HUaHkLNayy"
      }
    },
    {
      "cell_type": "code",
      "source": [
        "lifestyle_costs = {\n",
        "    'Wretched': 0,          # No cost\n",
        "    'Squalid': .1,           # 1 silver piece (sp) per day\n",
        "    'Poor': .2,              # 2 silver pieces (sp) per day\n",
        "    'Modest': 1,            # 1 gold piece (gp) per day\n",
        "    'Comfortable': 2,       # 2 gold pieces (gp) per day\n",
        "    'Wealthy': 4,           # 4 gold pieces (gp) per day\n",
        "    'Aristocratic': 10      # 10 gold pieces (gp) minimum per day\n",
        "}\n",
        "\n",
        "lifestyle_ranges = {\n",
        "    'tiny_settlement': {'Aristocratic': (0, 0.0001), 'Wealthy': (0, .05), 'Comfortable': (1, 10), 'Modest': (1, 20), 'Poor': (30, 35), 'Squalid': (10, 30), 'Wretched': (0, 0.001)},\n",
        "    'small_settlement': {'Aristocratic': (0, .005), 'Wealthy': (.05, 1), 'Comfortable': (4, 7), 'Modest': (7, 20),'Poor': (30, 35), 'Squalid': (15, 30), 'Wretched': (1, 2)},\n",
        "    'medium_settlement': {'Aristocratic': (0, .05), 'Wealthy': (1, 2), 'Comfortable': (6, 8), 'Modest': (10, 25),'Poor': (30, 35), 'Squalid': (18, 30), 'Wretched': (3, 8)},\n",
        "    'large_settlement': {'Aristocratic': (0, .5), 'Wealthy': (1, 3), 'Comfortable': (7, 13), 'Modest': (10, 20),'Poor': (30, 35), 'Squalid': (20, 40), 'Wretched': (5, 10)},\n",
        "    'mega_settlement': {'Aristocratic': (0, .8), 'Wealthy': (2, 3), 'Comfortable': (10, 15), 'Modest': (15, 30),'Poor': (30, 35), 'Squalid': (35, 50), 'Wretched': (8, 10)}\n",
        "}"
      ],
      "metadata": {
        "id": "vssyN2JLn6QV"
      },
      "execution_count": 101,
      "outputs": []
    },
    {
      "cell_type": "code",
      "source": [
        "def assign_lifestyle_demographics(population):\n",
        "    total_economy = 0\n",
        "\n",
        "    # Step 1: Determine city_size\n",
        "    if population < 100:\n",
        "        city_size = 'tiny_settlement'\n",
        "    elif 100 <= population < 1000:\n",
        "        city_size = 'small_settlement'\n",
        "    elif 1000 <= population < 10000:\n",
        "        city_size = 'medium_settlement'\n",
        "    elif 10000 <= population < 100000:\n",
        "        city_size = 'large_settlement'\n",
        "    else:\n",
        "        city_size = 'mega_settlement'\n",
        "\n",
        "    # Step 2: Calculate class_density and total_economy\n",
        "    class_density = {}\n",
        "    for lifestyle, (start, end) in lifestyle_ranges[city_size].items():\n",
        "        percentage = random.uniform(start, end)\n",
        "        count = int(population * (percentage / 100))\n",
        "        class_density[lifestyle] = count\n",
        "        total_economy += count * lifestyle_costs[lifestyle] * 365\n",
        "\n",
        "    return class_density, total_economy\n",
        "\n",
        "# Apply the function to the 'settlement_population' column and directly assign the results to new DataFrame columns\n",
        "results = df['settlement_population'].apply(assign_lifestyle_demographics)\n",
        "df['class_density'] = results.apply(lambda x: x[0])\n",
        "df['settlement_economy'] = results.apply(lambda x: x[1])\n",
        "\n",
        "# Convert the dictionary in 'class_density' to a string representation if necessary\n",
        "df['class_density'] = df['class_density'].apply(str)"
      ],
      "metadata": {
        "id": "99VCBCBn-Qyz"
      },
      "execution_count": 102,
      "outputs": []
    },
    {
      "cell_type": "code",
      "source": [
        "# Create an empty dictionary to store the total sum of each lifestyle category\n",
        "total_class_density = {}\n",
        "\n",
        "# Assuming you have a DataFrame 'df' with columns containing float values\n",
        "for _, row in df.iterrows():\n",
        "    class_density, _ = assign_lifestyle_demographics(row['settlement_population'])\n",
        "\n",
        "    # Add the counts to the total_class_density dictionary\n",
        "    for lifestyle, count in class_density.items():\n",
        "        total_class_density[lifestyle] = total_class_density.get(lifestyle, 0) + count\n",
        "\n",
        "# Print the total sum of each lifestyle category across all settlements\n",
        "for lifestyle, total_count in total_class_density.items():\n",
        "    print(f\"Total {lifestyle} count: {total_count}\")"
      ],
      "metadata": {
        "colab": {
          "base_uri": "https://localhost:8080/"
        },
        "id": "7DNdK2qUlf0D",
        "outputId": "bf33972c-828f-43b6-9a78-878db0cca830"
      },
      "execution_count": 103,
      "outputs": [
        {
          "output_type": "stream",
          "name": "stdout",
          "text": [
            "Total Aristocratic count: 26685\n",
            "Total Wealthy count: 227054\n",
            "Total Comfortable count: 1137048\n",
            "Total Modest count: 1937613\n",
            "Total Poor count: 3425069\n",
            "Total Squalid count: 3688480\n",
            "Total Wretched count: 826220\n"
          ]
        }
      ]
    },
    {
      "cell_type": "code",
      "source": [
        "df['class_density'].tail()"
      ],
      "metadata": {
        "colab": {
          "base_uri": "https://localhost:8080/"
        },
        "id": "U9GJHYbWBRKu",
        "outputId": "06cd9d1c-842d-4e82-a235-ffce48039d4f"
      },
      "execution_count": 104,
      "outputs": [
        {
          "output_type": "execute_result",
          "data": {
            "text/plain": [
              "844    {'Aristocratic': 45, 'Wealthy': 296, 'Comforta...\n",
              "845    {'Aristocratic': 0, 'Wealthy': 0, 'Comfortable...\n",
              "846    {'Aristocratic': 0, 'Wealthy': 2, 'Comfortable...\n",
              "847    {'Aristocratic': 0, 'Wealthy': 25, 'Comfortabl...\n",
              "848    {'Aristocratic': 0, 'Wealthy': 28, 'Comfortabl...\n",
              "Name: class_density, dtype: object"
            ]
          },
          "metadata": {},
          "execution_count": 104
        }
      ]
    },
    {
      "cell_type": "code",
      "source": [
        "# Calculate the total economy across all settlements\n",
        "total_economy = df['settlement_economy'].sum()\n",
        "print(f\"Total Economy: {total_economy}\")\n",
        "\n",
        "# Find the top 10 settlements with the highest settlement economy\n",
        "top_10_settlements = df.nlargest(10, 'settlement_economy')\n",
        "\n",
        "# Print the top 10 settlements\n",
        "print(\"Top 10 Settlements by Economy:\")\n",
        "print(top_10_settlements[['settlement', 'settlement_economy', 'settlement_population']])\n"
      ],
      "metadata": {
        "colab": {
          "base_uri": "https://localhost:8080/"
        },
        "id": "QGU6RGFMBxiw",
        "outputId": "294546e6-48e2-4a3d-82f0-da855fd32ba3"
      },
      "execution_count": 105,
      "outputs": [
        {
          "output_type": "stream",
          "name": "stdout",
          "text": [
            "Total Economy: 2417739888.5\n",
            "Top 10 Settlements by Economy:\n",
            "        settlement  settlement_economy  settlement_population\n",
            "764      Waterdeep         352979783.5                1286370\n",
            "426       Darromar         332284174.0                1196790\n",
            "478      Thaymount         269589584.0                 892341\n",
            "186        Elturel          56907332.5                 191960\n",
            "324       Skyclave          47772660.0                 200785\n",
            "832      Unthalass          46441979.5                 165884\n",
            "351     Skalnaedyr          37378737.5                 132505\n",
            "114         Suzail          34801253.5                 135006\n",
            "798        Thindar          34413185.5                 160351\n",
            "676  Baldur's Gate          34371575.5                 116681\n"
          ]
        }
      ]
    },
    {
      "cell_type": "code",
      "source": [
        "# Group by 'Region' and sum up the 'settlement_economy'\n",
        "region_economy_sum = df.groupby('region')['settlement_economy'].sum().reset_index()\n",
        "\n",
        "# Rename the columns for easier merging\n",
        "region_economy_sum.columns = ['region', 'new_region_economy']\n",
        "\n",
        "# Merge the DataFrame to include the new region economy sums\n",
        "df = pd.merge(df, region_economy_sum, on='region', how='left')\n",
        "\n",
        "# Update the 'region_economy' column with the newly computed sums\n",
        "df['region_economy'] = df['new_region_economy']\n",
        "\n",
        "# Drop the temporary column used for merging\n",
        "df.drop(columns=['new_region_economy'], inplace=True)\n"
      ],
      "metadata": {
        "id": "R8K18tGyDHvb"
      },
      "execution_count": 107,
      "outputs": []
    },
    {
      "cell_type": "code",
      "source": [
        "df['region_economy'].tail()"
      ],
      "metadata": {
        "colab": {
          "base_uri": "https://localhost:8080/"
        },
        "id": "hDeXVXvDQfL1",
        "outputId": "167f87e4-1cd4-4c24-fafc-09f460f1edc7"
      },
      "execution_count": 108,
      "outputs": [
        {
          "output_type": "execute_result",
          "data": {
            "text/plain": [
              "844    6165908.5\n",
              "845     719889.5\n",
              "846     719889.5\n",
              "847     719889.5\n",
              "848     719889.5\n",
              "Name: region_economy, dtype: float64"
            ]
          },
          "metadata": {},
          "execution_count": 108
        }
      ]
    },
    {
      "cell_type": "code",
      "source": [
        "def adjust_settlement_economy(row):\n",
        "    if row['settlement_size'] == 'tiny':\n",
        "        return row['settlement_economy'] / 10000\n",
        "    elif row['settlement_size'] == 'small':\n",
        "        return row['settlement_economy'] / 1000\n",
        "    elif row['settlement_size'] == 'medium':\n",
        "        return row['settlement_economy'] / 100\n",
        "    elif row['settlement_size'] == 'large':\n",
        "        return row['settlement_economy'] / 10\n",
        "    else:\n",
        "        return row['settlement_economy']\n",
        "\n",
        "# Create 'settlement_size' column by applying 'determine_settlement_size'\n",
        "idf['settlement_size'] = df['settlement_population'].apply(determine_settlement_size)\n",
        "\n",
        "# Save this column as a separate Series for future use\n",
        "settlement_size_series = idf['settlement_size'].copy()\n",
        "\n",
        "# Adjust the 'settlement_economy' column\n",
        "idf['settlement_economy'] = idf.apply(adjust_settlement_economy, axis=1)\n"
      ],
      "metadata": {
        "id": "Cz2eo2NFxTuZ",
        "colab": {
          "base_uri": "https://localhost:8080/",
          "height": 245
        },
        "outputId": "b5b5def7-8e09-4282-ea97-403efb23eae9"
      },
      "execution_count": 109,
      "outputs": [
        {
          "output_type": "error",
          "ename": "NameError",
          "evalue": "ignored",
          "traceback": [
            "\u001b[0;31m---------------------------------------------------------------------------\u001b[0m",
            "\u001b[0;31mNameError\u001b[0m                                 Traceback (most recent call last)",
            "\u001b[0;32m<ipython-input-109-099e2a84efc8>\u001b[0m in \u001b[0;36m<cell line: 14>\u001b[0;34m()\u001b[0m\n\u001b[1;32m     12\u001b[0m \u001b[0;34m\u001b[0m\u001b[0m\n\u001b[1;32m     13\u001b[0m \u001b[0;31m# Create 'settlement_size' column by applying 'determine_settlement_size'\u001b[0m\u001b[0;34m\u001b[0m\u001b[0;34m\u001b[0m\u001b[0m\n\u001b[0;32m---> 14\u001b[0;31m \u001b[0midf\u001b[0m\u001b[0;34m[\u001b[0m\u001b[0;34m'settlement_size'\u001b[0m\u001b[0;34m]\u001b[0m \u001b[0;34m=\u001b[0m \u001b[0mdf\u001b[0m\u001b[0;34m[\u001b[0m\u001b[0;34m'settlement_population'\u001b[0m\u001b[0;34m]\u001b[0m\u001b[0;34m.\u001b[0m\u001b[0mapply\u001b[0m\u001b[0;34m(\u001b[0m\u001b[0mdetermine_settlement_size\u001b[0m\u001b[0;34m)\u001b[0m\u001b[0;34m\u001b[0m\u001b[0;34m\u001b[0m\u001b[0m\n\u001b[0m\u001b[1;32m     15\u001b[0m \u001b[0;34m\u001b[0m\u001b[0m\n\u001b[1;32m     16\u001b[0m \u001b[0;31m# Save this column as a separate Series for future use\u001b[0m\u001b[0;34m\u001b[0m\u001b[0;34m\u001b[0m\u001b[0m\n",
            "\u001b[0;31mNameError\u001b[0m: name 'determine_settlement_size' is not defined"
          ]
        }
      ]
    },
    {
      "cell_type": "code",
      "source": [
        "idf.info()"
      ],
      "metadata": {
        "colab": {
          "base_uri": "https://localhost:8080/"
        },
        "id": "ha5ZtP-fP0Cv",
        "outputId": "8700fad9-da72-4277-ebd5-64b44f92e123"
      },
      "execution_count": null,
      "outputs": [
        {
          "output_type": "stream",
          "name": "stdout",
          "text": [
            "<class 'pandas.core.frame.DataFrame'>\n",
            "RangeIndex: 648 entries, 0 to 647\n",
            "Data columns (total 27 columns):\n",
            " #   Column                     Non-Null Count  Dtype  \n",
            "---  ------                     --------------  -----  \n",
            " 0   settlement                 648 non-null    object \n",
            " 1   region_kingdom             648 non-null    object \n",
            " 2   capital                    648 non-null    object \n",
            " 3   settlement_population      648 non-null    int64  \n",
            " 4   military                   622 non-null    object \n",
            " 5   exports                    647 non-null    object \n",
            " 6   imports                    623 non-null    object \n",
            " 7   population_breakdown       648 non-null    object \n",
            " 8   region_population          648 non-null    int64  \n",
            " 9   settlement_economy         648 non-null    int64  \n",
            " 10  class_density              648 non-null    object \n",
            " 11  demographic_breakdown      648 non-null    object \n",
            " 12  average_age                648 non-null    int64  \n",
            " 13  rumored_treasure_value     648 non-null    int64  \n",
            " 14  region_economy             648 non-null    int64  \n",
            " 15  government_type            648 non-null    object \n",
            " 16  tax_rate                   648 non-null    int64  \n",
            " 17  settlement_size            648 non-null    object \n",
            " 18  normalized_wealth          648 non-null    float64\n",
            " 19  trade_balance              648 non-null    int64  \n",
            " 20  normalized_trade_balance   648 non-null    float64\n",
            " 21  hidden_economy             648 non-null    int64  \n",
            " 22  normalized_hidden_economy  648 non-null    float64\n",
            " 23  normalized_age             648 non-null    float64\n",
            " 24  inequality_score           648 non-null    float64\n",
            " 25  hidden_economy_per_capita  648 non-null    float64\n",
            " 26  adjusted_average_age       648 non-null    float64\n",
            "dtypes: float64(7), int64(9), object(11)\n",
            "memory usage: 136.8+ KB\n"
          ]
        }
      ]
    },
    {
      "cell_type": "markdown",
      "source": [
        "# Calculating Hidden Economy"
      ],
      "metadata": {
        "id": "8xW7oM3YNlru"
      }
    },
    {
      "cell_type": "code",
      "source": [
        "def calculate_hidden_economy(row):\n",
        "    try:\n",
        "        if isinstance(row['class_density'], str):\n",
        "            class_density = ast.literal_eval(row['class_density'])\n",
        "        else:\n",
        "            class_density = row['class_density']\n",
        "\n",
        "        # Adjusted multipliers to generate smaller hidden_economy values\n",
        "        squalid_multiplier = class_density.get('Squalid', 0) * 0.0000005  # Adjusted weight\n",
        "        wretched_multiplier = class_density.get('Wretched', 0) * 0.0000003  # Adjusted weight\n",
        "        poor_multiplier = class_density.get('Poor', 0) * 0.0000001  # Adjusted weight\n",
        "        wealthy_multiplier = class_density.get('Wealthy', 0) * 0.000004  # Adjusted weight\n",
        "        aristocratic_multiplier = class_density.get('Aristocratic', 0) * 0.00001  # Adjusted weight\n",
        "\n",
        "        # Calculating hidden_multiplier using adjusted weights\n",
        "        hidden_multiplier = wealthy_multiplier + aristocratic_multiplier + squalid_multiplier - wretched_multiplier - poor_multiplier\n",
        "\n",
        "        # Final hidden economy calculation using the adjusted hidden_multiplier\n",
        "        hidden_economy = row['settlement_economy'] * hidden_multiplier if hidden_multiplier != 0 else row['settlement_economy']\n",
        "\n",
        "        return hidden_economy\n",
        "    except Exception as e:\n",
        "        print(f\"An error occurred: {e}\")\n",
        "        return None\n",
        "\n",
        "# Recalculate 'hidden_economy' using the updated function\n",
        "idf['hidden_economy'] = df.apply(calculate_hidden_economy, axis=1)\n",
        "\n",
        "# Convert the 'hidden_economy' column to integers, handling None values\n",
        "idf['hidden_economy'] = idf['hidden_economy'].fillna(0).astype(int)\n"
      ],
      "metadata": {
        "id": "nTJneENwpgVc"
      },
      "execution_count": null,
      "outputs": []
    },
    {
      "cell_type": "code",
      "source": [
        "# Handle potential division by zero\n",
        "idf['settlement_population'] = idf['settlement_population'].replace(0, np.nan)\n",
        "\n",
        "# Calculate hidden economy per capita\n",
        "idf['hidden_economy_per_capita'] = idf['hidden_economy'] / idf['settlement_population']\n",
        "\n",
        "# Replace NaN values with 0 (if there were any divisions by zero)\n",
        "idf['hidden_economy_per_capita'] = idf['hidden_economy_per_capita'].fillna(0)\n",
        "\n",
        "# Get the top 10 settlements with the highest hidden economy per capita\n",
        "top_10_hidden_economies = idf.nlargest(10, 'hidden_economy_per_capita')[['settlement', 'hidden_economy_per_capita']]\n",
        "\n",
        "# Print the top 10 hidden economies per capita\n",
        "print(\"Top 10 Settlements with Highest Hidden Economy Per Capita:\")\n",
        "print(top_10_hidden_economies)"
      ],
      "metadata": {
        "colab": {
          "base_uri": "https://localhost:8080/"
        },
        "id": "jlkbaOJqeLEc",
        "outputId": "d52a4f11-8801-47fc-ac6c-a0eb7e400b91"
      },
      "execution_count": null,
      "outputs": [
        {
          "output_type": "stream",
          "name": "stdout",
          "text": [
            "Top 10 Settlements with Highest Hidden Economy Per Capita:\n",
            "     settlement  hidden_economy_per_capita\n",
            "450   Waterdeep                  27.467449\n",
            "441   Unthalass                  20.663258\n",
            "625  Gheldaneth                  18.703168\n",
            "362   Zazesspur                  14.140078\n",
            "59       Suzail                  13.173365\n",
            "294        Surd                  12.235608\n",
            "295     Tulbegh                  10.960058\n",
            "291       Saerb                   8.495393\n",
            "0      Athkatla                   8.482374\n",
            "622       Skuld                   8.141851\n"
          ]
        }
      ]
    },
    {
      "cell_type": "code",
      "source": [
        "idf['hidden_economy'].head()"
      ],
      "metadata": {
        "colab": {
          "base_uri": "https://localhost:8080/"
        },
        "id": "tkvrcFgCrWUP",
        "outputId": "a5cf67a1-1fb9-49b4-e640-987a25600731"
      },
      "execution_count": null,
      "outputs": [
        {
          "output_type": "execute_result",
          "data": {
            "text/plain": [
              "0    985338\n",
              "1       298\n",
              "2         0\n",
              "3         0\n",
              "4     25034\n",
              "Name: hidden_economy, dtype: int64"
            ]
          },
          "metadata": {},
          "execution_count": 12
        }
      ]
    },
    {
      "cell_type": "code",
      "source": [
        "idf['settlement_economy'] = idf['settlement_economy'].astype(int)\n",
        "\n",
        "# Calculate the total economy of all settlements\n",
        "total_economy = idf['settlement_economy'].sum() + idf['hidden_economy'].sum()\n",
        "\n",
        "print(f\"The total economy of all settlements is {total_economy}\")\n"
      ],
      "metadata": {
        "colab": {
          "base_uri": "https://localhost:8080/"
        },
        "id": "Exkx3cD4mrbR",
        "outputId": "b2c367ab-d738-44a7-92f5-897747fc983d"
      },
      "execution_count": null,
      "outputs": [
        {
          "output_type": "stream",
          "name": "stdout",
          "text": [
            "The total economy of all settlements is 1465417469\n"
          ]
        }
      ]
    },
    {
      "cell_type": "code",
      "source": [
        "# Function to adjust hidden economy based on the number of unique imports and exports\n",
        "def adjust_hidden_economy(row):\n",
        "    # Get the number of unique exports and imports\n",
        "    unique_exports = len(set(row['exports'])) if isinstance(row['exports'], list) else 0\n",
        "    unique_imports = len(set(row['imports'])) if isinstance(row['imports'], list) else 0\n",
        "\n",
        "    # Calculate adjustment value\n",
        "    adjustment_value = (unique_exports + unique_imports) / 100 * row['settlement_economy']\n",
        "\n",
        "    # Update hidden_economy value\n",
        "    return row['hidden_economy'] + adjustment_value\n",
        "\n",
        "# Assuming 'hidden_economy' is already initialized. If not, initialize it first.\n",
        "if 'hidden_economy' not in idf.columns:\n",
        "    idf['hidden_economy'] = 0.0  # Initialize to 0\n",
        "\n",
        "# Now adjust the 'hidden_economy' column\n",
        "idf['hidden_economy'] = idf.apply(adjust_hidden_economy, axis=1)\n",
        "idf['hidden_economy'] = idf['hidden_economy'].astype(int)"
      ],
      "metadata": {
        "id": "oQg29ZZG09PP"
      },
      "execution_count": null,
      "outputs": []
    },
    {
      "cell_type": "markdown",
      "source": [
        "# Demographics"
      ],
      "metadata": {
        "id": "Acrq0zr5Nxjd"
      }
    },
    {
      "cell_type": "code",
      "source": [
        "import ast  # For parsing the string representation of a dictionary\n",
        "\n",
        "# Custom function to calculate demographic_breakdown\n",
        "def calculate_demographics(row):\n",
        "    try:\n",
        "        # Parse the population_breakdown if it's a string representation of a dictionary\n",
        "        if isinstance(row['population_breakdown'], str):\n",
        "            population_breakdown = ast.literal_eval(row['population_breakdown'])\n",
        "        else:\n",
        "            population_breakdown = row['population_breakdown']\n",
        "\n",
        "        # Initialize the demographic_breakdown dictionary\n",
        "        demographic_breakdown = {}\n",
        "\n",
        "        # Calculate absolute populations based on percentages\n",
        "        for species, percentage in population_breakdown.items():\n",
        "            demographic_breakdown[species] = int(row['settlement_population'] * (percentage / 100))\n",
        "\n",
        "        return demographic_breakdown\n",
        "    except Exception as e:\n",
        "        print(f\"Error calculating demographics for row: {e}\")\n",
        "        return None\n",
        "\n",
        "# Apply the function across the DataFrame rows\n",
        "df['demographic_breakdown'] = df.apply(calculate_demographics, axis=1)\n"
      ],
      "metadata": {
        "id": "3_Xtv9TJ3DFq"
      },
      "execution_count": null,
      "outputs": []
    },
    {
      "cell_type": "code",
      "source": [
        "# Calculate the total economy of all settlements\n",
        "total_population = df['settlement_population'].sum()\n",
        "print(f\"The total population of all settlements is {total_population}\")\n"
      ],
      "metadata": {
        "colab": {
          "base_uri": "https://localhost:8080/"
        },
        "id": "lMehJn_U6cxC",
        "outputId": "38ebf6d3-109f-4f95-8115-48ef32ffd324"
      },
      "execution_count": null,
      "outputs": [
        {
          "output_type": "stream",
          "name": "stdout",
          "text": [
            "The total population of all settlements is 6527146\n"
          ]
        }
      ]
    },
    {
      "cell_type": "markdown",
      "source": [
        "# Average Age"
      ],
      "metadata": {
        "id": "lxztWlrlN2kF"
      }
    },
    {
      "cell_type": "code",
      "source": [
        "# Custom function to calculate average_age with lifestyle modifiers\n",
        "def calculate_average_age(row):\n",
        "    try:\n",
        "        # Initialize variables\n",
        "        weighted_ages = 0\n",
        "        total_population = row['settlement_population']\n",
        "        lifestyle_adjustment = 0\n",
        "\n",
        "        # Convert strings to dictionaries if necessary\n",
        "        demographic_breakdown = ast.literal_eval(row['demographic_breakdown']) if isinstance(row['demographic_breakdown'], str) else row['demographic_breakdown']\n",
        "        class_density = ast.literal_eval(row['class_density']) if isinstance(row['class_density'], str) else row['class_density']\n",
        "\n",
        "        # Loop over each species in the demographic breakdown\n",
        "        for species, count in demographic_breakdown.items():\n",
        "            # Get the age range for this species\n",
        "            age_range = species_age_ranges.get(species, [1, 100])  # default to human age range if species is not found\n",
        "\n",
        "            # Calculate the average age for this species\n",
        "            avg_age_species = sum(age_range) / 2\n",
        "\n",
        "            # Calculate the weighted age for this species\n",
        "            weighted_age_species = avg_age_species * (count / total_population)\n",
        "\n",
        "            # Add to the total weighted ages\n",
        "            weighted_ages += weighted_age_species\n",
        "\n",
        "        # Calculate lifestyle adjustment\n",
        "        for lifestyle, count in class_density.items():\n",
        "            modifier = lifestyle_modifier.get(lifestyle, 0)\n",
        "            lifestyle_adjustment += (count / total_population) * modifier\n",
        "\n",
        "        # Apply lifestyle adjustment to weighted ages\n",
        "        average_age = weighted_ages + lifestyle_adjustment\n",
        "\n",
        "        return average_age\n",
        "    except Exception as e:\n",
        "        print(f\"Error calculating average age for row: {e}\")\n",
        "        return None\n",
        "\n",
        "# Import the required library for literal evaluation\n",
        "import ast\n",
        "\n",
        "# Make sure to apply the function again\n",
        "df['average_age'] = df.apply(calculate_average_age, axis=1)\n",
        "\n",
        "# Handle the None values before casting to int\n",
        "df['average_age'] = df['average_age'].fillna(0).astype(int)\n",
        "\n",
        "#Define Constants\n",
        "species = [\"humans\", \"halflings\", \"half-orcs\", \"half-drow\", \"half-elves\", \"elves\", \"dwarves\", \"gnomes\", \"goblins\", \"lizardfolk\", \"yuan-ti\", \"orcs\", \"ogres\", \"asabi\", \"gnolls\",\n",
        "           \"pterafolk\", \"drow\", \"centaurs\", \"wemics\", \"humanoids\"]\n",
        "\n",
        "species_age_ranges = {\n",
        "    \"humans\": [1, 100],\n",
        "    \"halflings\": [1, 150],\n",
        "    \"half-elves\": [1, 180],\n",
        "    \"half-orcs\": [1, 75],\n",
        "    \"orcs\": [1, 50],\n",
        "    \"elves\": [1, 750],\n",
        "    \"dwarves\": [1, 350],\n",
        "    \"gnomes\": [1, 400],\n",
        "    \"goblins\": [1, 60],  # Goblins generally have short lifespans.\n",
        "    \"lizardfolk\": [1, 80],  # Lizardfolk have lifespans comparable to or slightly longer than humans.\n",
        "    \"yuan-ti\": [1, 120],  # Yuan-ti have longer lifespans due to their snake-like nature.\n",
        "    \"ogres\": [1, 100],  # Ogres have lifespans similar to humans but can occasionally live longer.\n",
        "    \"asabi\": [1, 60],  # Also known as 'ashworms', Asabis have shorter lifespans.\n",
        "    \"gnolls\": [1, 30],  # Gnolls have relatively short lifespans due to their chaotic and violent lives.\n",
        "    \"pterafolk\": [1, 60],  # Pterafolk have lifespans similar to other humanoid species.\n",
        "    \"drow\": [1, 750],  # Drow, or dark elves, have lifespans similar to other elves.\n",
        "    \"centaurs\": [1, 120],  # Centaurs tend to live longer than humans but not as long as elves.\n",
        "    \"wemics\": [1, 60],  # Wemics have lifespans similar to or slightly longer than humans.\n",
        "    \"half-drow\": [1, 180],  # Half-drow might have lifespans in between humans and drow.\n",
        "    \"humanoids\": [1, 80],  # Generic humanoid lifespan, individual species may vary.\n",
        "    \"misc.\": [1, 80],  # Generic humanoid lifespan, individual species may vary.\n",
        "}\n",
        "\n",
        "\n",
        "# Lifestyle modifiers\n",
        "lifestyle_modifier= {\n",
        "    'Wretched': -40,\n",
        "    'Squalid': -15,\n",
        "    'Poor': -1,\n",
        "    'Modest': 2,\n",
        "    'Comfortable': 3,\n",
        "    'Wealthy': 6,\n",
        "    'Aristocratic': 10\n",
        "}\n",
        "\n",
        "# Apply the function across the DataFrame rows\n",
        "df['average_age'] = df.apply(calculate_average_age, axis=1)\n",
        "df['average_age'] = df['average_age'].astype(int)"
      ],
      "metadata": {
        "id": "N7AqeWGGu6KJ"
      },
      "execution_count": null,
      "outputs": []
    },
    {
      "cell_type": "code",
      "source": [
        "df['average_age'].head(25)"
      ],
      "metadata": {
        "id": "IVVu-gA_WZKv"
      },
      "execution_count": null,
      "outputs": []
    },
    {
      "cell_type": "markdown",
      "source": [
        "# Rumored Treasure Value"
      ],
      "metadata": {
        "id": "2RnTT-HOOB5Z"
      }
    },
    {
      "cell_type": "code",
      "source": [
        "def calculate_rumored_treasure_value(row):\n",
        "    try:\n",
        "        # Calculate the base value by dividing settlement_economy by 1000\n",
        "        base_value = row['settlement_economy'] / 1000\n",
        "\n",
        "        # Apply size modifier to the hidden_economy\n",
        "        size_modifier = {\n",
        "            'tiny_settlement': 0.09,\n",
        "            'small_settlement': 0.09,\n",
        "            'medium_settlement': 0.1,\n",
        "            'large_settlement': .2,\n",
        "            'mega_settlement': .5\n",
        "        }\n",
        "        # Ensure that row['settlement_size'] exists and is not None before trying to access it in size_modifier\n",
        "        if row['settlement_size'] is not None:\n",
        "            modified_hidden_economy = row['hidden_economy'] * size_modifier.get(row['settlement_size'], 1)\n",
        "        else:\n",
        "            modified_hidden_economy = row['hidden_economy']\n",
        "\n",
        "        # Add the modified hidden_economy to the base_value\n",
        "        treasure_value = base_value + modified_hidden_economy\n",
        "\n",
        "        return treasure_value\n",
        "    except Exception as e:\n",
        "        print(f\"Error calculating rumored treasure value for row: {e}\")\n",
        "        return None\n",
        "\n",
        "# Apply the function across the DataFrame rows\n",
        "idf['rumored_treasure_value'] = idf.apply(calculate_rumored_treasure_value, axis=1)\n",
        "\n",
        "# Handle None values before casting to int\n",
        "idf['rumored_treasure_value'] = idf['rumored_treasure_value'].fillna(0).astype(int)"
      ],
      "metadata": {
        "id": "syVJqtOXEsv8"
      },
      "execution_count": null,
      "outputs": []
    },
    {
      "cell_type": "code",
      "source": [
        "comparison_df = idf[['rumored_treasure_value', 'settlement_economy', 'hidden_economy']].head()\n",
        "print(comparison_df)"
      ],
      "metadata": {
        "colab": {
          "base_uri": "https://localhost:8080/"
        },
        "id": "1gjaluBl7szm",
        "outputId": "0e750968-b7b8-45ee-dd98-b85dccfed55a"
      },
      "execution_count": null,
      "outputs": [
        {
          "output_type": "stream",
          "name": "stdout",
          "text": [
            "   rumored_treasure_value  settlement_economy  hidden_economy\n",
            "0                  526941            34272222          985338\n",
            "1                    1122             1092226             298\n",
            "2                      81               81796               0\n",
            "3                     102              102127               0\n",
            "4                    9199             4192755           25034\n"
          ]
        }
      ]
    },
    {
      "cell_type": "markdown",
      "source": [
        "# Goverment Types"
      ],
      "metadata": {
        "id": "oKSsUgyeOOi5"
      }
    },
    {
      "cell_type": "code",
      "source": [
        "# List of government types\n",
        "government_types = [\"Autocracy\", \"Bureaucracy\", \"Confederacy\", \"Democracy\", \"Dictatorship\", \"Feudalism\", \"Gerontocracy\", \"Hierarchy\",\n",
        "                    \"Monarchy\", \"Magocracy\", \"Militocracy\", \"Matriarchy\", \"Oligarchy\", \"Patriarchy\", \"Meritocracy\", \"Plutocracy\",\n",
        "                    \"Republic\", \"Kleptocracy\", \"Satrapy\", \"Theocracy\"]\n",
        "\n",
        "# Add a new column \"government_type\" with random values\n",
        "df['government_type'] = [random.choice(government_types) for _ in range(len(df))]\n",
        "\n",
        "# Print the DataFrame to verify the new column\n",
        "print(df[['region_kingdom', 'government_type']])\n"
      ],
      "metadata": {
        "colab": {
          "base_uri": "https://localhost:8080/"
        },
        "id": "A5l-kjSMfq-7",
        "outputId": "4f4fee73-fbbb-44cb-e530-0a44301ba619"
      },
      "execution_count": null,
      "outputs": [
        {
          "output_type": "stream",
          "name": "stdout",
          "text": [
            "      region_kingdom government_type\n",
            "0                Amn        Monarchy\n",
            "1                Amn       Autocracy\n",
            "2                Amn     Militocracy\n",
            "3                Amn    Gerontocracy\n",
            "4                Amn       Hierarchy\n",
            "..               ...             ...\n",
            "643          Narfell    Dictatorship\n",
            "644          Narfell       Democracy\n",
            "645          Narfell       Magocracy\n",
            "646          Narfell     Bureaucracy\n",
            "647  The Sword Coast       Magocracy\n",
            "\n",
            "[648 rows x 2 columns]\n"
          ]
        }
      ]
    },
    {
      "cell_type": "markdown",
      "source": [
        "# Cause of Death"
      ],
      "metadata": {
        "id": "-e2dHCKJOSFf"
      }
    },
    {
      "cell_type": "code",
      "source": [
        "# Define causes of death for each settlement size\n",
        "causes_of_death = {\n",
        "    'tiny_settlement': ['Old age', 'Wildlife attacks', 'Starvation', 'Disease', 'Exposure to the elements', 'Accidental falls', 'Lack of medical care', 'Poisonous plants', 'Isolation', 'Magic mishaps'],\n",
        "    'small_settlement': ['Disease', 'Assassination', 'Poison', 'Old age', 'Starvation', 'Bandit attacks', 'Exposure to the elements', 'Magic mishaps', 'Work-related accidents', 'Wildlife attacks'],\n",
        "    'medium_settlement': ['Disease', 'Old age', 'Assassination', 'Poison', 'Work-related accidents', 'Starvation', 'Exposure to the elements', 'Bandit attacks', 'Magic mishaps', 'Dueling accidents'],\n",
        "    'large_settlement': ['Disease', 'Assassination', 'Poison', 'Old age', 'Magic mishaps', 'Work-related accidents', 'Starvation', 'Dueling accidents', 'Wagon Accident', 'Exposure to the elements'],\n",
        "    'mega_settlement': ['Assassination', 'Disease', 'Poison', 'Magic mishaps', 'Dueling accidents', 'Crime', 'Work-related accidents', 'Starvation', 'Wagon Accident', 'Exposure to the elements']\n",
        "}\n",
        "\n",
        "# Function to assign cause of death based on settlement size\n",
        "def assign_cause_of_death(row):\n",
        "    size = row['settlement_size']\n",
        "    return random.choice(causes_of_death[size])\n",
        "\n",
        "# Add a new column \"settlement_size\" based on population\n",
        "df['settlement_size'] = df['settlement_population'].apply(determine_settlement_size)\n",
        "\n",
        "# Add a new column \"cause_of_death\" with assigned causes\n",
        "df['most_likely_cause_of_death'] = df.apply(assign_cause_of_death, axis=1)\n",
        "\n",
        "# Print the DataFrame to verify the new columns\n",
        "print(df[['settlement', 'settlement_population', 'settlement_size', 'most_likely_cause_of_death']])\n"
      ],
      "metadata": {
        "colab": {
          "base_uri": "https://localhost:8080/"
        },
        "id": "tBfWVRYPhWxR",
        "outputId": "7c386607-9378-4649-b12a-c4ebaf396c83"
      },
      "execution_count": null,
      "outputs": [
        {
          "output_type": "stream",
          "name": "stdout",
          "text": [
            "           settlement  settlement_population    settlement_size  \\\n",
            "0            Athkatla                 116163    mega_settlement   \n",
            "1            Amnwater                   7035  medium_settlement   \n",
            "2       Citadel Amnur                    636   small_settlement   \n",
            "3    Citadel Rashturl                    710   small_settlement   \n",
            "4           Coryllvol                  23000   large_settlement   \n",
            "..                ...                    ...                ...   \n",
            "643            N’Jast                     71    tiny_settlement   \n",
            "644          Peltarch                    313   small_settlement   \n",
            "645           Selmast                    392   small_settlement   \n",
            "646           Snowcap                    495   small_settlement   \n",
            "647            Luskan                  16000   large_settlement   \n",
            "\n",
            "    most_likely_cause_of_death  \n",
            "0       Work-related accidents  \n",
            "1               Bandit attacks  \n",
            "2                Assassination  \n",
            "3                       Poison  \n",
            "4                   Starvation  \n",
            "..                         ...  \n",
            "643                    Old age  \n",
            "644                    Old age  \n",
            "645              Assassination  \n",
            "646              Magic mishaps  \n",
            "647   Exposure to the elements  \n",
            "\n",
            "[648 rows x 4 columns]\n"
          ]
        }
      ]
    },
    {
      "cell_type": "markdown",
      "source": [
        "# Inequality Score"
      ],
      "metadata": {
        "id": "i5IlbXUEOYMs"
      }
    },
    {
      "cell_type": "code",
      "source": [
        "# Define weights for factors (you can adjust these)\n",
        "weights = {\n",
        "    'wealth_distribution': 0.4,\n",
        "    'trade_balance': 0.1,\n",
        "    'hidden_economy': 0.4,\n",
        "    'average_age': 0.1\n",
        "}\n",
        "\n",
        "# Define a function to parse the 'class_density' column into dictionaries\n",
        "def parse_class_density(x):\n",
        "    try:\n",
        "        return ast.literal_eval(x)\n",
        "    except (SyntaxError, ValueError):\n",
        "        return {}\n",
        "\n",
        "# Parse the 'class_density' column into dictionaries\n",
        "idf['class_density'] = idf['class_density'].apply(parse_class_density)\n",
        "\n",
        "# Now you can access dictionary values in the 'class_density' column\n",
        "idf['normalized_wealth'] = (idf['class_density'].apply(lambda x: x.get('Aristocratic', 0)) + idf['class_density'].apply(lambda x: x.get('Wealthy', 0))) / (idf['class_density'].apply(lambda x: x.get('Squalid', 0)) + idf['class_density'].apply(lambda x: x.get('Wretched', 0)) + 1)\n",
        "\n",
        "# Assuming normalized_age is already scaled between 0 and 1\n",
        "idf['inverted_normalized_age'] = 1 - idf['normalized_age']\n",
        "\n",
        "# Then, when calculating the inequality_score:\n",
        "idf['inequality_score'] = (\n",
        "    weights['wealth_distribution'] * idf['normalized_wealth'] +\n",
        "    weights['trade_balance'] * idf['normalized_trade_balance'] +\n",
        "    weights['hidden_economy'] * idf['normalized_hidden_economy'] +\n",
        "    weights['average_age'] * idf['inverted_normalized_age']  # Use the inverted value here\n",
        ")\n",
        "\n",
        "# Generate a Pandas Series of random factors, one for each row in idf\n",
        "num_rows = idf.shape[0]  # Get number of rows in idf\n",
        "random_factors = pd.Series([random.uniform(0.95, 1.05) for _ in range(num_rows)])\n",
        "\n",
        "# Multiply inequality_score by corresponding random factor for each row\n",
        "idf['inequality_score'] = idf['inequality_score'] * random_factors.values\n"
      ],
      "metadata": {
        "id": "ubauBdW5MPB6"
      },
      "execution_count": null,
      "outputs": []
    },
    {
      "cell_type": "code",
      "source": [
        "idf['inequality_score'].describe()"
      ],
      "metadata": {
        "colab": {
          "base_uri": "https://localhost:8080/"
        },
        "id": "8WENYKEyMppW",
        "outputId": "5a6ff5e6-fe7f-40c6-8cdd-49c7329c187c"
      },
      "execution_count": null,
      "outputs": [
        {
          "output_type": "execute_result",
          "data": {
            "text/plain": [
              "count      648.000000\n",
              "mean        69.587349\n",
              "std        615.832001\n",
              "min          0.028436\n",
              "25%          0.112051\n",
              "50%          0.183052\n",
              "75%          0.318514\n",
              "max      11224.047147\n",
              "Name: inequality_score, dtype: float64"
            ]
          },
          "metadata": {},
          "execution_count": 58
        }
      ]
    },
    {
      "cell_type": "markdown",
      "source": [
        "# Tax Rate"
      ],
      "metadata": {
        "id": "P-zVxTEPOe7T"
      }
    },
    {
      "cell_type": "code",
      "source": [
        "df['class_density'] = df['class_density'].apply(ast.literal_eval)\n",
        "\n",
        "# Define the calculate_tax_rate function\n",
        "def calculate_tax_rate(row):\n",
        "    # Check if 'imports' and 'exports' are not NaN and are of type list\n",
        "    if pd.notna(row['imports']) and isinstance(row['imports'], list):\n",
        "        region_imports = len(row['imports'])\n",
        "    else:\n",
        "        region_imports = 0\n",
        "\n",
        "    if pd.notna(row['exports']) and isinstance(row['exports'], list):\n",
        "        region_exports = len(row['exports'])\n",
        "    else:\n",
        "        region_exports = 0\n",
        "\n",
        "    # Check if there are aristocrats in the settlement\n",
        "    if row['class_density'].get('Aristocratic', 0) > 0:\n",
        "        region_aristocrats = df[df['region_kingdom'] == row['region_kingdom']]['class_density'].apply(lambda x: x.get('Aristocratic', 0)).sum()\n",
        "\n",
        "        # Check if the region has 100 or more aristocrats\n",
        "        if region_aristocrats >= 100:\n",
        "            # Check if there is a military in the region's capital\n",
        "            if row['capital'] == row['settlement']:\n",
        "                if pd.notna(row['military']):\n",
        "                    tax_rate = np.random.randint(10, 21)  # Tax rate between 10% and 20% with military\n",
        "                else:\n",
        "                    tax_rate = np.random.randint(1, 11)  # Tax rate between 1% and 10% without military\n",
        "            else:\n",
        "                tax_rate = np.random.randint(1, 21)  # Tax rate between 1% and 20% in regions with aristocrats and >=100 total aristocrats\n",
        "        else:\n",
        "            tax_rate = 0  # Tax rate is 0 if region has aristocrats but <100 total aristocrats\n",
        "    else:\n",
        "        tax_rate = 0  # Tax rate is 0 if no aristocrats in the settlement\n",
        "\n",
        "    # Calculate the multiplier based on imports and exports\n",
        "    multiplier = 1 + (region_imports + region_exports) / 1000\n",
        "\n",
        "    # Apply the multiplier to the tax rate\n",
        "    adjusted_tax_rate = tax_rate * multiplier\n",
        "\n",
        "    return adjusted_tax_rate\n",
        "\n",
        "# Apply the calculate_tax_rate function to create the tax_rate column\n",
        "df['tax_rate'] = df.apply(calculate_tax_rate, axis=1)\n"
      ],
      "metadata": {
        "id": "Lxjpkuz5NqP5"
      },
      "execution_count": null,
      "outputs": []
    },
    {
      "cell_type": "code",
      "source": [
        "# Group by 'region_kingdom' and sum the 'inequality_score' for each region\n",
        "region_inequality_sum = idf.groupby('region_kingdom')['inequality_score'].sum()\n",
        "\n",
        "# Sort the regions by the summed inequality score in descending order and take the top 10\n",
        "top_10_inequal_regions = region_inequality_sum.sort_values(ascending=False).head(10)\n",
        "\n",
        "# Print the top 10 most unequal regions\n",
        "print(\"Top 10 Most Unequal Regions:\")\n",
        "print(top_10_inequal_regions)\n"
      ],
      "metadata": {
        "colab": {
          "base_uri": "https://localhost:8080/"
        },
        "id": "UqqXdKHorafi",
        "outputId": "4bf506d9-d942-49f6-c368-97a893ae4289"
      },
      "execution_count": null,
      "outputs": [
        {
          "output_type": "stream",
          "name": "stdout",
          "text": [
            "Top 10 Most Unequal Regions:\n",
            "region_kingdom\n",
            "Moonshae    123.313278\n",
            "Tethyr       61.221127\n",
            "Cormyr       50.428565\n",
            "Halruaa      50.144494\n",
            "Damara       38.056324\n",
            "Turmish      37.485639\n",
            "Amn          32.962329\n",
            "Thay         31.804846\n",
            "Lantan       30.502219\n",
            "Impiltur     29.119687\n",
            "Name: inequality_score, dtype: float64\n"
          ]
        }
      ]
    },
    {
      "cell_type": "code",
      "source": [
        "# Group by 'region_kingdom' and sum the 'inequality_score' for each region\n",
        "region_inequality_sum = idf.groupby('settlement')['inequality_score'].sum()\n",
        "\n",
        "# Sort the regions by the summed inequality score in descending order and take the top 10\n",
        "top_10_inequal_regions = region_inequality_sum.sort_values(ascending=False).head(10)\n",
        "\n",
        "# Print the top 10 most unequal regions\n",
        "print(\"Top 10 Most Unequal Settlements:\")\n",
        "print(top_10_inequal_regions)\n"
      ],
      "metadata": {
        "colab": {
          "base_uri": "https://localhost:8080/"
        },
        "id": "qH3FhmFH-UgV",
        "outputId": "f346b39e-8f1d-4aa7-f0db-ee71844f1c3d"
      },
      "execution_count": null,
      "outputs": [
        {
          "output_type": "stream",
          "name": "stdout",
          "text": [
            "Top 10 Most Unequal Settlements:\n",
            "settlement\n",
            "Tsan           21.000000\n",
            "Harloch         2.231275\n",
            "Dorset          2.220974\n",
            "Hickorydale     2.218901\n",
            "Llewellyn       2.216759\n",
            "Highhome        2.215710\n",
            "Wyngate         2.215024\n",
            "Dynnatt         2.207920\n",
            "Elyssyrr        2.205746\n",
            "Borth           2.182493\n",
            "Name: inequality_score, dtype: float64\n"
          ]
        }
      ]
    },
    {
      "cell_type": "markdown",
      "source": [
        "# Adjusting Average Age"
      ],
      "metadata": {
        "id": "XQvZB8rcOlKg"
      }
    },
    {
      "cell_type": "code",
      "source": [
        "# Define a function to adjust average_age based on inequality_score\n",
        "def adjust_average_age(row):\n",
        "    # Define a scaling factor to control the adjustment\n",
        "    scaling_factor = 50  # You can adjust this value as needed\n",
        "\n",
        "    # Calculate the adjusted average age\n",
        "    adjusted_age = row['average_age'] - scaling_factor * row['inequality_score']\n",
        "\n",
        "    # Ensure the adjusted age is within a reasonable range\n",
        "    return max(adjusted_age, 1)  # Minimum age set to 1\n",
        "\n",
        "# Apply the adjustment function to the DataFrame\n",
        "idf['adjusted_average_age'] = idf.apply(adjust_average_age, axis=1)"
      ],
      "metadata": {
        "id": "7hWlEqrX3guH"
      },
      "execution_count": null,
      "outputs": []
    },
    {
      "cell_type": "code",
      "source": [
        "idf['adjusted_average_age'].head()"
      ],
      "metadata": {
        "colab": {
          "base_uri": "https://localhost:8080/"
        },
        "id": "7NeBtJnYEbRe",
        "outputId": "ed0b8adf-e0b2-4a6f-8af6-3f6a3f4b341f"
      },
      "execution_count": null,
      "outputs": [
        {
          "output_type": "execute_result",
          "data": {
            "text/plain": [
              "0    30.828081\n",
              "1    44.986469\n",
              "2    35.820596\n",
              "3    41.580476\n",
              "4    36.711909\n",
              "Name: adjusted_average_age, dtype: float64"
            ]
          },
          "metadata": {},
          "execution_count": 188
        }
      ]
    },
    {
      "cell_type": "markdown",
      "source": [
        "# Temperature and Climate"
      ],
      "metadata": {
        "id": "Lu91TlfdOqkE"
      }
    },
    {
      "cell_type": "code",
      "source": [
        "region_climate = {\n",
        "    'Amn': 'Temperate',  # Coastal and fertile\n",
        "    'Calimshan': 'Arid',  # Desert and semi-arid regions\n",
        "    'Chessenta': 'Temperate',  # Mediterranean climate\n",
        "    'Cormyr': 'Temperate',  # Forested and fertile\n",
        "    'Damara': 'Cold',  # Northern, colder climate\n",
        "    'Halruaa': 'Temperate',  # Known for magical barriers, likely moderate climate\n",
        "    'Impiltur': 'Temperate',  # Coastal with some mountainous terrain\n",
        "    'Moonshae': 'Jungle/Marsh',  # Isles with varying climates, generally temperate\n",
        "    'Nimbral': 'Temperate',  # Island with moderate climate\n",
        "    'Sembia': 'Temperate',  # Trading nation with fertile lands\n",
        "    'Sossal': 'Cold',  # Far to the northeast, likely very cold\n",
        "    'Tethyr': 'Temperate',  # Coastal and forested\n",
        "    'Thay': 'Arid',  # Plateau with harsh climate\n",
        "    'Thesk': 'Temperate',  # Known for trade, likely moderate climate\n",
        "    'Turmish': 'Temperate',  # Coastal and forested\n",
        "    'Unther': 'Arid',  # Desert-like with ancient ruins\n",
        "    'The Sword Coast': 'Temperate',  # Varying climates, mostly temperate\n",
        "    'Aglarond': 'Temperate',  # Forested peninsula\n",
        "    'Evereska': 'Temperate',  # Elven city-state in a valley\n",
        "    'Evermeet': 'Temperate',  # Elven island, magically preserved\n",
        "    'Gundarlun': 'Cold',  # Northern islands\n",
        "    'Ruathym': 'Cold',  # Island with a harsh, cold climate\n",
        "    'Trisk (Kingdom of the Purple Rocks)': 'Temperate',  # Island, uncertain climate\n",
        "    'Tuern': 'Cold',  # Volcanic island to the north\n",
        "    'Hartsvale': 'Cold',  # Located in a valley within mountains\n",
        "    'Lantan': 'Temperate',  # Island nation known for technology\n",
        "    'Lapaliiya': 'Jungle/Marsh',  # Coastal with some jungles\n",
        "    'Luiren': 'Temperate',  # Homeland of the halflings, likely moderate climate\n",
        "    'The Silver Marches': 'Cold',  # Northern frontier with colder climate\n",
        "    'Dwarfholds of the North': 'Cold',  # Mountainous and northern\n",
        "    'Orlumbor': 'Temperate',  # Wooded island\n",
        "    'Mulhorand': 'Arid',  # Desert with some fertile river valleys\n",
        "    'Narfell': 'Cold',  # Plains with harsh winters\n",
        "}\n",
        "climate_temperature_range = {\n",
        "    'Arid': [65, 100],  # Temperature range in Fahrenheit\n",
        "    'Cold': [0, 40],\n",
        "    'Temperate': [45, 70],\n",
        "    'Jungle/Marsh': [65, 90]\n",
        "}\n",
        "\n",
        "average_rainfall = {\n",
        "    'Arid': [0, 10],  # Rainfall range in inches per year\n",
        "    'Cold': [20, 40],\n",
        "    'Temperate': [30, 50],\n",
        "    'Jungle/Marsh': [45, 65]\n",
        "}\n",
        "import random\n",
        "\n",
        "def assign_climate_attributes(row):\n",
        "    try:\n",
        "        # Extract climate from region\n",
        "        climate = region_climate.get(row['region_kingdom'], 'Temperate')  # Default to 'Temperate' if region is not found\n",
        "\n",
        "        # Get temperature and rainfall ranges for the climate\n",
        "        temp_range = climate_temperature_range[climate]\n",
        "        rainfall_range = average_rainfall[climate]\n",
        "\n",
        "        # Randomly assign values within the ranges\n",
        "        average_temp = random.uniform(temp_range[0], temp_range[1])\n",
        "        annual_rainfall = random.uniform(rainfall_range[0], rainfall_range[1])\n",
        "\n",
        "        return average_temp, annual_rainfall\n",
        "\n",
        "    except Exception as e:\n",
        "        print(f\"Error assigning climate attributes for row: {e}\")\n",
        "        return None\n",
        "\n",
        "# Apply the function to the DataFrame\n",
        "df['average_temperature'], df['annual_rainfall'] = zip(*df.apply(assign_climate_attributes, axis=1))\n"
      ],
      "metadata": {
        "id": "JOfZZ0c76Bqa"
      },
      "execution_count": null,
      "outputs": []
    },
    {
      "cell_type": "markdown",
      "source": [
        "# Magic Academies"
      ],
      "metadata": {
        "id": "-FzPPKHOOv97"
      }
    },
    {
      "cell_type": "code",
      "source": [
        "wizard_schools = {\n",
        "    'Arrabar': 'Academia Vilhonus',\n",
        "    'Chondath': 'Academia Vilhonus',\n",
        "    'Thay': 'Academy of Shapers and Binders',\n",
        "    ' Waterdeep': 'Academy of Stargazers',\n",
        "    'Mintar': 'Academy of the Drawn Sword',\n",
        "    ' Lake of Steam': 'Academy of the Drawn Sword',\n",
        "    'Seventon': \"Alimon's Mental Academy\",\n",
        "    'Netheril': \"Alimon's Mental Academy\",\n",
        "    'Sundabar': 'Anstruth',\n",
        "    'Gheldaneth': 'Arcanum of Magic',\n",
        "    'Mulhorand': 'Arcanum of Magic',\n",
        "    'Silverymoon': \"Arkhen's Invocatorium\",\n",
        "    'Huzuz': \"Al-Bidir Sallah (Home of the Seekers of Knowledge)\",\n",
        "    'Zakhara': \"Al-Bidir Sallah (Home of the Seekers of Knowledge)\",\n",
        "    'Waterdeep': 'Blackstaff Academy',\n",
        "    'Luskan': 'Blackstaff Academy',\n",
        "    'Baldurs Gate': \"Briel's School of the Arcane\",\n",
        "    'The Sword Coast': \"Briels School of the Arcane\",\n",
        "    'Zazesspur': 'Canaith',\n",
        "    'Tethyr': 'Canaith',\n",
        "    'Evereska': 'College of Magic and Arms',\n",
        "    'The Sword Coast Faerûn': 'College of Magic and Arms',\n",
        "    'Heralds Holdfast': 'College of the Herald',\n",
        "    'Berdusk': 'College of Doss',\n",
        "    'Myth Nantar': \"Dukars' Academy\",\n",
        "    'Waterdeep': 'Dweomercore',\n",
        "    'Waterdeep': 'Eltorchul Academy',\n",
        "    'Loudwater': \"Enalin's Shop of Adventurers' Supplies\",\n",
        "    'Delimbiyr Vale': \"Enalin's Shop of Adventurers' Supplies\",\n",
        "    'Heliogabalus': 'Ends Rest',\n",
        "    'Heldapan': 'Gathering of Magicians',\n",
        "    'Durpar': 'Gathering of Magicians',\n",
        "    'Akkaido': 'Golden Fox Martial Arts School',\n",
        "    'Huzuz': 'Grand University of Huzuz',\n",
        "    'Medina al-Afyal': 'Great Mosque of Selan',\n",
        "    'Island of Afyal': 'Great Mosque of Selan',\n",
        "    'Almorel': 'Great School of Deneir',\n",
        "    'Waterdeep': 'Halasters Heirs',\n",
        "    'Evereska': 'Hall of the Kaliesherai',\n",
        "    'Waterdeep': 'House of Healing'\n",
        "}\n",
        "\n",
        "def assign_magic_academy(row):\n",
        "    settlement = row['settlement']\n",
        "    if settlement in wizard_schools:\n",
        "        return wizard_schools[settlement]\n",
        "    else:\n",
        "        return 'None'  # Fill with 'None' if there's no school\n",
        "\n",
        "# Assuming you have a DataFrame named df\n",
        "df['magic_academy'] = df.apply(assign_magic_academy, axis=1)\n",
        "\n",
        "# To keep track of schools that do not get placed\n",
        "unplaced_schools = [school for school in wizard_schools.values() if school not in df['magic_academy'].unique()]\n",
        "\n",
        "# Print unplaced schools\n",
        "print(\"Unplaced Schools:\", unplaced_schools)\n"
      ],
      "metadata": {
        "id": "ZUQM9qK5unBb"
      },
      "execution_count": null,
      "outputs": []
    },
    {
      "cell_type": "code",
      "source": [
        "def add_magic_academy(df):\n",
        "    def check_population(row):\n",
        "        if row['settlement_population'] > 15000 and row['magic_academy'] == 'None':\n",
        "            # If population is over 10000 and academy is 'None', replace it with 'guilds'\n",
        "            return 'guilds'\n",
        "        return row['magic_academy']\n",
        "\n",
        "    df['magic_academy'] = df.apply(lambda row: check_population(row), axis=1)\n",
        "    return df\n",
        "df = add_magic_academy(df)"
      ],
      "metadata": {
        "id": "g9JMpsJEyncC"
      },
      "execution_count": null,
      "outputs": []
    },
    {
      "cell_type": "code",
      "source": [
        "# Check the count of each unique value in the 'magic_academy' column\n",
        "academy_counts = df['magic_academy'].value_counts()\n",
        "\n",
        "# Check if 'guilds' is in the index of unique values\n",
        "if 'guilds' in academy_counts.index:\n",
        "    # 'guilds' was added, and you can access its count using academy_counts['guilds']\n",
        "    guilds_count = academy_counts['guilds']\n",
        "    print(f\"'guilds' was added {guilds_count} times.\")\n",
        "else:\n",
        "    # 'guilds' was not added\n",
        "    print(\"'guilds' was not added.\")\n"
      ],
      "metadata": {
        "colab": {
          "base_uri": "https://localhost:8080/"
        },
        "id": "9bRhxTeJPjCv",
        "outputId": "fedf38c1-6720-403f-e10b-a1696968debd"
      },
      "execution_count": null,
      "outputs": [
        {
          "output_type": "stream",
          "name": "stdout",
          "text": [
            "'guilds' was added 78 times.\n"
          ]
        }
      ]
    },
    {
      "cell_type": "markdown",
      "source": [
        "# Magical Climate"
      ],
      "metadata": {
        "id": "uhZ76sHwO2Ap"
      }
    },
    {
      "cell_type": "code",
      "source": [
        "idf['demographic_breakdown'] = df['demographic_breakdown']\n",
        "moderate_temp = 70\n",
        "def parse_demographic_breakdown(x):\n",
        "    try:\n",
        "        return ast.literal_eval(x)\n",
        "    except (SyntaxError, ValueError):\n",
        "        return {}\n",
        "\n",
        "# Parse the 'demographic_breakdown' column into dictionaries\n",
        "idf['demographic_breakdown'] = idf['demographic_breakdown'].apply(parse_demographic_breakdown)\n",
        "\n",
        "# Calculate the count of non-humans in each settlement\n",
        "idf['non_human_count'] = idf['demographic_breakdown'].apply(lambda x: sum(v for k, v in x.items() if k.lower() != 'human') if isinstance(x, dict) else 0)\n",
        "\n",
        "# Calculate the total population based on demographic breakdown\n",
        "idf['total_population_from_demo'] = idf['demographic_breakdown'].apply(lambda x: sum(v for k, v in x.items()) if isinstance(x, dict) else 0)\n",
        "\n",
        "# Calculate non-human proportion; handle division by zero by checking if total_population_from_demo is not zero\n",
        "idf['non_human_proportion'] = idf.apply(lambda row: row['non_human_count'] / row['total_population_from_demo'] if row['total_population_from_demo'] != 0 else 0, axis=1)\n",
        "\n",
        "# Score for magic academy presence\n",
        "idf['academy_score'] = idf['magic_academy'].apply(lambda x: 30 if x is not None else 0)\n",
        "\n",
        "# Define mean_inequality\n",
        "mean_inequality = idf['inequality_score'].mean()\n",
        "\n",
        "# Step 1: Randomly multiply each factor\n",
        "idf['random_age_multiplier'] = np.random.uniform(1, 5, len(idf))\n",
        "idf['random_inequality_multiplier'] = np.random.uniform(1, 5, len(idf))\n",
        "idf['random_temperature_multiplier'] = np.random.uniform(1, 5, len(idf))\n",
        "idf['random_non_human_multiplier'] = np.random.uniform(1, 5, len(idf))\n",
        "\n",
        "idf['age_score'] = idf['random_age_multiplier'] * (idf['average_age'] - idf['average_age'].min()) / (idf['average_age'].max() - idf['average_age'].min())\n",
        "idf['inequality_score'] = idf['random_inequality_multiplier'] * (np.abs(idf['inequality_score'] - mean_inequality) / idf['inequality_score'].std())\n",
        "idf['temperature_score'] = idf['random_temperature_multiplier'] * (np.abs(idf.get('average_temperature', 0) - moderate_temp))\n",
        "idf['non_human_score'] = idf['random_non_human_multiplier'] * (idf['non_human_proportion'] - idf['non_human_proportion'].min()) / (idf['non_human_proportion'].max() - idf['non_human_proportion'].min())\n",
        "\n",
        "# Step 2: Normalize each factor to be between 1 and 25\n",
        "idf['age_score'] = 1 + 5 * (idf['age_score'] - idf['age_score'].min()) / (idf['age_score'].max() - idf['age_score'].min())\n",
        "idf['inequality_score'] = 1 + 20 * (idf['inequality_score'] - idf['inequality_score'].min()) / (idf['inequality_score'].max() - idf['inequality_score'].min())\n",
        "idf['temperature_score'] = 1 + 35 * (idf['temperature_score'] - idf['temperature_score'].min()) / (idf['temperature_score'].max() - idf['temperature_score'].min())\n",
        "idf['non_human_score'] = 1 + 30 * (idf['non_human_score'] - idf['non_human_score'].min()) / (idf['non_human_score'].max() - idf['non_human_score'].min())\n",
        "\n",
        "# Step 3: Sum up the normalized scores to get the magical_climate\n",
        "idf['magical_climate'] = idf['academy_score'] + idf['age_score'] + idf['inequality_score'] + idf['temperature_score'] + idf['non_human_score']\n",
        "\n",
        "# Optional: Clip the total score if necessary\n",
        "idf['magical_climate'] = idf['magical_climate'].round().clip(lower=4, upper=100)\n"
      ],
      "metadata": {
        "id": "h0r0dk0BC3iu"
      },
      "execution_count": null,
      "outputs": []
    },
    {
      "cell_type": "markdown",
      "source": [
        "# Dragon Sightings"
      ],
      "metadata": {
        "id": "B_X8piFrPehC"
      }
    },
    {
      "cell_type": "code",
      "source": [
        "# Step 1: Calculate Region Totals\n",
        "region_totals = idf.groupby('region_kingdom').agg({\n",
        "    'hidden_economy': 'sum',\n",
        "    'magical_climate': 'sum'  # Replace with the correct column name\n",
        "}).reset_index()\n",
        "\n",
        "# Step 2: Allocate Dragon Sightings to Regions\n",
        "total_dragon_sightings = 1000\n",
        "region_totals['total_score'] = region_totals['hidden_economy'] + region_totals['magical_climate']\n",
        "region_totals['allocated_dragon_sightings'] = (region_totals['total_score'] / region_totals['total_score'].sum()) * total_dragon_sightings\n",
        "region_totals = region_totals[['region_kingdom', 'allocated_dragon_sightings']]\n",
        "\n",
        "# Ensure 'allocated_dragon_sightings' does not already exist in 'idf' before merging\n",
        "if 'allocated_dragon_sightings' in idf.columns:\n",
        "    idf = idf.drop(columns=['allocated_dragon_sightings'])\n",
        "\n",
        "# Step 3: Merge the allocated_dragon_sightings to the original DataFrame\n",
        "idf = pd.merge(idf, region_totals, on='region_kingdom', how='left', suffixes=('', '_to_drop'))\n",
        "\n",
        "# Drop the extra columns if they are created\n",
        "idf = idf.drop(columns=[col for col in idf if 'to_drop' in col])\n",
        "\n",
        "# Step 4: Allocate Dragon Sightings to Settlements\n",
        "idf['settlement_dragon_sightings'] = (idf['magical_climate'] / idf.groupby('region_kingdom')['magical_climate'].transform('sum')) * idf['allocated_dragon_sightings']\n",
        "\n",
        "# Optional: Round the dragon sightings as they are countable\n",
        "idf['settlement_dragon_sightings'] = idf['settlement_dragon_sightings'].round().astype(int)\n",
        "\n",
        "# Step 1: Create a Random Factor\n",
        "random_factor = np.random.uniform(0.1, 2, size=len(idf))\n",
        "\n",
        "# Step 2: Apply Random Factor to Magical Climate\n",
        "idf['adjusted_magical_climate'] = idf['magical_climate'] * random_factor\n",
        "\n",
        "# Step 3: Allocate Dragon Sightings (Similar to Step 4 above, but using adjusted_magical_climate)\n",
        "idf['settlement_dragon_sightings'] = (idf['adjusted_magical_climate'] / idf.groupby('region_kingdom')['adjusted_magical_climate'].transform('sum')) * idf['allocated_dragon_sightings']\n",
        "\n",
        "# Optional: Round the dragon sightings\n",
        "idf['settlement_dragon_sightings'] = idf['settlement_dragon_sightings'].round().astype(int)"
      ],
      "metadata": {
        "id": "-vBZbUNkktEL"
      },
      "execution_count": null,
      "outputs": []
    },
    {
      "cell_type": "code",
      "source": [
        "# Group by 'region_kingdom' and sum 'settlement_dragon_sightings'\n",
        "total_dragon_sightings_by_region = idf.groupby('region_kingdom')['settlement_dragon_sightings'].sum().reset_index()\n",
        "\n",
        "# Optional: Sort values for better visualization\n",
        "total_dragon_sightings_by_region = total_dragon_sightings_by_region.sort_values(by='settlement_dragon_sightings', ascending=False).reset_index(drop=True)\n",
        "\n",
        "# Display the result\n",
        "print(total_dragon_sightings_by_region)"
      ],
      "metadata": {
        "id": "v7Z06YEeSDb8",
        "outputId": "33433cf3-db2a-4d16-e443-b8ebc48b715d",
        "colab": {
          "base_uri": "https://localhost:8080/"
        }
      },
      "execution_count": null,
      "outputs": [
        {
          "output_type": "stream",
          "name": "stdout",
          "text": [
            "                         region_kingdom  settlement_dragon_sightings\n",
            "0                       The Sword Coast                          690\n",
            "1                             Mulhorand                           91\n",
            "2                                Unther                           59\n",
            "3                                Tethyr                           39\n",
            "4                                Cormyr                           29\n",
            "5                                   Amn                           22\n",
            "6                             Calimshan                            9\n",
            "7                                Sembia                            7\n",
            "8                             Lapaliiya                            6\n",
            "9                              Aglarond                            4\n",
            "10                                 Thay                            2\n",
            "11                            Chessenta                            1\n",
            "12                              Halruaa                            0\n",
            "13              Dwarfholds of the North                            0\n",
            "14                              Turmish                            0\n",
            "15                                Tuern                            0\n",
            "16  Trisk (Kingdom of the Purple Rocks)                            0\n",
            "17                                Thesk                            0\n",
            "18                   The Silver Marches                            0\n",
            "19                               Damara                            0\n",
            "20                               Sossal                            0\n",
            "21                              Ruathym                            0\n",
            "22                            Hartsvale                            0\n",
            "23                             Orlumbor                            0\n",
            "24                              Nimbral                            0\n",
            "25                              Narfell                            0\n",
            "26                             Evereska                            0\n",
            "27                             Evermeet                            0\n",
            "28                               Luiren                            0\n",
            "29                            Gundarlun                            0\n",
            "30                               Lantan                            0\n",
            "31                             Impiltur                            0\n",
            "32                             Moonshae                            0\n"
          ]
        }
      ]
    },
    {
      "cell_type": "code",
      "source": [
        "# Step 1\n",
        "settlement_size_mapping = {\n",
        "    'tiny_settlement': np.random.uniform(5, 15),\n",
        "    'small_settlement': np.random.uniform(5, 11),\n",
        "    'medium_settlement': np.random.uniform(4, 10),\n",
        "    'large_settlement': np.random.uniform(2, 7),\n",
        "    'mega_settlement': np.random.uniform(1, 8)\n",
        "}\n",
        "\n",
        "# Map settlement_size and fill NaN with a default value, then convert to int\n",
        "idf['average_household_size'] = idf['settlement_size'].map(settlement_size_mapping)\n",
        "idf['average_household_size'] = idf['average_household_size'].fillna(idf['average_household_size'].mean())  # replace NaN with the mean value\n",
        "idf['total_households'] = (idf['settlement_population'] / idf['average_household_size']).astype(int)  # now safe to convert to int\n",
        "\n",
        "\n",
        "# Step 2\n",
        "# Check if each value in class_density is a dictionary\n",
        "idf['is_dict'] = idf['class_density'].apply(lambda x: isinstance(x, dict))\n",
        "\n",
        "# Filter the DataFrame to keep only rows where class_density is a dictionary\n",
        "idf = idf[idf['is_dict'] == True]\n",
        "\n",
        "# You may drop the is_dict column as it's no longer needed\n",
        "idf = idf.drop(columns=['is_dict'])\n",
        "\n",
        "# Now you can use dictionary methods to extract values\n",
        "def parse_class_density(density):\n",
        "    return density.get('Wealthy', 0), density.get('Poor', 0), density.get('Squalid', 0)\n",
        "\n",
        "idf[['Wealthy', 'Poor', 'Squalid']] = idf['class_density'].apply(parse_class_density).apply(pd.Series)\n",
        "\n",
        "# Step 3\n",
        "debt_base = idf['Poor'] * 7 + idf['Squalid'] * 15 - idf['Wealthy'] * 5\n",
        "idf['average_debt_by_household'] = (1 + debt_base * idf['tax_rate'])\n",
        "idf['average_debt_by_household'] = idf['average_debt_by_household'].clip(lower=0)  # Ensure no negative debt\n",
        "idf['average_debt_by_household'] = (idf['average_debt_by_household'] / idf['total_households']).fillna(0)\n",
        "\n",
        "# Ensure the total debt doesn't exceed hidden_economy\n",
        "idf['average_debt_by_household'] = idf['average_debt_by_household'].where(\n",
        "    idf['average_debt_by_household'] * idf['total_households'] <= idf['hidden_economy'],\n",
        "    idf['hidden_economy'] / idf['total_households']\n",
        ")\n",
        "\n",
        "# Drop temporary columns if necessary\n",
        "idf = idf.drop(columns=['Wealthy', 'Poor', 'Squalid', 'total_households'])\n"
      ],
      "metadata": {
        "id": "Mu5eRvdhbQe-"
      },
      "execution_count": null,
      "outputs": []
    },
    {
      "cell_type": "code",
      "source": [
        "idf['average_debt_by_household'].describe()"
      ],
      "metadata": {
        "colab": {
          "base_uri": "https://localhost:8080/"
        },
        "id": "OUqTmfL7hpUc",
        "outputId": "f72fb29a-b90a-4c1a-c0a6-368d2b6e7aba"
      },
      "execution_count": null,
      "outputs": [
        {
          "output_type": "execute_result",
          "data": {
            "text/plain": [
              "count    648.000000\n",
              "mean       1.346091\n",
              "std        4.783225\n",
              "min        0.000000\n",
              "25%        0.000000\n",
              "50%        0.004707\n",
              "75%        0.286589\n",
              "max       55.049743\n",
              "Name: average_debt_by_household, dtype: float64"
            ]
          },
          "metadata": {},
          "execution_count": 102
        }
      ]
    },
    {
      "cell_type": "code",
      "source": [
        "idf['average_debt_by_household'].head()"
      ],
      "metadata": {
        "colab": {
          "base_uri": "https://localhost:8080/"
        },
        "id": "I2vicXa3kGZU",
        "outputId": "f6d92df2-be1b-460f-b5ed-d44576fc61b9"
      },
      "execution_count": null,
      "outputs": [
        {
          "output_type": "execute_result",
          "data": {
            "text/plain": [
              "0    16.575067\n",
              "1     0.001408\n",
              "2     0.000000\n",
              "3     0.000000\n",
              "4     4.895190\n",
              "Name: average_debt_by_household, dtype: float64"
            ]
          },
          "metadata": {},
          "execution_count": 106
        }
      ]
    },
    {
      "cell_type": "code",
      "source": [
        "# Function to determine development_index based on conditions\n",
        "def assign_development_index(row):\n",
        "    options = ['region improvement', 'administration']\n",
        "    if row['military'] != 'None':\n",
        "        options.append('military support')\n",
        "\n",
        "    return random.choice(options)\n",
        "\n",
        "# Applying the function to each row in the DataFrame\n",
        "idf['development_index'] = idf.apply(assign_development_index, axis=1)\n",
        "\n",
        "# If you want each region to have the same development_index, you can group by region and then transform:\n",
        "idf['development_index'] = idf.groupby('region_kingdom')['development_index'].transform('first')"
      ],
      "metadata": {
        "id": "T2lF-orzncir"
      },
      "execution_count": null,
      "outputs": []
    },
    {
      "cell_type": "code",
      "source": [
        "df.info()"
      ],
      "metadata": {
        "colab": {
          "base_uri": "https://localhost:8080/"
        },
        "id": "OBY0gFeOnjcO",
        "outputId": "d5eef366-df77-4c8e-e417-61fadaba0002"
      },
      "execution_count": null,
      "outputs": [
        {
          "output_type": "stream",
          "name": "stdout",
          "text": [
            "<class 'pandas.core.frame.DataFrame'>\n",
            "RangeIndex: 648 entries, 0 to 647\n",
            "Data columns (total 27 columns):\n",
            " #   Column                      Non-Null Count  Dtype  \n",
            "---  ------                      --------------  -----  \n",
            " 0   settlement                  648 non-null    object \n",
            " 1   region_kingdom              648 non-null    object \n",
            " 2   capital                     648 non-null    object \n",
            " 3   settlement_population       648 non-null    int64  \n",
            " 4   settlement_economy          648 non-null    int64  \n",
            " 5   rumored_treasure_value      648 non-null    int64  \n",
            " 6   demographic_breakdown       648 non-null    object \n",
            " 7   average_age                 648 non-null    int64  \n",
            " 8   most_likely_cause_of_death  648 non-null    object \n",
            " 9   government_type             648 non-null    object \n",
            " 10  class_density               648 non-null    object \n",
            " 11  tax_rate                    648 non-null    int64  \n",
            " 12  exports                     647 non-null    object \n",
            " 13  imports                     623 non-null    object \n",
            " 14  ruler                       536 non-null    object \n",
            " 15  military                    622 non-null    object \n",
            " 16  magic_academy               648 non-null    object \n",
            " 17  languages                   646 non-null    object \n",
            " 18  religions                   645 non-null    object \n",
            " 19  region_population           648 non-null    int64  \n",
            " 20  region_economy              648 non-null    int64  \n",
            " 21  area                        365 non-null    float64\n",
            " 22  average_temperature         648 non-null    float64\n",
            " 23  annual_rainfall             648 non-null    float64\n",
            " 24  sources                     538 non-null    object \n",
            " 25  magical_climate             648 non-null    int64  \n",
            " 26  dragon_sightings            648 non-null    int64  \n",
            "dtypes: float64(3), int64(9), object(15)\n",
            "memory usage: 136.8+ KB\n"
          ]
        }
      ]
    },
    {
      "cell_type": "code",
      "source": [
        "import ast\n",
        "import numpy as np\n",
        "\n",
        "# Function to safely evaluate literals or return an empty dictionary on error\n",
        "def safe_literal_eval(text):\n",
        "    try:\n",
        "        return ast.literal_eval(text)\n",
        "    except (ValueError, SyntaxError):\n",
        "        return {}\n",
        "\n",
        "# Convert 'demographic_breakdown' column to dictionaries, replacing problematic entries with empty dictionaries\n",
        "df['demographic_breakdown'] = df['demographic_breakdown'].apply(lambda x: safe_literal_eval(x) if pd.notna(x) else {})\n",
        "\n",
        "# Convert 'class_density' column to dictionaries\n",
        "df['class_density'] = df['class_density'].apply(safe_literal_eval)\n",
        "\n",
        "# Convert 'government_type' to a list and replace the original column\n",
        "df['government_type'] = df['government_type'].apply(lambda x: [x])\n",
        "\n",
        "# Split 'religions' by commas and replace the original column\n",
        "df['religions'] = df['religions'].str.split(', ')\n",
        "\n",
        "# Split 'languages' by commas and replace the original column\n",
        "df['languages'] = df['languages'].str.split(', ')\n"
      ],
      "metadata": {
        "colab": {
          "base_uri": "https://localhost:8080/"
        },
        "id": "TEZeOApipk_O",
        "outputId": "96568bb6-5170-4d26-90d7-2d57e6f810c5"
      },
      "execution_count": null,
      "outputs": [
        {
          "output_type": "execute_result",
          "data": {
            "text/plain": [
              "0    36.6\n",
              "1    38.2\n",
              "2    44.6\n",
              "3    49.4\n",
              "4    43.3\n",
              "Name: annual_rainfall, dtype: float64"
            ]
          },
          "metadata": {},
          "execution_count": 134
        }
      ]
    },
    {
      "cell_type": "code",
      "source": [
        "# Mapping dictionary to standardize demographic categories\n",
        "demographic_mapping = {\n",
        "    'half-orcs': 'half-orcs',\n",
        "    'half-orc': 'half-orcs',\n",
        "    'dwarf': 'dwarves',\n",
        "    'half-elf': 'half-elves',\n",
        "    'elf': 'elves',\n",
        "    'gnoll': 'gnolls',\n",
        "    'giant': 'giants',\n",
        "    'tiefling': 'tieflings',\n",
        "    'goblin': 'goblins',\n",
        "    'human': 'humans',\n",
        "    'orc': 'orcs',\n",
        "}\n",
        "\n",
        "\n",
        "# Define a function to safely convert strings to dictionaries\n",
        "def safe_dict_conversion(value):\n",
        "    try:\n",
        "        return ast.literal_eval(value)\n",
        "    except (ValueError, SyntaxError):\n",
        "        return {}\n",
        "\n",
        "# Apply the safe_dict_conversion function to the 'demographic_breakdown' column\n",
        "df['demographic_breakdown'] = df['demographic_breakdown'].apply(safe_dict_conversion)\n",
        "\n",
        "# Filter out empty dictionaries\n",
        "df['demographic_breakdown'] = df['demographic_breakdown'].apply(lambda d: {} if not d else d)\n",
        "\n",
        "# Standardize demographic categories using the mapping dictionary\n",
        "def standardize_demographics(d):\n",
        "    return {\n",
        "        demographic_mapping.get(key, key): value for key, value in d.items()\n",
        "    }\n",
        "\n",
        "df['demographic_breakdown'] = df['demographic_breakdown'].apply(standardize_demographics)\n",
        "\n",
        "# Create a counter for demographic categories\n",
        "from collections import Counter\n",
        "\n",
        "all_demographics = []\n",
        "for d in df['demographic_breakdown']:\n",
        "    all_demographics.extend(d.keys())\n",
        "\n",
        "demographics_counter = Counter(all_demographics)\n",
        "\n",
        "# Print the unique keys and their counts\n",
        "for key, count in demographics_counter.items():\n",
        "    print(f'{key}: {count}')"
      ],
      "metadata": {
        "id": "l7GNlBvs-CCy"
      },
      "execution_count": null,
      "outputs": []
    },
    {
      "cell_type": "code",
      "source": [
        "# Export DataFrame to Excel\n",
        "df.to_excel(df_file_path, index=False)\n",
        "\n",
        "# Export the idf dataset to a CSV file\n",
        "#idf.to_csv('/content/drive/MyDrive/Colab Notebooks/DnD/idf_dataset.csv', index=False)\n",
        "\n",
        "print(f'DataFrame exported to: {df_file_path}')"
      ],
      "metadata": {
        "id": "bJoLExXu-Iu4",
        "colab": {
          "base_uri": "https://localhost:8080/"
        },
        "outputId": "95aab874-755b-4688-bc2a-33b86430b0f2"
      },
      "execution_count": null,
      "outputs": [
        {
          "output_type": "stream",
          "name": "stdout",
          "text": [
            "DataFrame exported to: /content/drive/MyDrive/Colab Notebooks/DnD/fictional_data.xlsx\n"
          ]
        }
      ]
    },
    {
      "cell_type": "code",
      "source": [
        "    data = {\n",
        "            \"Number of Landowners\": np.random.randint(1, 200),\n",
        "            \"Number of Homeowners\": np.random.randint(10, 10000),\n",
        "            \"Average Rent\": np.random.randint(1, 5000),\n",
        "            \"Likelihood of Getting Cursed\": np.random.randint(0, 10),\n",
        "            \"Danger Level\": np.random.randint(0, 10),\n",
        "            \"Openness to Strangers\": np.random.randint(0, 100),\n",
        "            \"Political Climate\": np.random.randint(0, 100),\n",
        "            \"Fate Ranking\": np.random.randint(0, 10),\n",
        "        }\n"
      ],
      "metadata": {
        "id": "uXEXqTrhm8oW"
      },
      "execution_count": null,
      "outputs": []
    },
    {
      "cell_type": "code",
      "source": [
        "# Adjusting Danger Level\n",
        "df['Danger Level'] = (\n",
        "    df['Dragon Sightings']\n",
        "    + df['Political Climate']\n",
        "    + df['Magical Climate']\n",
        "    + df['Likelihood of Getting Cursed']\n",
        "    + df['Tax Rate']\n",
        "    + df['Average Debt by Household']\n",
        "    + df['Rumored Treasure Value']\n",
        "    + df['Openness to Strangers'].apply(lambda x: 10 if x <= 2.5 or x >= 7.5 else 0)\n",
        ").astype(int)\n",
        "\n",
        "# Increase \"Danger Level\" if Orcs are present\n",
        "df.loc[df['Percentage of population Orcs'] > 0, 'Danger Level'] += 1\n",
        "\n",
        "# Decrease \"Danger Level\" if Elves are present\n",
        "df.loc[df['Percentage of population Elves'] > 0, 'Danger Level'] -= 1\n",
        "\n",
        "# Adjusting Danger Level based on the presence of Orcs and Elves\n",
        "df['Danger Level'] = df.apply(lambda row: np.random.randint(1, 11)\n",
        "                                          + (3 if row['Percentage of population Orcs'] > 0 else 0)\n",
        "                                          - (2 if row['Percentage of population Elves'] > 0 else 0), axis=1)\n",
        "\n",
        "# Adjusting Openness to Strangers\n",
        "df['Openness to Strangers'] = df.apply(lambda row: np.random.randint(0, 11)\n",
        "                                                   - (3 if row['Percentage of population Elves'] > 0\n",
        "                                                       or row['Percentage of population Orcs'] > 0 else 0), axis=1)\n",
        "\n",
        "# Adjusting Magical Climate\n",
        "df['Magical Climate'] = df.apply(lambda row: row['Magical Climate']\n",
        "                                             + (row['Percentage of population Elves'] / 100 * 2)\n",
        "                                             + (row['Dragon Sightings'] / 10)\n",
        "                                             + row['Number of Active Wizards'], axis=1)\n",
        "\n",
        "# Pre-calculation of sum values\n",
        "grouped = df.groupby('Region')\n",
        "region_gold_mapping = grouped[['Active Economy (Gold)', 'Hidden Economy (Gold)']].sum(numeric_only=True).sum(axis=1)\n",
        "df['Total Gold in Region'] = df['Region'].map(region_gold_mapping)\n",
        "\n",
        "# Main DataFrame Manipulations\n",
        "df['Dragon Sightings'] = df.apply(calculate_dragon_sightings, axis=1)\n",
        "df['Dragon Sightings'] = ((df['Dragon Sightings'] - df['Dragon Sightings'].min()) /\n",
        "                          (df['Dragon Sightings'].max() - df['Dragon Sightings'].min()) * 50).astype(int)\n",
        "\n",
        "df['Average Age of Population'] = df.apply(lambda row: calculate_average_age(row, species_age_ranges), axis=1)\n",
        "df['Average Age of Population'] -= df['Danger Level'] * 0.5\n",
        "df['Average Age of Population'] = df['Average Age of Population'].clip(lower=1)\n",
        "\n",
        "df['Hidden Economy (Gold)'] = df['Number of Nobility'] * 1e4\n",
        "df['Openness to Strangers'] = df.apply(calculate_openness_to_strangers, axis=1)\n",
        "\n",
        "# Adjusting population distribution for specific species across cities\n",
        "def adjust_population_distribution(df, species, percentage, city_count):\n",
        "    total_population = df['Population of City'].sum()\n",
        "    target_population = int(total_population * (percentage / 100))\n",
        "    selected_cities = df.sample(city_count)\n",
        "    each_city_population = target_population // city_count\n",
        "    for i, city in selected_cities.iterrows():\n",
        "        df.at[i, f'Percentage of population {species}'] = (each_city_population / city['Population of City']) * 100\n",
        "\n",
        "# Adjusting Economy Distribution\n",
        "total_active_economy = np.sum(df['Active Economy (Gold)'])\n",
        "top_10_cities_active_economy = total_active_economy * 0.50\n",
        "next_100_cities_active_economy = total_active_economy * 0.25\n",
        "remaining_cities_active_economy = total_active_economy * 0.25\n",
        "\n",
        "# Known Treasure and Rumored Treasure Calculations\n",
        "df['Known Treasure'] = df['Active Economy (Gold)'] * 0.50\n",
        "df['Rumored Treasure'] = (df['Active Economy (Gold)'] * 0.50) + df['Hidden Economy (Gold)']\n",
        "\n",
        "# Adjusting Political Climate and Fate Ranking\n",
        "df['Wizarding School'] = np.random.choice(['yes', 'no'], num_cities)\n",
        "df['Number of Homeowners'] = (df['Population of City'] * np.random.uniform(0.5, 0.7)).astype(int)\n",
        "df['Average Rent'] = np.random.uniform(500, 2000, num_cities)\n",
        "df['Average Age of Population'] = np.random.uniform(25, 70, num_cities)\n",
        "df['Known Treasure Value'] = np.random.uniform(0, 1e6, num_cities)\n",
        "\n",
        "# Adjust the tax rate based on the number of nobility\n",
        "df['Tax Rate'] = df.apply(lambda row: 0 if row['Number of Nobility'] == 0 else row['Tax Rate'], axis=1)\n",
        "\n",
        "# (You need to define 'Average Debt by Household' and 'Rumored Treasure Value' before using them in the next formula)\n",
        "df['Political Climate'] = (df['Tax Rate'] + df['Number of Homeowners']/df['Population of City'] +\n",
        "                              df['Average Rent']/2000 + df['Average Debt by Household']/1e4 +\n",
        "                              df['Average Age of Population']/70 + df['Hidden Economy (Gold)']/1e6 +\n",
        "                              df['Known Treasure Value']/1e6 + df['Rumored Treasure Value']/1e6) / 8\n",
        "\n",
        "df['Fate ranking'] = (df['Rumored Treasure Value'] / 1e6) + np.where(df['Wizarding School'] == 'yes', 1, 0) + df['Political Climate']"
      ],
      "metadata": {
        "id": "fDLKtPU2fbHB"
      },
      "execution_count": null,
      "outputs": []
    },
    {
      "cell_type": "code",
      "source": [
        "# File path\n",
        "df_file_path = '/content/drive/MyDrive/Colab Notebooks/DnD/fictional_data.xlsx'\n",
        "pf_file_path = '/content/drive/MyDrive/Colab Notebooks/DnD/points.xlsx'\n",
        "\n",
        "# Read the Excel file into a DataFrame\n",
        "df = pd.read_excel(df_file_path)\n",
        "# Read the Excel file into a DataFrame\n",
        "pf = pd.read_excel(pf_file_path)"
      ],
      "metadata": {
        "id": "Ohj-o8AXWwfj"
      },
      "execution_count": null,
      "outputs": []
    },
    {
      "cell_type": "code",
      "source": [
        "pf.info()"
      ],
      "metadata": {
        "id": "mmiL5NuCXnOP",
        "colab": {
          "base_uri": "https://localhost:8080/"
        },
        "outputId": "3ddf51b9-e707-43bd-da4d-794d890d1c84"
      },
      "execution_count": null,
      "outputs": [
        {
          "output_type": "stream",
          "name": "stdout",
          "text": [
            "<class 'pandas.core.frame.DataFrame'>\n",
            "RangeIndex: 427 entries, 0 to 426\n",
            "Data columns (total 5 columns):\n",
            " #   Column   Non-Null Count  Dtype  \n",
            "---  ------   --------------  -----  \n",
            " 0   Id       427 non-null    int64  \n",
            " 1   NAME     426 non-null    object \n",
            " 2   TYPE     427 non-null    object \n",
            " 3   POINT_X  427 non-null    float64\n",
            " 4   POINT_Y  427 non-null    float64\n",
            "dtypes: float64(2), int64(1), object(2)\n",
            "memory usage: 16.8+ KB\n"
          ]
        }
      ]
    },
    {
      "cell_type": "code",
      "source": [
        "# Step 1: Create a list of unique values from both columns\n",
        "unique_df = df['settlement'].unique()\n",
        "unique_pf = pf['NAME'].unique()\n",
        "\n",
        "# Step 2: Find the count of common elements\n",
        "common_count = len(set(unique_df).intersection(unique_pf))\n",
        "\n",
        "# Step 3: Create two new DataFrames\n",
        "common_elements = sorted(list(set(unique_df).intersection(unique_pf)))\n",
        "found_in_dataframe = []\n",
        "\n",
        "# Populate the 'found_in_dataframe' list\n",
        "for element in common_elements:\n",
        "    if element in unique_df and element in unique_pf:\n",
        "        found_in_dataframe.append('df and pf')\n",
        "    elif element in unique_df:\n",
        "        found_in_dataframe.append('df')\n",
        "    else:\n",
        "        found_in_dataframe.append('pf')\n",
        "\n",
        "# Create a new DataFrame to store the results\n",
        "results_df = pd.DataFrame({'Element': common_elements, 'Found In': found_in_dataframe})\n",
        "\n",
        "# Print the count of common elements and the results DataFrame\n",
        "print(\"Count of common elements:\", common_count)\n",
        "print(\"Results DataFrame:\")\n",
        "print(results_df)"
      ],
      "metadata": {
        "colab": {
          "base_uri": "https://localhost:8080/"
        },
        "id": "tKrFJbPSrzv2",
        "outputId": "cfd74f72-497d-4f5d-aff8-f0c0fe285e59"
      },
      "execution_count": null,
      "outputs": [
        {
          "output_type": "stream",
          "name": "stdout",
          "text": [
            "Count of common elements: 156\n",
            "Results DataFrame:\n",
            "        Element   Found In\n",
            "0         Abbor  df and pf\n",
            "1       Achelar  df and pf\n",
            "2       Alathil  df and pf\n",
            "3           Alu  df and pf\n",
            "4       Amphail  df and pf\n",
            "..          ...        ...\n",
            "151  Withermeet  df and pf\n",
            "152     Wyngate  df and pf\n",
            "153        Zhal  df and pf\n",
            "154       Zolum  df and pf\n",
            "155     Zoundar  df and pf\n",
            "\n",
            "[156 rows x 2 columns]\n"
          ]
        }
      ]
    },
    {
      "cell_type": "code",
      "source": [
        "# Convert elements to strings\n",
        "df['settlement'] = df['settlement'].astype(str)\n",
        "pf['NAME'] = pf['NAME'].astype(str)\n",
        "\n",
        "# Step 1: Find elements unique to each list\n",
        "unique_df = set(df['settlement'].unique())\n",
        "unique_pf = set(pf['NAME'].unique())\n",
        "\n",
        "elements_only_in_df = sorted(list(unique_df - unique_pf))\n",
        "elements_only_in_pf = sorted(list(unique_pf - unique_df))\n",
        "\n",
        "# Step 2: Create two new DataFrames\n",
        "df_elements_df = pd.DataFrame({'Element': elements_only_in_df, 'Found In': 'df'})\n",
        "pf_elements_df = pd.DataFrame({'Element': elements_only_in_pf, 'Found In': 'pf'})\n",
        "\n",
        "# Concatenate the two DataFrames\n",
        "results_df = pd.concat([df_elements_df, pf_elements_df]).reset_index(drop=True)\n",
        "\n",
        "# Print the results DataFrame\n",
        "print(\"Elements only in df:\")\n",
        "print(elements_only_in_df)\n",
        "print(\"Elements only in pf:\")\n",
        "print(elements_only_in_pf)\n",
        "print(\"Results DataFrame:\")\n",
        "print(results_df)"
      ],
      "metadata": {
        "colab": {
          "base_uri": "https://localhost:8080/"
        },
        "id": "pEajIumXtXgg",
        "outputId": "65f9f717-3379-4201-8a4d-3d412a650ab1"
      },
      "execution_count": null,
      "outputs": [
        {
          "output_type": "stream",
          "name": "stdout",
          "text": [
            "Elements only in df:\n",
            "['Abreon', 'Aina', 'Airspur', 'Aithelar', 'Akanax', 'Alaghôn', 'Almraiven', 'Aluarim', 'Ammathluir', 'Amnwater', 'Amruthar', 'Anchoril', 'Antlerbones', 'Arabel', 'Arevar', 'Arn’s Cove', 'Athkatla', 'Ayakar', \"Baldur's Gate\", 'Banshivale', 'Bathmé', 'Battlerise', 'Beluir', 'Besert', 'Bezantur', 'Bildoobaris', 'Bistal’s Bottom', 'Blackstone', 'Bloodstone Gate', 'Bloodstone Town', 'Blumberg', 'Blythe', 'Bogbrook', 'Borah', 'Borgar’s Mill', 'Borth', 'Bospir', 'Bounty', 'Brannoch', 'Bray', 'Bromtor', 'Brost', 'Brotha', 'Caer Callidyrr', 'Caer Corwell', 'Caer Moray', 'Caer Westphal', 'Caervu', 'Calimport', 'Cambro', 'Castle Crag', 'Cayr Thalwood', 'Chethel', 'Cimbar', 'Citadel Adbar', 'Citadel Amnur', 'Citadel Felbarr', 'Citadel Rashturl', 'Cobh', 'Codfin', 'Codscove', 'Colbertann', 'Coryllvol', 'Crimel', 'Crimmor', 'Culdorn', 'Curstallyon', 'Cuthbert Castle', 'Daerlun', 'Dahst', 'Daraqadim', 'Dark Redoubt', 'Darluj', 'Daroush', 'Darromar', 'Dhedluk', 'Dilpur', 'Djannath', 'Dlusk', 'Doncastle', 'Dorset', 'Dreamer’s Rock', 'Drelagara', 'Dultann', 'Dungar', 'Dunod', 'Dynnatt', 'Dynnegall', 'Elbencourt', 'Elchul', 'Elion', 'Eltabbar', 'Elyssyrr', 'Emmech', 'Erebos', 'Erial', 'Escalant', 'Esdul', 'Eshpurta', 'Esmeltaran', 'Espar', 'Everlund', 'Evermeet', 'Faerie Well', 'Farr Windward', 'Farview', 'Fasruil', 'Fenton', 'Filur', 'Firetrees', 'Five Lions', 'Fort Agis', 'Fort Calim', 'Fort Teqlar', 'Fullpoint', 'Furthinghome', 'Gaj', 'Gambiton', 'Ghars', 'Gheldaneth', 'Gildenglade', 'Gladehap', 'Glarondar', 'Goldspires', 'Goliad', 'Gorthin', 'Grapton', 'Greyhome', 'Greyshield', 'Grimstad', 'Gundbarg', 'Halabar', 'Halagard', 'Halarahh', 'Halazé', 'Halendos', 'Halfhap', 'Hamphal', 'Harloch', 'Hartwick', 'Heliogabalus', 'Heptios', 'Hickorydale', 'High Horn', 'Highhome', 'Highrock', 'Hillfort Ishla', 'Hillfort Keshla', 'Hillfort Torbold', 'Hlammach', 'Hoarbridge', 'Holdensword', 'Holgerstead', 'Holyhead', 'Horsa', 'Horst', 'Horstall', 'Hyoclaatl', 'Illowwood', 'Ilmwatch', 'Ilyaport', 'Ingdal’s Arm', 'Inkar', 'Ironcloak', 'Ironfang Deep', 'Ithal Pass', 'Ithmong', 'Iumathiashae', 'Jathrin’s Jump', 'Jhaansciim', 'Juniril', 'Kallamarn', 'Kaoll', 'Karthoon', 'Keczulla', 'Keltar', 'Khaerbaal', 'Khanall', 'Kielbast', 'Kirgard', 'Kirinwood', 'Kithyym', 'Knightswood', 'Koart', 'Kork', 'Krenadir', 'Krennasar', 'Kythyss', 'Kzelter', 'Lapalgard', 'Lath', 'Lehigh', 'Lethtar', 'Leuthilspar', 'Lhazantal', 'Lhestyn’s Hearth', 'Llewellyn', 'Lluirvale', 'Loranse', 'Lowhill', 'Lushpool', 'Luskan', 'Luthcheq', 'Lyllburg', 'Lyrabar', 'MacSheehan', 'Maerass', 'Maerduuth', 'Maerlar', 'Maerzalar', 'Mairb', 'Malaxer', 'Manger', 'Manshaka', 'Marakir', 'Maratimmir', 'Marsark’s Grove', 'Marsember', 'Martass', 'Masamount', 'Memnon', 'Merkurn', 'Messemprar', 'Mierskar', 'Milvarune', 'Mintarn', 'Mirabar', 'Mishtan', 'Mithral Hall', 'Mithtar', 'Monguldarath', 'Monksblade', 'Moonhunt Down', 'Mordulkin', 'Morninggold Keep', 'Morningstar Hollows', 'Mount Noblesse', 'Mouth O’ Gargoyles', 'Mulhessen', 'Murann', 'Murbant', 'Myratma', 'Myrrdale', 'Myth Dyraalis', 'Nar-Sek Qu’encesta', 'Nar-Sek Qu’istrade', 'Nar-Sek Qu’tel', 'Nashkel', 'Naupau', 'Neldorild', 'Nesmyth', 'Neverwinter', 'Newfort', 'Nimith', 'Nimlith', 'Nimsur', 'Nomerritin', 'Nonthal', 'Nurethretos', 'Nyth', 'N’Jast', 'Oberiner’s Well', 'Ongul’s Water', 'Ordulin', 'Orithar', 'Orlumbor', 'Ormen', 'Ormpur', 'Osker', 'Oslin', 'Otennath', 'O’Malley', 'Pandrik', 'Pansemil', 'Peldrathan’s Pool', 'Pembroke', 'Phandalin', 'Phsant', 'Pick ‘n’ Axe', 'Pontswain', 'Port Kir', 'Portith', 'Praka', 'Purskul', 'Pyrados', 'Qian Hillfort', 'Quaervaar', 'Quarrelshigh', 'Quorngar', 'Rauthaven', 'Ravensburg', 'Ravilar’s Cloak', 'Red Haven', 'Regalia', 'Regents Field', 'Relgar’s Ford', 'Relkath’s Foot', 'Rethgaard', 'Riatavin', 'Rivermoot', 'Rock Orchard', 'Rodanar', 'Ruathym', 'Ruba', 'Ruith', 'Rulasuu', 'Rwamphaler', 'Sadamzar', 'Saden', 'Saerb', 'Saerloon', 'Saharkhan', 'Sambar', 'Sambryntyn', 'Samek', 'Sammaresh', 'Samnur', 'Saradush', 'Sarshel', 'Schamedar', 'Scimitar', 'Selgaunt', 'Selpir', 'Shatar', 'Sheirlantar', 'Sheirtalar', 'Shelshyr House', 'Shoun', 'Shussel', 'Silverymoon', 'Skuld', 'Smuggler’s Stone', 'Snowcap', 'Sombor', 'Soolabax', 'Soorenar', 'Ssintar', 'Stag Steads', 'Starfall', 'Storaad', 'Sulaziir', 'Suldolphor', 'Sulduskoonar', 'Sultim', 'Sumbrar', 'Sundabar', 'Sundrah', 'Sunset Hill', 'Surd', 'Surthay', 'Survale Ford', 'Suthaven', 'Suzail', 'Swordslake Creek', 'Talathgard', 'Taltempla', 'Tammar', 'Tamring', 'Tannitton', 'Teshburl', 'Tetauctaa', 'Tethmor', 'Tezir-on-the-Marsh', 'Tharqualnaar', 'Thassalra', 'Thasselen', 'Thayguard', 'Thazrumaros', 'Thorndyke', 'Three Horns', 'Throne Rock', 'Tilverton', 'Toaketh', 'Toralth', 'Toreus', 'Trademeet', 'Trailsend', 'Trailstone', 'Tulach', 'Tulbegh', 'Tulmene', 'Tweyar', 'Two-Stars', 'Tyraturos', 'T’Quession', 'Uarhold', 'Ulf of Thuger', 'Ulver’s Lance', 'Unthalass', 'Upparkol', 'Urmlaspyr', 'Urve', 'Uttersea', 'Uzurr', 'Valtreth', 'Velen', 'Velorn’s Valor', 'Velprintalar', 'Vilkstead', 'Villon', 'Vindal', 'Viperstongue', 'Virdin', 'Vollermore', 'Volothamp', 'Wassen', 'Waterdeep', 'Waymoot', 'Wendel Manor', 'Wheloon', 'White Rock', 'Whitebranch', 'Windless', 'Windward Town', 'Wormtower', 'Wynn Castle', 'Wyvernstone', 'Xorhun', 'Yartar', 'Yaulazna', 'Yeoman Bridge', 'Yhaunn', 'Yuthgalaunt', 'Zalazuu', 'Zarach', 'Zashuma', 'Zazesspur', 'Zinner', 'Zundbridge', 'Zustild', 'Zzuntal']\n",
            "Elements only in pf:\n",
            "['Accardi', 'Addas Babar', 'Ahtitlak', 'Aima', 'Alzayat', 'Amruuthar', 'Anga Vled', 'Antoumek', 'Archtassel', \"Arn's Cove\", 'Arrowmark', 'Arush Vayem', 'Ashabenford', 'Aunthurr', 'Aurilssbarg', 'Avang', 'Avery', 'Aztul', 'Balaj', 'Baraskar', 'Bargewright Inn', 'Beacon Cairn', 'Black Skull Cove', 'Blackfeather Bridge', 'Blackford Crossing', 'Blackhill', 'Bloodstone Village', 'Bowshot', 'Brahms', 'Brean', 'Bremen', 'Brightfields', \"Brogar's Mill\", 'Budennov', 'Caer-Dineval', 'Caer-Konig', 'Calling Horns', 'Caradoon', 'Chandlers Cross', 'Channathgate', 'Chastel', 'Citadel Felberr', 'City of th dead', 'Coryllovol', 'Culmaster', 'Dagger Falls', 'Dalabad Oasis', 'Dallnotham', 'Dannash', 'Delbyl', 'Delthhuntle', 'Dilusk', 'Diyala', 'Dmir', \"Dougan's Hole\", 'Dragon Falls', 'Drubiev', 'Druidhome', 'Dungrunglung', 'Durgatch', 'Eagle Peak', 'Eastwatch', 'Ebyuluich', 'Eichul', 'Elevencrossing', 'Elmwood', 'Emequ', 'Ethdil', 'Etuabe', 'Fast Haven', 'Feather Falls', 'Foyen', 'Fudok', 'Funearil', 'Furrowsrich', \"Gillian's Hill\", 'Glaun', 'Glister', 'Gnarhelm', 'Gomwemk', 'Good Mead', 'Gotokok', 'Graumot', \"Gref's Ferry\", 'Greystaad', 'Griffon Hill', 'Gronne', 'Gundar', 'Gust', 'Gwarch', 'Halaze', 'Halfcrag', 'Hammerstaad', 'Hap', 'Hashimyl', 'Hethar', 'Holldaybim', \"Howser's Mine\", 'Huplik', 'Hykopgruk', 'Ilinvur', 'Imajuvisik', 'Ingdal Arm', 'Ioma Town', 'Isa', 'Iseasan', 'Isenghack', 'Ishe', 'Iskashyoll', 'Jajam', \"Jarhin's Jump\", 'Jerdin', 'Jukum', 'Julkoun', 'Junirill', 'Jurash', 'Kheudell', 'Kholmethi', 'Khuld', 'Kilastann', 'Klandle', 'Kond', 'Koyoss', 'Kresttet', 'Kront', 'Kythyym', 'Ladydove', 'Lasdur', \"Latharl's Lantern\", 'Leilon', 'Lethatar', 'Lethgate', \"Liam's Hold\", 'Liandrain', 'Lilinuk', 'Lillemaren', 'Lonelywood', 'Lundeth', \"Maloren's Rest\", 'Maria B', 'Mavalgard', 'Meadowhome', 'Merkun', 'Mines of Tethkel', 'Mistrenpost', 'Mithatar', 'Modurt', 'Moor Town', \"Mornbryn's Shield\", 'Morten', 'Mulharahold', 'Mulsantir', 'Murmaan', 'Murpeth', 'Nlintar', \"Noanar's Hold\", 'Nobis', 'Nuthretos', \"Oberiner's Well\", 'Old Axe', \"Ondle's Spur\", 'Orpher', 'Patatak', \"Peldan's Helm\", 'Port Llast', 'Port Of Skaug', 'Priapurl', 'Pros', 'Psamma', 'Purl', 'Puttak', \"Qheldin's Mask\", 'Quorangar', 'Rassatan', 'Rastaal', 'Rautham', 'Ravensburb', \"Ravilar's Cloak\", 'Red Larch', 'Redwater', 'Regalla', \"Relgar's Ford\", 'Rethmar', 'Rhamdhal', 'River Moot', 'Rlthar', 'Roaringshore', 'Ruinspke', 'Rume', 'Samagard', 'Scarsdeep', 'Seawolf', 'Shalar', 'Shallain Freehold', 'Sharin Freehold', 'Shevel', 'Siksuv', 'Sker', 'Skull Crag', 'Skullwatch', 'Skultan', \"Smuggler's Stone\", 'Snokkok', 'Solin', 'Somraggah', 'Sordal', 'Sorl', 'Stormpemhauder', 'Strelsi', 'Sughra', 'Sulazir', 'Sundal', 'Surcross', 'Taj', 'Taporan', 'Targos', 'Taskaunt', 'Tasselheart', \"Tegal's Mark\", 'Tel Badir', 'Termalaine', 'Tezir', 'Thalathat', 'Thasunta', 'Thazar Umaros', 'The Five Lions', 'Theis', 'Theth', \"Thradulf's Camp\", 'Three Horn', 'Threlloch', 'Timarl', 'Tinnir', 'Triboar', 'Triel', 'Tukk', 'Tuulish', 'Two Stars', 'Udurewok', 'Ulara', \"Ulgoth's Beard\", 'Uluvin', \"Ulver's Lance\", 'Umarah', 'Umbthal', 'Urbryur', 'Urling', 'Ustan', 'Ustann', 'Utul', 'Vaerluth', 'Vekkak', 'Voonlar', 'Vurpar', 'Weartikak', 'Westbay', 'Westbridge', 'Wolmads Camp', 'Womford', 'Worm Tower', \"Wright's Ferry\", 'Yarthrain', 'Yellyark', 'Yeshelmaar', 'Yinntut', 'Zarthul', 'Zelbross', 'Zzunthal', 'nan']\n",
            "Results DataFrame:\n",
            "      Element Found In\n",
            "0      Abreon       df\n",
            "1        Aina       df\n",
            "2     Airspur       df\n",
            "3    Aithelar       df\n",
            "4      Akanax       df\n",
            "..        ...      ...\n",
            "695   Yinntut       pf\n",
            "696   Zarthul       pf\n",
            "697  Zelbross       pf\n",
            "698  Zzunthal       pf\n",
            "699       nan       pf\n",
            "\n",
            "[700 rows x 2 columns]\n"
          ]
        }
      ]
    },
    {
      "cell_type": "code",
      "source": [
        "# Convert elements to strings\n",
        "df['settlement'] = df['settlement'].astype(str)\n",
        "pf['NAME'] = pf['NAME'].astype(str)\n",
        "\n",
        "# Step 1: Find elements unique to each list\n",
        "unique_df = set(df['settlement'].unique())\n",
        "unique_pf = set(pf['NAME'].unique())\n",
        "\n",
        "elements_only_in_pf = sorted(list(unique_pf - unique_df))\n",
        "\n",
        "# Step 2: Add elements only in pf to df\n",
        "df = pd.concat([df, pd.DataFrame({'settlement': elements_only_in_pf})], ignore_index=True)\n",
        "\n",
        "# Sort the DataFrame by the 'settlements' column\n",
        "df = df.sort_values(by='settlement').reset_index(drop=True)\n",
        "\n",
        "df.info()"
      ],
      "metadata": {
        "colab": {
          "base_uri": "https://localhost:8080/"
        },
        "id": "jS5Af9qRu6Pp",
        "outputId": "e53018c3-a9f7-4d4e-e08a-51065c45d32b"
      },
      "execution_count": null,
      "outputs": [
        {
          "output_type": "stream",
          "name": "stdout",
          "text": [
            "<class 'pandas.core.frame.DataFrame'>\n",
            "RangeIndex: 917 entries, 0 to 916\n",
            "Data columns (total 27 columns):\n",
            " #   Column                      Non-Null Count  Dtype  \n",
            "---  ------                      --------------  -----  \n",
            " 0   settlement                  917 non-null    object \n",
            " 1   region_kingdom              648 non-null    object \n",
            " 2   capital                     648 non-null    object \n",
            " 3   settlement_population       648 non-null    float64\n",
            " 4   settlement_economy          648 non-null    float64\n",
            " 5   rumored_treasure_value      648 non-null    float64\n",
            " 6   demographic_breakdown       648 non-null    object \n",
            " 7   average_age                 648 non-null    float64\n",
            " 8   most_likely_cause_of_death  648 non-null    object \n",
            " 9   government_type             648 non-null    object \n",
            " 10  class_density               648 non-null    object \n",
            " 11  tax_rate                    648 non-null    float64\n",
            " 12  exports                     647 non-null    object \n",
            " 13  imports                     623 non-null    object \n",
            " 14  ruler                       536 non-null    object \n",
            " 15  military                    648 non-null    object \n",
            " 16  magic_academy               648 non-null    object \n",
            " 17  languages                   646 non-null    object \n",
            " 18  religions                   645 non-null    object \n",
            " 19  region_population           648 non-null    float64\n",
            " 20  region_economy              648 non-null    float64\n",
            " 21  area                        365 non-null    float64\n",
            " 22  average_temperature         648 non-null    float64\n",
            " 23  annual_rainfall             648 non-null    float64\n",
            " 24  magical_climate             648 non-null    float64\n",
            " 25  dragon_sightings            648 non-null    float64\n",
            " 26  sources                     538 non-null    object \n",
            "dtypes: float64(12), object(15)\n",
            "memory usage: 193.6+ KB\n"
          ]
        }
      ]
    },
    {
      "cell_type": "code",
      "source": [],
      "metadata": {
        "id": "Xcz_-3Zn7pL4"
      },
      "execution_count": null,
      "outputs": []
    }
  ]
}